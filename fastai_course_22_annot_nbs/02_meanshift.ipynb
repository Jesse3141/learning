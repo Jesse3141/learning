{
 "cells": [
  {
   "cell_type": "markdown",
   "metadata": {},
   "source": [
    "# Clustering"
   ]
  },
  {
   "cell_type": "markdown",
   "metadata": {},
   "source": [
    "Clustering techniques are unsupervised learning algorithms that try to group unlabelled data into \"clusters\", using the (typically spatial) structure of the data itself. It has many [applications](https://en.wikipedia.org/wiki/Cluster_analysis#Applications).\n",
    "\n",
    "The easiest way to demonstrate how clustering works is to simply generate some data and show them in action. We'll start off by importing the libraries we'll be using today."
   ]
  },
  {
   "cell_type": "code",
   "execution_count": 1,
   "metadata": {},
   "outputs": [],
   "source": [
    "import math, matplotlib.pyplot as plt, operator, torch\n",
    "from functools import partial"
   ]
  },
  {
   "cell_type": "code",
   "execution_count": 2,
   "metadata": {},
   "outputs": [
    {
     "name": "stdout",
     "output_type": "stream",
     "text": [
      "/home/jesse/lab/fastai/course22p2/fastai2022/.venv/bin/python\n"
     ]
    }
   ],
   "source": [
    "#check which interprter\n",
    "\n",
    "import sys\n",
    "print(sys.executable)"
   ]
  },
  {
   "cell_type": "code",
   "execution_count": 3,
   "metadata": {},
   "outputs": [],
   "source": [
    "torch.manual_seed(42)\n",
    "torch.set_printoptions(precision=3, linewidth=140, sci_mode=False)"
   ]
  },
  {
   "cell_type": "markdown",
   "metadata": {},
   "source": [
    "## things to remember\n",
    "\n",
    "partials: creates a copy of a func with a set value of an input. \n",
    "\n",
    "\n",
    "create animations:\n",
    "from matplotlib.animation import FuncAnimation\n",
    "from IPython.display import HTML\n",
    "    - createa func which does one round and then clear plot"
   ]
  },
  {
   "cell_type": "markdown",
   "metadata": {},
   "source": [
    "## Create data"
   ]
  },
  {
   "cell_type": "code",
   "execution_count": 4,
   "metadata": {},
   "outputs": [],
   "source": [
    "n_clusters=6\n",
    "n_samples =250"
   ]
  },
  {
   "cell_type": "markdown",
   "metadata": {},
   "source": [
    "To generate our data, we're going to pick 6 random points, which we'll call centroids, and for each point we're going to generate 250 random points about it."
   ]
  },
  {
   "cell_type": "code",
   "execution_count": 5,
   "metadata": {
    "scrolled": true
   },
   "outputs": [
    {
     "data": {
      "text/plain": [
       "tensor([[ 26.759,  29.050],\n",
       "        [ -8.200,  32.151],\n",
       "        [ -7.669,   7.063],\n",
       "        [-17.040,  20.555],\n",
       "        [ 30.854, -25.677],\n",
       "        [ 30.422,   6.551]])"
      ]
     },
     "execution_count": 5,
     "metadata": {},
     "output_type": "execute_result"
    }
   ],
   "source": [
    "centroids = torch.rand(n_clusters, 2)*70-35\n",
    "centroids"
   ]
  },
  {
   "cell_type": "code",
   "execution_count": 6,
   "metadata": {},
   "outputs": [],
   "source": [
    "from torch.distributions.multivariate_normal import MultivariateNormal\n",
    "from torch import tensor"
   ]
  },
  {
   "cell_type": "code",
   "execution_count": 7,
   "metadata": {},
   "outputs": [],
   "source": [
    "#create a multivariate dist with two variables: the coords of the centroid. \n",
    "# intiatlise a covariance matrix. in this case a diagonal matrix: [5,0],[0,5] meaning that each variable has a variance of 5, and there is no covariation. \n",
    "# then sample n_samples from the dist. \n",
    "#finally sample((n_samples,)) is because pytorch expects a tuple when sampling: (n samples, shape of return = shape of dist)\n",
    "\n",
    "def sample(m): return MultivariateNormal(m, torch.diag(tensor([5.,5.]))).sample((n_samples,))"
   ]
  },
  {
   "cell_type": "code",
   "execution_count": 8,
   "metadata": {},
   "outputs": [
    {
     "data": {
      "text/plain": [
       "tensor([-8.200, 32.151])"
      ]
     },
     "execution_count": 8,
     "metadata": {},
     "output_type": "execute_result"
    }
   ],
   "source": [
    "centroids[1]"
   ]
  },
  {
   "cell_type": "code",
   "execution_count": 9,
   "metadata": {},
   "outputs": [
    {
     "data": {
      "text/plain": [
       "(tensor([[5., 0.],\n",
       "         [0., 5.]]),\n",
       " tensor([5., 5.]))"
      ]
     },
     "execution_count": 9,
     "metadata": {},
     "output_type": "execute_result"
    }
   ],
   "source": [
    "torch.diag(tensor([5.,5.])),tensor([5.,5.])"
   ]
  },
  {
   "cell_type": "code",
   "execution_count": 10,
   "metadata": {},
   "outputs": [
    {
     "data": {
      "text/plain": [
       "tensor([[-3.262, 30.725],\n",
       "        [-7.167, 32.749],\n",
       "        [-7.003, 33.961]])"
      ]
     },
     "execution_count": 10,
     "metadata": {},
     "output_type": "execute_result"
    }
   ],
   "source": [
    "MultivariateNormal(centroids[1], torch.diag(tensor([5.,5.]))).sample((3,))"
   ]
  },
  {
   "cell_type": "code",
   "execution_count": 11,
   "metadata": {},
   "outputs": [
    {
     "data": {
      "text/plain": [
       "(3,)"
      ]
     },
     "execution_count": 11,
     "metadata": {},
     "output_type": "execute_result"
    }
   ],
   "source": [
    "(3,)"
   ]
  },
  {
   "cell_type": "code",
   "execution_count": 12,
   "metadata": {},
   "outputs": [
    {
     "data": {
      "text/plain": [
       "(torch.Size([1500, 2]),\n",
       " tensor([[27.555, 27.515],\n",
       "         [25.656, 29.590]]))"
      ]
     },
     "execution_count": 12,
     "metadata": {},
     "output_type": "execute_result"
    }
   ],
   "source": [
    "slices = [sample(c) for c in centroids]\n",
    "data = torch.cat(slices)\n",
    "data.shape, data[:2]"
   ]
  },
  {
   "cell_type": "markdown",
   "metadata": {},
   "source": [
    "Below we can see each centroid marked w/ X, and the coloring associated to each respective cluster."
   ]
  },
  {
   "cell_type": "code",
   "execution_count": 13,
   "metadata": {},
   "outputs": [],
   "source": [
    "def plot_data(centroids, data, n_samples, ax=None):\n",
    "    if ax is None: _,ax = plt.subplots()\n",
    "    for i, centroid in enumerate(centroids):\n",
    "        samples = data[i*n_samples:(i+1)*n_samples]\n",
    "        ax.scatter(samples[:,0], samples[:,1], s=1)\n",
    "        ax.plot(*centroid, markersize=10, marker=\"x\", color='k', mew=5)\n",
    "        ax.plot(*centroid, markersize=5, marker=\"x\", color='m', mew=2)"
   ]
  },
  {
   "cell_type": "code",
   "execution_count": 14,
   "metadata": {},
   "outputs": [
    {
     "data": {
      "image/png": "[encoded data removed]",
      "text/plain": [
       "<Figure size 640x480 with 1 Axes>"
      ]
     },
     "metadata": {},
     "output_type": "display_data"
    }
   ],
   "source": [
    "plot_data(centroids, data, n_samples)"
   ]
  },
  {
   "cell_type": "markdown",
   "metadata": {},
   "source": [
    "## Mean shift"
   ]
  },
  {
   "cell_type": "markdown",
   "metadata": {},
   "source": [
    "Most people that have come across clustering algorithms have learnt about **k-means**. Mean shift clustering is a newer and less well-known approach, but it has some important advantages:\n",
    "* It doesn't require selecting the number of clusters in advance, but instead just requires a **bandwidth** to be specified, which can be easily chosen automatically\n",
    "* It can handle clusters of any shape, whereas k-means (without using special extensions) requires that clusters be roughly ball shaped."
   ]
  },
  {
   "cell_type": "markdown",
   "metadata": {},
   "source": [
    "The algorithm is as follows:\n",
    "* For each data point x in the sample X, find the distance between that point x and every other point in X\n",
    "* Create weights for each point in X by using the **Gaussian kernel** of that point's distance to x\n",
    "    * This weighting approach penalizes points further away from x\n",
    "    * The rate at which the weights fall to zero is determined by the **bandwidth**, which is the standard deviation of the Gaussian\n",
    "* Update x as the weighted average of all other points in X, weighted based on the previous step\n",
    "\n",
    "This will iteratively push points that are close together even closer until they are next to each other."
   ]
  },
  {
   "cell_type": "code",
   "execution_count": 15,
   "metadata": {},
   "outputs": [
    {
     "data": {
      "text/plain": [
       "tensor([ 9.226, 11.636])"
      ]
     },
     "execution_count": 15,
     "metadata": {},
     "output_type": "execute_result"
    }
   ],
   "source": [
    "midp = data.mean(0)\n",
    "midp"
   ]
  },
  {
   "cell_type": "code",
   "execution_count": 16,
   "metadata": {},
   "outputs": [
    {
     "data": {
      "image/png": "[encoded data removed]",
      "text/plain": [
       "<Figure size 640x480 with 1 Axes>"
      ]
     },
     "metadata": {},
     "output_type": "display_data"
    }
   ],
   "source": [
    "plot_data([midp]*6, data, n_samples)"
   ]
  },
  {
   "cell_type": "markdown",
   "metadata": {},
   "source": [
    "So here's the definition of the gaussian kernel, which you may remember from high school...\n",
    " This person at the science march certainly remembered!\n",
    "\n",
    "<img src=\"http://i.imgur.com/nijQLHw.jpg\" width=400>"
   ]
  },
  {
   "cell_type": "code",
   "execution_count": 17,
   "metadata": {},
   "outputs": [],
   "source": [
    "def gaussian(d, bw): return torch.exp(-0.5*((d/bw))**2) / (bw*math.sqrt(2*math.pi))"
   ]
  },
  {
   "cell_type": "code",
   "execution_count": 18,
   "metadata": {},
   "outputs": [],
   "source": [
    "def plot_func(f):\n",
    "    x = torch.linspace(0,10,100)\n",
    "    plt.plot(x, f(x))"
   ]
  },
  {
   "cell_type": "code",
   "execution_count": 19,
   "metadata": {},
   "outputs": [
    {
     "data": {
      "image/png": "[encoded data removed]",
      "text/plain": [
       "<Figure size 640x480 with 1 Axes>"
      ]
     },
     "metadata": {},
     "output_type": "display_data"
    }
   ],
   "source": [
    "plot_func(partial(gaussian, bw=2.5))"
   ]
  },
  {
   "cell_type": "code",
   "execution_count": 20,
   "metadata": {},
   "outputs": [
    {
     "data": {
      "text/plain": [
       "\u001b[0;31mInit signature:\u001b[0m \u001b[0mpartial\u001b[0m\u001b[0;34m(\u001b[0m\u001b[0mself\u001b[0m\u001b[0;34m,\u001b[0m \u001b[0;34m/\u001b[0m\u001b[0;34m,\u001b[0m \u001b[0;34m*\u001b[0m\u001b[0margs\u001b[0m\u001b[0;34m,\u001b[0m \u001b[0;34m**\u001b[0m\u001b[0mkwargs\u001b[0m\u001b[0;34m)\u001b[0m\u001b[0;34m\u001b[0m\u001b[0;34m\u001b[0m\u001b[0m\n",
       "\u001b[0;31mDocstring:\u001b[0m     \n",
       "partial(func, *args, **keywords) - new function with partial application\n",
       "of the given arguments and keywords.\n",
       "\u001b[0;31mFile:\u001b[0m           /usr/lib/python3.10/functools.py\n",
       "\u001b[0;31mType:\u001b[0m           type\n",
       "\u001b[0;31mSubclasses:\u001b[0m     "
      ]
     },
     "metadata": {},
     "output_type": "display_data"
    }
   ],
   "source": [
    "# poartial \n",
    "partial?"
   ]
  },
  {
   "cell_type": "markdown",
   "metadata": {},
   "source": [
    "In our implementation, we choose the bandwidth to be 2.5. \n",
    "\n",
    "One easy way to choose bandwidth is to find which bandwidth covers one third of the data."
   ]
  },
  {
   "cell_type": "code",
   "execution_count": 21,
   "metadata": {},
   "outputs": [],
   "source": [
    "def tri(d, i): return (-d+i).clamp_min(0)/i"
   ]
  },
  {
   "cell_type": "code",
   "execution_count": 22,
   "metadata": {},
   "outputs": [
    {
     "data": {
      "image/png": "[encoded data removed]",
      "text/plain": [
       "<Figure size 640x480 with 1 Axes>"
      ]
     },
     "metadata": {},
     "output_type": "display_data"
    }
   ],
   "source": [
    "plot_func(partial(tri, i=8))"
   ]
  },
  {
   "cell_type": "code",
   "execution_count": 23,
   "metadata": {},
   "outputs": [],
   "source": [
    "X = data.clone()\n",
    "x = data[0]"
   ]
  },
  {
   "cell_type": "code",
   "execution_count": 24,
   "metadata": {},
   "outputs": [
    {
     "data": {
      "text/plain": [
       "tensor([27.555, 27.515])"
      ]
     },
     "execution_count": 24,
     "metadata": {},
     "output_type": "execute_result"
    }
   ],
   "source": [
    "x"
   ]
  },
  {
   "cell_type": "code",
   "execution_count": 25,
   "metadata": {},
   "outputs": [
    {
     "data": {
      "text/plain": [
       "(torch.Size([2]), torch.Size([1500, 2]), torch.Size([1, 2]))"
      ]
     },
     "execution_count": 25,
     "metadata": {},
     "output_type": "execute_result"
    }
   ],
   "source": [
    "x.shape,X.shape,x[None].shape"
   ]
  },
  {
   "cell_type": "code",
   "execution_count": 26,
   "metadata": {},
   "outputs": [
    {
     "data": {
      "text/plain": [
       "tensor([[ 0.000,  0.000],\n",
       "        [ 1.899, -2.075],\n",
       "        [ 3.280, -1.740],\n",
       "        [ 5.977, -1.051],\n",
       "        [ 1.488, -0.650],\n",
       "        [-1.001, -0.145],\n",
       "        [ 2.119, -1.394],\n",
       "        [ 2.648, -2.275]])"
      ]
     },
     "execution_count": 26,
     "metadata": {},
     "output_type": "execute_result"
    }
   ],
   "source": [
    "(x[None]-X)[:8]"
   ]
  },
  {
   "cell_type": "code",
   "execution_count": 27,
   "metadata": {},
   "outputs": [
    {
     "data": {
      "text/plain": [
       "tensor([[ 0.000,  0.000],\n",
       "        [ 1.899, -2.075],\n",
       "        [ 3.280, -1.740],\n",
       "        [ 5.977, -1.051],\n",
       "        [ 1.488, -0.650],\n",
       "        [-1.001, -0.145],\n",
       "        [ 2.119, -1.394],\n",
       "        [ 2.648, -2.275]])"
      ]
     },
     "execution_count": 27,
     "metadata": {},
     "output_type": "execute_result"
    }
   ],
   "source": [
    "(x-X)[:8]"
   ]
  },
  {
   "cell_type": "code",
   "execution_count": 29,
   "metadata": {},
   "outputs": [
    {
     "data": {
      "text/plain": [
       "tensor([0.000, 2.813, 3.713, 6.068, 1.624, 1.011, 2.537, 3.492])"
      ]
     },
     "execution_count": 29,
     "metadata": {},
     "output_type": "execute_result"
    }
   ],
   "source": [
    "# rewrite using torch.einsum\n",
    "dist = ((x-X)**2).sum(1).sqrt()\n",
    "dist[:8]"
   ]
  },
  {
   "cell_type": "code",
   "execution_count": 30,
   "metadata": {},
   "outputs": [
    {
     "data": {
      "text/plain": [
       "tensor(0.)"
      ]
     },
     "execution_count": 30,
     "metadata": {},
     "output_type": "execute_result"
    }
   ],
   "source": [
    "dist.min()"
   ]
  },
  {
   "cell_type": "code",
   "execution_count": 31,
   "metadata": {},
   "outputs": [
    {
     "data": {
      "text/plain": [
       "(torch.Size([2]), torch.Size([1500, 2]))"
      ]
     },
     "execution_count": 31,
     "metadata": {},
     "output_type": "execute_result"
    }
   ],
   "source": [
    "x.shape, X.shape"
   ]
  },
  {
   "cell_type": "code",
   "execution_count": 32,
   "metadata": {},
   "outputs": [
    {
     "data": {
      "text/plain": [
       "tensor([0.160])"
      ]
     },
     "execution_count": 32,
     "metadata": {},
     "output_type": "execute_result"
    }
   ],
   "source": [
    "gaussian(torch.tensor([0]), 2.5)"
   ]
  },
  {
   "cell_type": "code",
   "execution_count": 33,
   "metadata": {},
   "outputs": [
    {
     "data": {
      "text/plain": [
       "tensor([    0.160,     0.085,     0.053,  ...,     0.000,     0.000,     0.000])"
      ]
     },
     "execution_count": 33,
     "metadata": {},
     "output_type": "execute_result"
    }
   ],
   "source": [
    "weight = gaussian(dist, 2.5)\n",
    "weight"
   ]
  },
  {
   "cell_type": "code",
   "execution_count": 34,
   "metadata": {},
   "outputs": [
    {
     "data": {
      "text/plain": [
       "(torch.Size([1500]), torch.Size([1500, 2]))"
      ]
     },
     "execution_count": 34,
     "metadata": {},
     "output_type": "execute_result"
    }
   ],
   "source": [
    "weight.shape,X.shape"
   ]
  },
  {
   "cell_type": "code",
   "execution_count": 35,
   "metadata": {},
   "outputs": [
    {
     "data": {
      "text/plain": [
       "torch.Size([1500, 1])"
      ]
     },
     "execution_count": 35,
     "metadata": {},
     "output_type": "execute_result"
    }
   ],
   "source": [
    "weight[:,None].shape"
   ]
  },
  {
   "cell_type": "code",
   "execution_count": 36,
   "metadata": {},
   "outputs": [
    {
     "data": {
      "text/plain": [
       "tensor([[    4.397,     4.391],\n",
       "        [    2.174,     2.507],\n",
       "        [    1.286,     1.550],\n",
       "        ...,\n",
       "        [    0.000,     0.000],\n",
       "        [    0.000,     0.000],\n",
       "        [    0.000,     0.000]])"
      ]
     },
     "execution_count": 36,
     "metadata": {},
     "output_type": "execute_result"
    }
   ],
   "source": [
    "weight[:,None]*X"
   ]
  },
  {
   "cell_type": "code",
   "execution_count": 37,
   "metadata": {},
   "outputs": [],
   "source": [
    "def one_update(X):\n",
    "    for i, x in enumerate(X):\n",
    "        dist = torch.sqrt(((x-X)**2).sum(1))\n",
    "#         weight = gaussian(dist, 2.5)\n",
    "        weight = tri(dist, 8)\n",
    "        X[i] = (weight[:,None]*X).sum(0)/weight.sum()"
   ]
  },
  {
   "cell_type": "code",
   "execution_count": 38,
   "metadata": {},
   "outputs": [],
   "source": [
    "def meanshift(data):\n",
    "    X = data.clone()\n",
    "    for it in range(5): one_update(X)\n",
    "    return X"
   ]
  },
  {
   "cell_type": "code",
   "execution_count": 39,
   "metadata": {},
   "outputs": [
    {
     "name": "stdout",
     "output_type": "stream",
     "text": [
      "CPU times: user 381 ms, sys: 0 ns, total: 381 ms\n",
      "Wall time: 381 ms\n"
     ]
    }
   ],
   "source": [
    "%time X=meanshift(data)"
   ]
  },
  {
   "cell_type": "code",
   "execution_count": 40,
   "metadata": {},
   "outputs": [
    {
     "data": {
      "image/png": "[encoded data removed]",
      "text/plain": [
       "<Figure size 640x480 with 1 Axes>"
      ]
     },
     "metadata": {},
     "output_type": "display_data"
    }
   ],
   "source": [
    "plot_data(centroids+2, X, n_samples)"
   ]
  },
  {
   "cell_type": "markdown",
   "metadata": {},
   "source": [
    "## Animation"
   ]
  },
  {
   "cell_type": "code",
   "execution_count": 41,
   "metadata": {},
   "outputs": [],
   "source": [
    "from matplotlib.animation import FuncAnimation\n",
    "from IPython.display import HTML"
   ]
  },
  {
   "cell_type": "code",
   "execution_count": 42,
   "metadata": {},
   "outputs": [],
   "source": [
    "def do_one(d):\n",
    "    if d: one_update(X)\n",
    "    ax.clear()\n",
    "    plot_data(centroids+2, X, n_samples, ax=ax)"
   ]
  },
  {
   "cell_type": "code",
   "execution_count": 43,
   "metadata": {},
   "outputs": [
    {
     "data": {
      "text/html": [
       "\n",
       "<link rel=\"stylesheet\"\n",
       "href=\"https://maxcdn.bootstrapcdn.com/font-awesome/4.4.0/css/font-awesome.min.css\">\n",
       "<script language=\"javascript\">\n",
       "  function isInternetExplorer() {\n",
       "    ua = navigator.userAgent;\n",
       "    /* MSIE used to detect old browsers and Trident used to newer ones*/\n",
       "    return ua.indexOf(\"MSIE \") > -1 || ua.indexOf(\"Trident/\") > -1;\n",
       "  }\n",
       "\n",
       "  /* Define the Animation class */\n",
       "  function Animation(frames, img_id, slider_id, interval, loop_select_id){\n",
       "    this.img_id = img_id;\n",
       "    this.slider_id = slider_id;\n",
       "    this.loop_select_id = loop_select_id;\n",
       "    this.interval = interval;\n",
       "    this.current_frame = 0;\n",
       "    this.direction = 0;\n",
       "    this.timer = null;\n",
       "    this.frames = new Array(frames.length);\n",
       "\n",
       "    for (var i=0; i<frames.length; i++)\n",
       "    {\n",
       "     this.frames[i] = new Image();\n",
       "     this.frames[i].src = frames[i];\n",
       "    }\n",
       "    var slider = document.getElementById(this.slider_id);\n",
       "    slider.max = this.frames.length - 1;\n",
       "    if (isInternetExplorer()) {\n",
       "        // switch from oninput to onchange because IE <= 11 does not conform\n",
       "        // with W3C specification. It ignores oninput and onchange behaves\n",
       "        // like oninput. In contrast, Microsoft Edge behaves correctly.\n",
       "        slider.setAttribute('onchange', slider.getAttribute('oninput'));\n",
       "        slider.setAttribute('oninput', null);\n",
       "    }\n",
       "    this.set_frame(this.current_frame);\n",
       "  }\n",
       "\n",
       "  Animation.prototype.get_loop_state = function(){\n",
       "    var button_group = document[this.loop_select_id].state;\n",
       "    for (var i = 0; i < button_group.length; i++) {\n",
       "        var button = button_group[i];\n",
       "        if (button.checked) {\n",
       "            return button.value;\n",
       "        }\n",
       "    }\n",
       "    return undefined;\n",
       "  }\n",
       "\n",
       "  Animation.prototype.set_frame = function(frame){\n",
       "    this.current_frame = frame;\n",
       "    document.getElementById(this.img_id).src =\n",
       "            this.frames[this.current_frame].src;\n",
       "    document.getElementById(this.slider_id).value = this.current_frame;\n",
       "  }\n",
       "\n",
       "  Animation.prototype.next_frame = function()\n",
       "  {\n",
       "    this.set_frame(Math.min(this.frames.length - 1, this.current_frame + 1));\n",
       "  }\n",
       "\n",
       "  Animation.prototype.previous_frame = function()\n",
       "  {\n",
       "    this.set_frame(Math.max(0, this.current_frame - 1));\n",
       "  }\n",
       "\n",
       "  Animation.prototype.first_frame = function()\n",
       "  {\n",
       "    this.set_frame(0);\n",
       "  }\n",
       "\n",
       "  Animation.prototype.last_frame = function()\n",
       "  {\n",
       "    this.set_frame(this.frames.length - 1);\n",
       "  }\n",
       "\n",
       "  Animation.prototype.slower = function()\n",
       "  {\n",
       "    this.interval /= 0.7;\n",
       "    if(this.direction > 0){this.play_animation();}\n",
       "    else if(this.direction < 0){this.reverse_animation();}\n",
       "  }\n",
       "\n",
       "  Animation.prototype.faster = function()\n",
       "  {\n",
       "    this.interval *= 0.7;\n",
       "    if(this.direction > 0){this.play_animation();}\n",
       "    else if(this.direction < 0){this.reverse_animation();}\n",
       "  }\n",
       "\n",
       "  Animation.prototype.anim_step_forward = function()\n",
       "  {\n",
       "    this.current_frame += 1;\n",
       "    if(this.current_frame < this.frames.length){\n",
       "      this.set_frame(this.current_frame);\n",
       "    }else{\n",
       "      var loop_state = this.get_loop_state();\n",
       "      if(loop_state == \"loop\"){\n",
       "        this.first_frame();\n",
       "      }else if(loop_state == \"reflect\"){\n",
       "        this.last_frame();\n",
       "        this.reverse_animation();\n",
       "      }else{\n",
       "        this.pause_animation();\n",
       "        this.last_frame();\n",
       "      }\n",
       "    }\n",
       "  }\n",
       "\n",
       "  Animation.prototype.anim_step_reverse = function()\n",
       "  {\n",
       "    this.current_frame -= 1;\n",
       "    if(this.current_frame >= 0){\n",
       "      this.set_frame(this.current_frame);\n",
       "    }else{\n",
       "      var loop_state = this.get_loop_state();\n",
       "      if(loop_state == \"loop\"){\n",
       "        this.last_frame();\n",
       "      }else if(loop_state == \"reflect\"){\n",
       "        this.first_frame();\n",
       "        this.play_animation();\n",
       "      }else{\n",
       "        this.pause_animation();\n",
       "        this.first_frame();\n",
       "      }\n",
       "    }\n",
       "  }\n",
       "\n",
       "  Animation.prototype.pause_animation = function()\n",
       "  {\n",
       "    this.direction = 0;\n",
       "    if (this.timer){\n",
       "      clearInterval(this.timer);\n",
       "      this.timer = null;\n",
       "    }\n",
       "  }\n",
       "\n",
       "  Animation.prototype.play_animation = function()\n",
       "  {\n",
       "    this.pause_animation();\n",
       "    this.direction = 1;\n",
       "    var t = this;\n",
       "    if (!this.timer) this.timer = setInterval(function() {\n",
       "        t.anim_step_forward();\n",
       "    }, this.interval);\n",
       "  }\n",
       "\n",
       "  Animation.prototype.reverse_animation = function()\n",
       "  {\n",
       "    this.pause_animation();\n",
       "    this.direction = -1;\n",
       "    var t = this;\n",
       "    if (!this.timer) this.timer = setInterval(function() {\n",
       "        t.anim_step_reverse();\n",
       "    }, this.interval);\n",
       "  }\n",
       "</script>\n",
       "\n",
       "<style>\n",
       ".animation {\n",
       "    display: inline-block;\n",
       "    text-align: center;\n",
       "}\n",
       "input[type=range].anim-slider {\n",
       "    width: 374px;\n",
       "    margin-left: auto;\n",
       "    margin-right: auto;\n",
       "}\n",
       ".anim-buttons {\n",
       "    margin: 8px 0px;\n",
       "}\n",
       ".anim-buttons button {\n",
       "    padding: 0;\n",
       "    width: 36px;\n",
       "}\n",
       ".anim-state label {\n",
       "    margin-right: 8px;\n",
       "}\n",
       ".anim-state input {\n",
       "    margin: 0;\n",
       "    vertical-align: middle;\n",
       "}\n",
       "</style>\n",
       "\n",
       "<div class=\"animation\">\n",
       "  <img id=\"_anim_imgb2109b6c88144f46a52c526498577c05\">\n",
       "  <div class=\"anim-controls\">\n",
       "    <input id=\"_anim_sliderb2109b6c88144f46a52c526498577c05\" type=\"range\" class=\"anim-slider\"\n",
       "           name=\"points\" min=\"0\" max=\"1\" step=\"1\" value=\"0\"\n",
       "           oninput=\"animb2109b6c88144f46a52c526498577c05.set_frame(parseInt(this.value));\">\n",
       "    <div class=\"anim-buttons\">\n",
       "      <button title=\"Decrease speed\" aria-label=\"Decrease speed\" onclick=\"animb2109b6c88144f46a52c526498577c05.slower()\">\n",
       "          <i class=\"fa fa-minus\"></i></button>\n",
       "      <button title=\"First frame\" aria-label=\"First frame\" onclick=\"animb2109b6c88144f46a52c526498577c05.first_frame()\">\n",
       "        <i class=\"fa fa-fast-backward\"></i></button>\n",
       "      <button title=\"Previous frame\" aria-label=\"Previous frame\" onclick=\"animb2109b6c88144f46a52c526498577c05.previous_frame()\">\n",
       "          <i class=\"fa fa-step-backward\"></i></button>\n",
       "      <button title=\"Play backwards\" aria-label=\"Play backwards\" onclick=\"animb2109b6c88144f46a52c526498577c05.reverse_animation()\">\n",
       "          <i class=\"fa fa-play fa-flip-horizontal\"></i></button>\n",
       "      <button title=\"Pause\" aria-label=\"Pause\" onclick=\"animb2109b6c88144f46a52c526498577c05.pause_animation()\">\n",
       "          <i class=\"fa fa-pause\"></i></button>\n",
       "      <button title=\"Play\" aria-label=\"Play\" onclick=\"animb2109b6c88144f46a52c526498577c05.play_animation()\">\n",
       "          <i class=\"fa fa-play\"></i></button>\n",
       "      <button title=\"Next frame\" aria-label=\"Next frame\" onclick=\"animb2109b6c88144f46a52c526498577c05.next_frame()\">\n",
       "          <i class=\"fa fa-step-forward\"></i></button>\n",
       "      <button title=\"Last frame\" aria-label=\"Last frame\" onclick=\"animb2109b6c88144f46a52c526498577c05.last_frame()\">\n",
       "          <i class=\"fa fa-fast-forward\"></i></button>\n",
       "      <button title=\"Increase speed\" aria-label=\"Increase speed\" onclick=\"animb2109b6c88144f46a52c526498577c05.faster()\">\n",
       "          <i class=\"fa fa-plus\"></i></button>\n",
       "    </div>\n",
       "    <form title=\"Repetition mode\" aria-label=\"Repetition mode\" action=\"#n\" name=\"_anim_loop_selectb2109b6c88144f46a52c526498577c05\"\n",
       "          class=\"anim-state\">\n",
       "      <input type=\"radio\" name=\"state\" value=\"once\" id=\"_anim_radio1_b2109b6c88144f46a52c526498577c05\"\n",
       "             checked>\n",
       "      <label for=\"_anim_radio1_b2109b6c88144f46a52c526498577c05\">Once</label>\n",
       "      <input type=\"radio\" name=\"state\" value=\"loop\" id=\"_anim_radio2_b2109b6c88144f46a52c526498577c05\"\n",
       "             >\n",
       "      <label for=\"_anim_radio2_b2109b6c88144f46a52c526498577c05\">Loop</label>\n",
       "      <input type=\"radio\" name=\"state\" value=\"reflect\" id=\"_anim_radio3_b2109b6c88144f46a52c526498577c05\"\n",
       "             >\n",
       "      <label for=\"_anim_radio3_b2109b6c88144f46a52c526498577c05\">Reflect</label>\n",
       "    </form>\n",
       "  </div>\n",
       "</div>\n",
       "\n",
       "\n",
       "<script language=\"javascript\">\n",
       "  /* Instantiate the Animation class. */\n",
       "  /* The IDs given should match those used in the template above. */\n",
       "  (function() {\n",
       "    var img_id = \"_anim_imgb2109b6c88144f46a52c526498577c05\";\n",
       "    var slider_id = \"_anim_sliderb2109b6c88144f46a52c526498577c05\";\n",
       "    var loop_select_id = \"_anim_loop_selectb2109b6c88144f46a52c526498577c05\";\n",
       "    var frames = new Array(5);\n",
       "    \n",
       "  frames[0] = \"data:image/png;base64,iVBORw0KGgoAAAANSUhEUgAAAoAAAAHgCAYAAAA10dzkAAAAOXRFWHRTb2Z0d2FyZQBNYXRwbG90\\\n",
       "bGliIHZlcnNpb24zLjguMiwgaHR0cHM6Ly9tYXRwbG90bGliLm9yZy8g+/7EAAAACXBIWXMAAA9h\\\n",
       "AAAPYQGoP6dpAABq80lEQVR4nO3de3iT9f0//mfSNumJphxKC1gBQQtYRewEKshPAQFhm2ygq/tO\\\n",
       "YICiKyqgGyBgy5DhaSKHiqgoHjY65Zo4JyIMBT4ooHJQQOgQ5TBKW05toLRJ29y/P27ed+87uZOm\\\n",
       "Sdu0uZ+PXb0gyX14J1dnnrzeJ5MkSRKIiIiIyDDMoW4AERERETUtBkAiIiIig2EAJCIiIjIYBkAi\\\n",
       "IiIig2EAJCIiIjIYBkAiIiIig2EAJCIiIjIYBkAiIiIig2EAJCIiIjIYBkAiIiIig2EAJCIiIjIY\\\n",
       "BkAiIiIig2EAJCIiIjIYBkAiIiIig2EAJCIiIjIYBkAiIiIig2EAJCIiIjIYBkAiIiIig2EAJCIi\\\n",
       "IjIYBkAiIiIig2EAJCIiIjIYBkAiIiIig2EAJCIiIjIYBkAiIiIig2EAJCIiIjIYBkAiIiIig2EA\\\n",
       "JCIiIjIYBkAiIiIig2EAJCIiIjIYBkAiIiIig2EAJCIiIjIYBkAiIiIig2EAJCIiIjIYBkAiIiIi\\\n",
       "g2EAJCIiIjIYBkAiIiIig2EAJCIiIjIYBkAiIiIig2EAJCIiIjIYBkAiIiIig2EAJCIiIjIYBkAi\\\n",
       "IiIig2EAJCIiIjIYBkAiIiIig2EAJCIiIjIYBkAiIiIig2EAJCIiIjIYBkAiIiIig2EAJCIiIjIY\\\n",
       "BkAiIiIig2EAJCIiIjIYBkAiIiIig2EAJCIiIjIYBkAiIiIig2EAJCIiIjIYBkAiIiIig4kMdQNa\\\n",
       "MpfLhcLCQrRq1QomkynUzSEiIiI/SJKEixcvomPHjjCbjVkLYwAMQmFhIVJTU0PdDCIiIgrAyZMn\\\n",
       "cdVVV4W6GSHBABiEVq1aAZB/gRISEkLcGiIiIvKH3W5Hamqq8j1uRAyAQRDdvgkJCQyARERELYyR\\\n",
       "h28Zs+ObiIiIyMAYAImIiIgMhgGQiIiIyGAYAImIiIgMhgGQiIiIyGAYAImIiIgMhgGQiIiIyGAY\\\n",
       "AImIiIgMxhAB8JlnnoHJZMK0adOU5yorK5GdnY22bdsiPj4eY8aMQXFxcegaSURERNREwj4Afv31\\\n",
       "11i5ciVuvPFGzfPTp0/HRx99hPfffx9bt25FYWEhfv3rX4eolURERERNJ6wD4KVLl/D//t//w2uv\\\n",
       "vYbWrVsrz5eVlWHVqlV48cUXMXjwYGRkZODNN9/El19+iZ07d4awxURERESNL6wDYHZ2NkaNGoWh\\\n",
       "Q4dqnt+9ezeqqqo0z/fo0QNXX301duzY4fV6DocDdrtd80NERETU0oRtAMzPz8eePXuwaNEij9eK\\\n",
       "iopgsViQmJioeT45ORlFRUVer7lo0SLYbDblJzU1taGbTUb09Spgcbr8JxERURMIywB48uRJPPbY\\\n",
       "Y/jb3/6G6OjoBrvu7NmzUVZWpvycPHmywa5NBrZ9MVB2Uv6TiIioCYRlANy9ezdKSkpw8803IzIy\\\n",
       "EpGRkdi6dSuWLl2KyMhIJCcnw+l0orS0VHNecXExUlJSvF7XarUiISFB80MUtIHTAVuq/CcREVET\\\n",
       "iAx1AxrDkCFDsH//fs1zv//979GjRw/MnDkTqampiIqKwubNmzFmzBgAQEFBAU6cOIHMzMxQNJmM\\\n",
       "7JZJ8g8REVETCcsA2KpVK6Snp2uei4uLQ9u2bZXnJ02ahBkzZqBNmzZISEjAI488gszMTPTv3z8U\\\n",
       "TSYiIiJqMmEZAP2xePFimM1mjBkzBg6HA8OHD8fLL78c6mYRERERNTqTJElSqBvRUtntdthsNpSV\\\n",
       "lXE8IBERUQvB7+8wnQRC1CxxuRciImomGACJmkpTLvfCsElERD4wABI1laZc7oVrCxIRkQ8MgET+\\\n",
       "aIiK2i2TgOkHmmbJF64tSEREPnASSBA4iNRAFqfLFTVbqhziiIioxeL3NyuAFM4achwcK2pERBRG\\\n",
       "GAApfDXEODgRIoGm674lIiJqZAyAFL4aomrnb4hsyGojZ/ASEVEjYwCk8OXPpIu6wpa/IbIhZ91y\\\n",
       "Bi8RETUyBkAyNl9h6+tV8vMDp9fd9duQYwQ53pCIiBoZAyAZW2o/wBQh/+muPpW4hljixdd4Q3YL\\\n",
       "ExFRA2IAJGM7uQuQauQ/3TVEJe7rVcAzXYBnu9Qd3nwFTnYLExFRA2IAJGPTC3nulTgg8Orb9sVA\\\n",
       "5QWg4kJteNOp5uXm5iLvdG/vgXPgdOTtj0Xu99fUvw1ERERuGADJ2PS6bt2rbcFU3wZOB6JbAzGt\\\n",
       "a4Od2/Vyc3Mxf/58TH3+78izPCwf4xYQ876qxNR/FmH+6x8hNzc3gDdKRA3l3Z3HMeCZz/DuzuOh\\\n",
       "bgpRwBgAidy5VwV9dQV7G5unriLOOgbMPAYc/xKY3waIa6dcT4Q/YerUqch7+k9yQNy8AACQl5eH\\\n",
       "qVOnKsfMnz+fIZAohFZsOYpTpRVYseVoqJtCFDAGQCLB2yQMXxM8vFUHxfPr/1gbDg9+II83PP0d\\\n",
       "MP0Acj8+qQl/wtR/nUfeV06gxoG8MR004U/QhEBOECFqUg/f3g2dEmPw8O3dQt0UooBxL+AgcC/B\\\n",
       "MBPIfr/elor5epUc/qSa2uutnSSHwOt/hdwDqbrhT61n+ygcKqnyeUxOTg5ybWu5TzERUT3w+5sV\\\n",
       "QDI6dfVMjNdzXvK/muatOnjLJGDk89qu47GrgJzzwNhVSEpK8nrJdMhVSBH+xGM9SUlJXDeQKASa\\\n",
       "ehwgxx1SQ2MAJGNTd+HeMgmwxmtn7AbDR9dxdnY2li9f7vH8eIzHMixDFrIAAFnIwjIsw3iM9zh2\\\n",
       "+fLlyM7Obpg1CImoXpp6HCDHHVJDYwAkY6vPhA9vfK3152N8nnsITEc6JmACAGAKpmAd1mEKpgAA\\\n",
       "JmCCphKohD8/76XbZo4bJApYU48D5LhDamgcAxgEjiFohuqzfVtD3U+M9QO04/D0xgHqUM/yzUKW\\\n",
       "EvrUVmIl8pEPwC38qd+vqGb6MxYwkPGORGHu3Z3HsWLLUTx8ezf8rn/nsLkXeeL3NyuA1NK5V7IC\\\n",
       "XbNPXGftpPpVxjYvqA1/pgig7H/yNQDgM/GaCXBcGVeoU3nL7huNnslWAEA+8lGGMs0tylCmhL+e\\\n",
       "PXtqK3/q91uf6iXHDRJ58NXNGuwYPPfzg+nS5XhAaggMgNSyuQc+92BTV1eneH3zAvk6Bz+ovZ4/\\\n",
       "3aQm1d+lGgCSfA3If1X+UnllXKF6eZgrYTNv4Z9wqNgBQK4A2mDT3MIGmzIm8NChQ8jLy6t9Uf1+\\\n",
       "6zMWkOMGiTz46mYNdgye+/l69/I32HE8IDUEdgEHgSXkZqCuLt+6ujrF6zGtAUs8kNpP3hfYV5eq\\\n",
       "uGdqP6BgPVB1GYiIkgOfqxroeBNQflZ+Xaz9Z4qQZwUDqi5jE/K+cmDqJ5UA5DGAy7BMuU0ZyjRh\\\n",
       "8BE8ggOQ26E7BrC+nw0R+S3YLlt/zh/wzGc4VVqBTokx+GLW4EZrC/H7G2AADAp/gVqAukKQam0+\\\n",
       "jNWZwCHOBTzH2pkitN2/YqwfUBscB04HNs4FqiqA9DHA+aNA4V7AZEberkol/AnjMR4TMEEZ8yfG\\\n",
       "BK7GaryFtzTH1hkCOc6PqEVxD3YNHfQYHGvx+5sBMCj8BWqh9CZOiAqgCIruwVEdpsR5qf2Ao5vl\\\n",
       "yl/3IbWVQ0B77vw2tVXAK4Ex7yunR/gT0pGuVPr0Hqv5DIG+wi0RNXv+VgRDdb2WjN/fHANIRiLG\\\n",
       "9H22wHPihATtWEJfYwvF+Lmxq+Q9fmcdAzrfKk/0+Ezev1czvu76XwEwAZFWpUJ45rLLazNF2BMT\\\n",
       "Q7yFPwA4c+aM9/d7cpccOE/uquODISI9oVjs+ab5G3HT/I14d+dxPHx7N9R88x66n/3C53l5eXl+\\\n",
       "7Q/OpWRIjQGQjEOEOglyEEvtVxsCh8zzvh6gP2PpPlsgT/TQW0R67CrAdpU8VhAARr2I3LuvRc4d\\\n",
       "cV6bunz5cnxfVKm7WLSQM8SG3JjV+pNUvl4l72gS3ZozfYkCFIrFnksrqlBaUYUVW47ihw1v4n+b\\\n",
       "38bbf30K19z9qG4QFctIafYH9+J3/Tvji1mDDd/9SzIGQDIOEeqGzJMrdCd3aXcBUVft1I/VM3dF\\\n",
       "2HKfIVzluHITk3YG8rNd5EWiU/vJ3czl5+SwOHA6cp9dgpxhnlvCKd26aych++w8LJ/U3+OYnGFJ\\\n",
       "yB0oed+1ZPti+TVrPCeAENWTqPxldG7ttWLWGNXBh2/vhsSYKCTGRCH5h39p9gv/6V/LMGvB85rj\\\n",
       "xz+xQFlDFIBfIZBIYAAk43APeQOny6Hs8jk5pKkrae57BMMkd6d+tqB2gWd1F3GU3F2LmMTaMYQf\\\n",
       "Py6HsMoLwA+bgUo7UH1Zfu7jxwEAuZ+WICcnR7nt8ruikZ28R35wZQZxdmqBphKYM/kXyH16kVzd\\\n",
       "i4qtXWNQjev8EQVMVP52H7/gtWKmVx0MNhT+rn9nPDE8Def+72/4YNUSj9dPrc9TloEa/8QCvP3X\\\n",
       "pzyOYQgkfzEAkjHorel3yyR54kfV5dp1+gR11Q8AomLkP6sdwCcza2f/pvaTr1ntAGACug2pDYi1\\\n",
       "CwHK6wWKcwD5tSv3y83NRU5ODpaPjEF2XwtwYK18jet/JU8cuf5X8rZxv2yDnP/PgtzOX8vnDpkH\\\n",
       "xLaV2755gfb9BbLOH7eHIwLg31g5vWMaYiHp2XOfwv82v+319alTp6JXr1664U9oaSGQC1uHBgMg\\\n",
       "GYO3HUJEFTAyVh4zJ8LPwOm1s3a3LwYirlT4qioAV1Xt+Qc/kKuCVZcBSHK38vbF2rAX01oOhhom\\\n",
       "zf1yc3ORfXff2pc/WyBfa+Tzygze7FtbIff2aKC6wnMSiwmB7YDiz2dEZDDuY+X0AoreeDpfizu/\\\n",
       "8GmBX+MJB9/U3etrYj/wQ4cOaR7rSUryHF7SXHFh69BgACRjGDhd7jJ1XvKsAs48BsS11Y6nu2VS\\\n",
       "bQUurt2VHT9MACTAHFV7vlQjF/piWsvXT+0nd8nGtAbSx8pdtBWl8oLRChMQnSjfT125Kz975eUI\\\n",
       "z1nJADD4ykSV9DHyvS6fk88fOL32tWC6fNltTKTL34Dyu/6d8fDt3bBiy1GPLd8A6FYV3cPlWy/M\\\n",
       "0538NR7jsQzLlF2BspCFZViG8RjvcaxfC8U3I5ydHBpcBzAIXEeohdFby0+Enc0L5Hw3eJ78ePti\\\n",
       "OSxWXIAS/ExmQHIBHfsAD27Rnx0s7iF2/lDt+gFA7koe9jRw/Eu5ehhplauH7m0Sr3tbw0/cB+BC\\\n",
       "z0R+CnQhZH/Pe3fnceR8eAA1EpS19uo619vafOoxfg2+SxDx+xusAFJLp55pW9fYNXWFS3R3bl4g\\\n",
       "h7TKC/J4QPWsX7FcjBj/J11Zu+/0d/KfeuPs3LuORRUxMgaAJI/Zu2VS7Rp9VRUATHLlUH29utbw\\\n",
       "E13X6mVe/N33mGP8yKD8reQFOiZtxZajqJGACBOUalZdS6+I6ldG59aae/7QbgDa3PkQAHkt0JVY\\\n",
       "qZyjDn8rsZLhjwLCAEgtm1juxH0Shx51wBJdwpWltbt0uK8BKJaLGfa0/LhjH/m4Djd6D1K3TJIr\\\n",
       "fyJojl0lP46yasOaCIqQoIwddJ957Ks7VnRdzzpWG0DrGsPHMX5kcP52NboHRffH3gKiuP78u9OV\\\n",
       "rdzEce7niMcA8MWswdj23zM4VVqBFz4tUK7VY/A96NhFHhOYj3yUoUxzvzKUIR/5AICePXsy/FG9\\\n",
       "hG0AXLFiBW688UYkJCQgISEBmZmZ+OSTT5TXKysrkZ2djbZt2yI+Ph5jxoxBcXFxCFtMuuqqWulV\\\n",
       "wvy51i2T5DXyINV21+qtAah+/OAWIOe8PFZPBKm1V7Z6W6uqArqfr7cmnwiK6gkomxdo1yUUlUpv\\\n",
       "Cz27Vz7rCo0c40cG560a5x7O3INiRufWiDDJfwK1gTDnwwM+J4aog2NdoVJwVLtw0/yNeOHTAnQ/\\\n",
       "+wUKj/0AQB7zp678AXIlUIwJPHToEMY/sYCzaclvYRsAr7rqKjzzzDPYvXs3vvnmGwwePBh33303\\\n",
       "Dh48CACYPn06PvroI7z//vvYunUrCgsL8etf/zrErSYPdVWt9Cph/l5LBCJ1+POHqB5ePicv2SLV\\\n",
       "yOP1AP3AOnC6PBmk7CSwsIN2qRb1BJTKUm2Q9fXe3Suf/uxWEsjSMEQG4B7G3IPc7uMXUCPJfwJy\\\n",
       "QIwwATUSfFYFxcLO5Y5qtI2zaEKkOmSKc2KizKioqkFpRRVOfvGBZgzgFExRrquuBE7BFGU28Nt/\\\n",
       "fQqHP3ufs2nJL2EbAH/xi19g5MiRuPbaa3Hddddh4cKFiI+Px86dO1FWVoZVq1bhxRdfxODBg5GR\\\n",
       "kYE333wTX375JXbu3BnqppNaQ1at3K+lDkT1GR8nqodiazdAniCydpJ2gWhRpdu84MpYP8jniP2C\\\n",
       "AfkYxyUoE00cdmDvO0BuImAvhDI+UO+9qCuf7N4l8uDvWD73ip+3iqAYpwcA8+9O1zwnlnl54dMC\\\n",
       "ZT9fAIizRqK0ogoHC8s0IVLthU8LUFpRhcoqeZzxxT3/xvlNryivH8ABrMZqAPKYv9EYrYwJXI3V\\\n",
       "mv3Cz296BVEFG+v1/smYDDELuKamBu+//z7Gjx+PvXv3oqioCEOGDMGFCxeQmJioHNe5c2dMmzYN\\\n",
       "06frhw2HwwGHw6E8ttvtSE1NNfQsohbLvWKmniHsz4zar1cBn86Vd/YQxOQP0aUsQhkgVwCVwGgC\\\n",
       "Rv1Ve9/o1nL40ywWfUVdbfp6lXYWMyt8RAC8z7AN9Dz182K5l3JHNUorqpAYE4U4ayTOlztQcSXI\\\n",
       "qY/L6Nwau49fUP4U53VKjFH+HhNlxsU9H+PU+jzddqUjXRP23B+rLV++HH+/2FP3fQQ6GzqccBZw\\\n",
       "GFcAAWD//v2Ij4+H1WrFQw89hA8++AC9evVCUVERLBaLJvwBQHJyMoqKirxeb9GiRbDZbMpPampq\\\n",
       "I78DajTuFbPUfnJw06u26bllktx1CwAwyQEvwipX5USXsrpKN+xpYNSLtRM/3Luhh8yrnTzSsU/t\\\n",
       "fSJjPauf7tXK7Yu1s5j1jiEyIF+TPh5dsxfdZn+MR9fs1T1PdN26d+mKql/OhwdwqrQCZVfC3xPD\\\n",
       "066ELJNyfEbn1kp38tL7+mgme5Q7qhFhAtrGWQAAUWYTKqtc6BRd5d4chQh7PXv21DzWs3nvEZQ7\\\n",
       "qpEYE+Xx/oNdeJmVxfAQ1gEwLS0N+/btw65du/Dwww9j/Pjx+P777wO+3uzZs1FWVqb8nDx5sgFb\\\n",
       "S03KvTvY17Ir3sKUuMaov8rLu1Rf1oYwMcZvyLzawKeeISyOEd3Q6skmtiv/uIhr61nR8zaWUR0U\\\n",
       "2SVM5HMJlo+/K0SNJP+pd57oulWHJHG9bf89g5orfWeiC010/aq3gPzXt4Ues34d1XJ1sMoloUYC\\\n",
       "9p8qQ2lFFapcEiQAZ6/7JX416TGv72n58uX4/vvvMe7xP3s95leTHsO3SXeitKIKcdZIj/cf7MLL\\\n",
       "3LkjPIR1ALRYLOjevTsyMjKwaNEi9O7dG0uWLEFKSgqcTidKS0s1xxcXFyMlJcXr9axWqzKrWPxQ\\\n",
       "C+U+/k/s3qE31rCuMHX8S3kWr7eZyOrz/R136B7qvl4lz/h9totcpfQWIvXOZzWQyMOoGzsiwiT/\\\n",
       "qcdbFRAAHNXyUI0oswmdEuV1QksrqlBaUQVrZITmWPdZv9ZIMyKuFAkjTEB0lPZruEYCrhoyHjk5\\\n",
       "OR5tGvf4n/H3iz3x7s7jmnUC1X416TH8mDoSNZJcixSTTNTL0QTb/cudO8JDWAdAdy6XCw6HAxkZ\\\n",
       "GYiKisLmzZuV1woKCnDixAlkZmaGsIUUEnpdqGreJqKIYHfwg9plXgD9WcC+zhcTRtTn6S0lU3lB\\\n",
       "vs/JXfK1Ni+QA6G39QjF+awGEnlYel8fHF00Ckvvk4dcuHdrinBUWlGlrM2nXrsPkCd4fDFrMJ4Y\\\n",
       "nobEmCilK/iXvTvCBDkgigApQtMTw9OUCSTz707HnFG9EOMWAj/+rhDdR/weVw0Zpzy3fPly/NBu\\\n",
       "gLL8TEbn1kgd8CtNCLQNuA/F3X9Z+zgmCr/r31l3ORr3JWzqo67FralliAx1AxrL7Nmzcdddd+Hq\\\n",
       "q6/GxYsX8fe//x1btmzBp59+CpvNhkmTJmHGjBlo06YNEhIS8MgjjyAzMxP9+/cPddOpKagngbhv\\\n",
       "C+dOdM+6E+el9qsNZe5hS1xXbxKH+r7uVUL3doo9hk2q8yov1N5Dr33qc8X9iEiXOiR5CzbiGBOg\\\n",
       "hD1ADkRi4Wcx4cMWE6VUBV/4tAD7coYp13UPXmL2r3B9RxtWbDmKiJ/di8TKKvyyf0/YMn6O8x8f\\\n",
       "AiBXCT/6thALRqcDw2fhqZgoJEU6EHnLb/Dw7d3w1U/n8fF3hRh0XRIAKBNRRMVObFfn671S+Avb\\\n",
       "WcCTJk3C5s2bcfr0adhsNtx4442YOXMm7rzzTgDyQtCPP/441qxZA4fDgeHDh+Pll1/22QXsjrOI\\\n",
       "WrD6zvr1lzpYilAX01quLvpao8/bOn567fx6lbyUTJVD3mHE28xf93P9WSuQyKDUXaMANDN3RXep\\\n",
       "3l6/ajfN34jSiiqxqJMiJsqMQwvu8jguMSYKgFxlVBPdq+p7AcCp0grNcYkxUdiXM8zjvdQ1+1kd\\\n",
       "VNXvz0j4/R3GAbAp8BeoBWuKMCTu4bgkV+sCCZt67fQ3vAa71A1RCxbMWDdfAerRNXvx8XeFGHVj\\\n",
       "R6X7WBDBLibKDGtkhBLs3IOa+rjKKhfcv4R/2bsj+nZtgxc+LYCjugbWyAgMui4J2/57Bo7qGmWZ\\\n",
       "mZgoM9rEWTXv8d2dx5Uu6yeGp/l874EukxMO+P1tsDGARIqm2BVD3GPIPO+LWetN0HDfss7XBA9/\\\n",
       "7i/O5VZwZCDBzFT1Nsnh3Z3HNbOH3btynxiehk6JMbizVwrirJH4Ze+OSpVPfaw4DqitFN7YyaZM\\\n",
       "Dtl9/AJWbDmK0ooqOKtdKK2owu7jF/DE8DS0ibPixk42mABUVLk8xvOJ88TffY3z42QOY2MFMAj8\\\n",
       "FwQFTa8qx0odUdAaY7FjUTETvC2wrLfIsxgzqG6TqASKa6nH6olxfNd3tOFcuVN5TYxB1PviVlcO\\\n",
       "yyqqIEGeaTz/7nTDdfHWhd/frAASBSfYJVb0qnINUanj0i9kcMHMVPW20LGomInKnvsSMSKglTuq\\\n",
       "AdQu8uz+uqjYqWcPZ3RujRc+LVDOFfsPnyt3Ku9D3D86SrvUjPDxd4XKGoYiIKr3KyZSYwAkclef\\\n",
       "8ORriRV/rqPXxdsQ3dNc+oUMwltYC2a3CvfuY/XyL2JXD/VC0eL1jM6t0SkxBtUuOX4dLCxTQp6j\\\n",
       "ugYl9koA0MzA3ZczDPtyhmH38QvKrGFRBdTrnpUDooSYqAjERJmRGBOldB+LNQ3VQTWQLl7u9GEM\\\n",
       "DIBE7uoTnnxV68R11v+x6StxHO9HBuFtrF8gYwBF8GkbZ0GESd7Kzdu11AHthU8LcKq0Atv+ewZf\\\n",
       "zBqMX/TWLjJ9sbIKFVUuVF0JhhEmeIQycS9Arhyqu4rf3XkcN83fiHnrDqC0Qr5WRZU8GeRiZRXu\\\n",
       "vSVVs6ah0Ldrm4CqoHV9dgyI4YEBkMidP+FJVPcA7zt7DJwu7/0r1dS/EhdsF25TTHIhaga8VcoC\\\n",
       "meAggs/+U2WokYBt/z2juVZG59ZK8PHWxfzuzuPYffwCRt3YEbuPX8ALnxYo28YBQExUBObfLf+3\\\n",
       "Qx2idh+/oBxzsLBME8DExA73cX8RJv0uXnWACySs1fXZcSu48MAASM3ehfx8HBk8BBfy85vmhv6E\\\n",
       "J70qoftzt0zy3PvXX+zCJfKLtyAWyBjA2jF22q9Gca3dxy/odg0Pui5J2eVDhKOPvytUJox0SoxR\\\n",
       "ZgO3ibN47M4h7i3GA466Udt1q35NdPf+sndHZTs7dfVQ/T7UE0fqE9bq+uw4ezg8cBZwEDiLqGkc\\\n",
       "GTwE1YWFiOzYEdd+trnuE/wVzFqAeuc25NqCXLSZKGT0FkoG4LG+nt46emKdQPXsXfUuIe6Pg1mM\\\n",
       "2Z91/BpjNnQ44Pc3A2BQ+AvUNC7k5+Psq6+h3YMPoHVWVsNdmMutEJEP6oAFwCNs6YWr+i6uLI4P\\\n",
       "ZLkWhrvA8fubATAo/AVq4VhlIyIf9LaHqyts1RXK3Ct/GZ1b46NvCyHB+9Zu1PD4/c0AGBT+AhER\\\n",
       "hSdfQc6fypv7lmwANItEiwkcnRJjcL7cgYoqF2KizJgzqpfHtevTXVzfqqBRq4j8/uYkECIiMhB/\\\n",
       "Z8X6mjzhz8QKMXO3tKIKOR8eUJaKAeTQp57oYY2UF3a2RkYox4nwqL6fmFhS133F+e7vU++9c0av\\\n",
       "cTEAUkg1+Qzfloy7exAFzd/A42umqz+zYMXMXROgLAMjZgqLxaTFTNtB1yUhwgQMui7JZ1vcZwf7\\\n",
       "OhaAx/usaz1DMhZ2AQeBJeTgNdoMX5VGm0Si1hTjCTlphSgo7t2yTdHl6U8Xq3riiHo/4GDap3df\\\n",
       "o3b36uH3NwNgUPgLFLymCGdNETLrFc4CDYuctEIUlPrO0A2Wv4GLwazp8fubXcAUYq2zsnDtZ5u9\\\n",
       "hr+G6CJu9+ADiOzYEe0efCDga9SpPluvBbrIM3f3IApKU3d3+tvdHMii1UTBYgA0sEDDVX3OCzbA\\\n",
       "nX31NVQXFuLsq68FdD5Qd8hsEPUJZ9ynlygk/A1aDbXXLcfXUXPGLuAgtPQScqBdowX9+sNVVgaz\\\n",
       "zYa0XTsb5R5Ck4zfIyJSaequYmp6Lf37uyGwAmhg/naNBlPFE/eI7dMnoGs0SfWOiEiFlTsyAlYA\\\n",
       "g2CUf0G4V/ECqcrpVQJzc3ORlJSE37Zt6/V6z0+ciBOff44/L1rEEEhERA3CKN/fvrACSHVyrxQG\\\n",
       "UpVzv0Zubi7mz5+PqVOn4qWncnTH+eXl5eFPb76J5ceO4anZsz2uyTUEiYiIAsMAaCCBBqbWWVlo\\\n",
       "9+ADOPvqawGHLREaAeCRrl0xf/585bU/H/kv8l0uTVd0Xl4epk6dqjxefuwYcnNzNddsiAkiRERE\\\n",
       "RsQAaCC+AlNd4VB9rr9B0v24C/n5mPvIo1h+7JjHsX8+8l+8vnEjjgwegucnTtSEP2H+/PmaENgk\\\n",
       "y7sQERGFIY4BDEJLG0Pga+xeXeP8LuTno2TxS8rxrrIyICICKfPmelxLnFtz4QKkigpltvAjXbvq\\\n",
       "hj+1aywW/Oh0+jwmJyfHoxpIRETkr5b2/d0YWAEMU3pVOl9j99TVtAv5+Sha8LSmWijOcZWVQXI4\\\n",
       "gIgIoKZGt5ooqoVSZaV8jt2OC/n5SLnmGq/tTUc6ACjhTzzWE3fiBMf+ERERBYEBMEwFMz7u7Kuv\\\n",
       "ATU1QESE0r16IT8fLrsdAGCyWpEyby7MNhtc5eWaIHYhPx+u8nKYoqNhio4GTCZAklCy+CX8uqgY\\\n",
       "c9sne9xvPMZjGZYhC3LIzEIWlmEZxmO8x7HLly/H6GPH690dTURERLUYAMNUXePj3IOTOjCKc9Xd\\\n",
       "u2dffQ2QJCAiAu2nT0PrrCyY4+LgKitTQqaoHIoqoVRRAURGAhERctWwpga/bdcOz/3+90o70pGO\\\n",
       "CZgAAJiCKViHdZiCKQCACZigqQQuX74c2dnZmvfGiSBERET1xwAYpsTM3ZLFL6GgX3+PCpl7cNIL\\\n",
       "jJe//kYJibF9+gAREUgYMUIZE+gqL4fZZtN0G6OmRqn6AQCqq4GaGpisViVU/vGNN7B8+XIAwAEc\\\n",
       "wEqsVO5pg035+0qsxAEcAAA8de11yM7OVt6b6MrmRBAiIqL64ySQIDT3QaRiyzYAHlux+TMhRIzz\\\n",
       "i+zYEQA0k0TcJ42ozzHHxyuTRBJGjMDlvXs97nPq8ScwaPly/Oh0AADWYZ0m/JWhDKMxGoA8MeTj\\\n",
       "nr2QPGtmvReD5lZyRETkrrl/fzcFVgANwn2snj8TQhJGjFCqa+6VNvHYVV6OQz16KtVAc3w84gcO\\\n",
       "VKp9nf76AmL79EHRgqfx09h7UNCvPwr69ccrf3tXCX9ZyNKEP0CuBIoxgT86nfjb6dMBj2dkFzER\\\n",
       "EZEWA2AYaz99GiI7dpQna6jG6tVFhMNOf31BCYnuXcoAcO1nm5UKo6usTBkTeGn7ds317Bs2ADU1\\\n",
       "qDxwAK6yMrx77BieLi4GII8BFGP+ALnyJ0zBFGUM4NMlxXjPVP/PgF3EREREnhgAw5gIciII1hWC\\\n",
       "9BZudp8o4iorg6usDMXPPCsHQZOcysT1zTYbXHa7puqWMGIEEBGB6PR0rKmswNMlxco9D+AAVmM1\\\n",
       "AHnM32iMVsYErsZqZQwgAMz97DM8P3FivWb9BrJtHRERUbjjGMAghNsYAvU4vpR5c5XuU/Xi0EXz\\\n",
       "/yxP8FBN9FCPLzzc52Z59i+AhFGjEHvLz5QxeH8/d053hw9ArgSqw577Y7W57ZMx7vrrlVnAHN9H\\\n",
       "RET1EW7f34FgBdBA6lozr92DD2gWeHbvPm2dlYWEkSPlat7118tj/q7MAhZE+AOAS9u3KyGyaMHT\\\n",
       "OPru37y2TYS9aywWzWM9pbExXAKGiIgoCAyABlJXYGqdlYWUeXN9dhdf3rsXqKlB9fnzSNu1E2m7\\\n",
       "dirVN/dg6bLbleVjUFODB+x2/KFtW6/te+ra6/Dv69J0F4sWcnJy8OdFi3D21dcQ26ePZjFqvYDL\\\n",
       "haKJiIg8hW0AXLRoEW655Ra0atUK7du3x+jRo1FQUKA5prKyEtnZ2Wjbti3i4+MxZswYFBcXe7li\\\n",
       "y+fP4tDqLlW9wOjrGspxJpPSRXx5714lVCaMGIGpySm6IXBuSgqm/Xk+zLGx+G3r1rohMDs5GY/1\\\n",
       "6KG06/LevcrEk6IFT6Nk8Use7WWVkIiIyFPYBsCtW7ciOzsbO3fuxKZNm1BVVYVhw4ahvLxcOWb6\\\n",
       "9On46KOP8P7772Pr1q0oLCzEr3/96xC2unHVNSHCn8Wh/Vk+JiXnKaTkPKWcq55VnDJvrkcInNe5\\\n",
       "M2YsXozWWVloP30aTNHR+G2bNsi96SblmD+0bYvsxNYoWfySpl3qbmsAHu3lLGAiIiIdkkGUlJRI\\\n",
       "AKStW7dKkiRJpaWlUlRUlPT+++8rxxw6dEgCIO3YscOva5aVlUkApLKysgZv7/k1a6T/3jFYOr9m\\\n",
       "jc/nGuK69bnn/2Y8Ln3fo6d06KY+9Wqb+nXx9z+NGSMtX77c49jDfftJ36f1kL7v0VOa2z5Zyu7Y\\\n",
       "Sfq+R0/lOfd7nF+zRjrct590uG+/oD4bIiIyhsb8/m4pDDML+IcffsC1116L/fv3Iz09HZ999hmG\\\n",
       "DBmCCxcuIDExUTmuc+fOmDZtGqZPn17nNRtzFpH7ThvenmuI63qj3t5NHH+oZy+P2b/q48w2G8xx\\\n",
       "cYjt00dZDzB+4EDY168HJAmm6GhEtGmjVOT0ZvEqM4mjohCZlKQc696WQN8XEREZG2cBh3EXsJrL\\\n",
       "5cK0adMwYMAApKfLCwsXFRXBYrFowh8AJCcno6ioSPc6DocDdrtd89NY9Loug+3OPPX4E6g+fRqm\\\n",
       "6GiPa+hNljj76mty12pEBGL79MGRwUOAyEhNe049/gSKcucrxwHylnH2DRuUNQPtH3+shEbJ4VC6\\\n",
       "mdVdzur7m67MBDbHxiph7uyrryFhxAjNpA91u2P79GFXLxERkZ8MEQCzs7Nx4MAB5Ac5E3TRokWw\\\n",
       "2WzKT2pqagO10JPeWLtAFjVWByv7hg2AJEGqqkLrrCzNa+7j/9RhMWXeXFzavh3VhYUwRUTI4/xy\\\n",
       "c9A6K0uu7F2RMm+usui0CGtioWgAgMmE6Ouv191eTn1/cY3206cBgO6kD9FO9Wtc8JmIiMg/YR8A\\\n",
       "p06din//+9/4/PPPcdVVVynPp6SkwOl0orS0VHN8cXExUlJSdK81e/ZslJWVKT8nT55szKY3CHWw\\\n",
       "EjtyJIwY4fGae3XRPSxKDnnfXqmmBq7ycpQsfgmnHn9CqewhMlIJZWLCR9qunYi+/nrldUgSqs+f\\\n",
       "12wvJ/6uvr970HWf9KG3JzErf0RERP6LrPuQlkmSJDzyyCP44IMPsGXLFnTt2lXzekZGBqKiorB5\\\n",
       "82aMGTMGAFBQUIATJ04gMzNT95pWqxVWq7XR296Q3HfL6PTXF7y+BtQu5ZIwYgTsGzYoYdFktUKq\\\n",
       "rASqq5X9f+0bNsgXioiAOS5OCZPqKlzloUPyX66M3fMW1Nzv7175dH/sL/elbYiIiCiMt4L7wx/+\\\n",
       "gL///e/48MMPkZaWpjxvs9kQExMDAHj44Yexfv16rF69GgkJCXjkkUcAAF9++aVf92hpg0gv5Oej\\\n",
       "ZPFLAID206dpFnA+++prqDl/HlJlJcw2G9J27fQ4Vyy+rJ7ccXnvXuU5yemEyWLRXPunsfeg8sAB\\\n",
       "RKeno+va930GMn8mcpx6/AklmHb66wtezxH3cZWXw1VWxskhRESkaGnf340hbCuAK1asAADcfvvt\\\n",
       "mufffPNNTJgwAQCwePFimM1mjBkzBg6HA8OHD8fLL7/cxC1tOiWLX1Kqd+pKnegK1ozXc+NehVM7\\\n",
       "MniIfN2ICEgVFfJs3SvnVJ8/DwDKn6INIoiqw6C6IumNfcMGoKYG9g0b0OmvLyC2Tx/Yi4vlHUdU\\\n",
       "xHsy22zsIiYiInITtmMAJUnS/RHhDwCio6ORl5eH8+fPo7y8HP/85z+9jv8LN+rAJLZri+zQATCZ\\\n",
       "IDmdPrdOc58x3O7BB2C22WCKipJDZE0NihY8jQv5+cprYuau5HQCACSn02PiibdJLur7uY9jFFvT\\\n",
       "Xd67V3OOGBvYfvo0Tg4hIiJyE7YVQPLUfvo0ZS09dWBS9vctLAQASBUVKFn8kkcXsft6fKLSBwCu\\\n",
       "S5fkpWDENnA1NUqXsbrqaLJYIFVUwGSx+FXxE+dVFxaiZPFLMMfFIWXeXABQln+5DHhcw1fFkoiI\\\n",
       "yOgYAA1E3eWrDkyxffrAfiX86REBrGjB0zDHxyvbromQJ/4OAJAkZTHodg8+oAmJ4p6i+xeAX+Py\\\n",
       "RDev5HCgWrUETHVhIS77eQ0iIiKqFbZdwKRPr5tVqQZGRCA6PR2IiED8wIHK63r77SaMGuW5H++V\\\n",
       "a6i7XZUu21GjlKqcWMuvZPFLSteu3kLUmvbV1MBktXpdDoaIiIj8xwqggaln9opuVLH7h7qL2L1y\\\n",
       "6K1rVV3ZEzr99QXN0jNQ3afm/HlUXwmC7svIqLudRQUwfuBAzbXYxUtERBSYsF0Gpim09Gnkekuo\\\n",
       "BLNuXn334y3o1x+usjKYbTa0nz5Nc19xLbPNBpfdrnQtuy9PQ0REVF8t/fu7IbALOAz56k5V0+tG\\\n",
       "DWS7OXFPV3k5zDYb2j34gF9tUG/55m33DwC1u40QERFRg2AFMAjN9V8Q7pW4+lb13Gf9+nOuumJn\\\n",
       "jovzugBzIG3RW7yaiIgoUM31+7spsQIYhtwre+7r7dVFfby3c/XWAhQVO7GcjN4kjfq2pXVWFtJ2\\\n",
       "7VS6iOuqahIREVHdGADDkLfuVG8zZr0t7OwqL0dsnz5+BTlxT3W3rl5XciCzdy/k56NowdP1Co5E\\\n",
       "RETkHQOgAdQ1rk8vzImlWi7v3avM2lVX3wJdhiWQMYZiZjIiIrjsCxERUQNgACTdMKd+Tq/b1luQ\\\n",
       "U+/a4c9ElPq0L2XeXI4BJCIiagCcBBIEowwirc/EDXGst0kgTdkWIiIiPUb5/vaFATAI/AXyrrGC\\\n",
       "Wn3XGiQiInLH72/uBEKNRGz71tBElzTHAhIREQWOYwBJl7+LSTe1QBeqJiIioloMgKSrvuv11Udz\\\n",
       "DZdERERGwQBIugJd5sUfjRkuiYiIqG4MgKSrMbtaGzNcNlfvFbyHYWuH4b2C90LdFCIiIs4CDgZn\\\n",
       "EZG/hq0dhtPlp9EhrgM2jt0Y6uYQERkav79ZASRqEpNvmIwOcR0w+YbJoW4KERERK4DB4L8giIiI\\\n",
       "Wh5+f7MCSERERGQ4DIBEREREBsMASERERGQwDIBEREREBsMASEREZCDfblqP17In4ttN60PdFAoh\\\n",
       "BkAiIiID+WrdWtjPluCrdWtD3RQKIQZAIiIiA+k7eiwS2rVH39FjQ90UCiEGQKJGxm3giKg56X3n\\\n",
       "SDyQ9wZ63znS4zV2DxsHAyBRI3t9/+s4XX4ar+9/PdRNIaIwF2yAY/ewcTAAEjUSUfnr075PUNvA\\\n",
       "sYJIRP7SC3D1CYXsHjYOBkCiRiIqf3tL9mLj2I24N+3eoK7DCiJR+Gisrla9AFefqp6v7mEKLwyA\\\n",
       "RI1k8g2Tg6r8CX3a94HZZEaf9n3qfS6rh0TNU2N1teoFOFb1SI9JkiQp1I1oqbiZNDWFYWuH4XT5\\\n",
       "aXSI64CNYzc22blE1Hi+3bQeX61bi76jxzZ4ta0xrx0u+P3NCiBRsxdMJbGhqpBE1LAas6tVVBe3\\\n",
       "r3mHM3rJKwZAombu3rR7fY4h9NXNG8y5RNT8+DN2sO/osYiOa4XKy5cC6mbmUjDGELYBcNu2bfjF\\\n",
       "L36Bjh07wmQyYd26dZrXJUnCU089hQ4dOiAmJgZDhw7FkSNHQtNYIje5ubnIy8vzeUxeXh5yc3OD\\\n",
       "miTCCSZEDaOpQpM/Ywd73zkSlpgYQJJgMpt1x/75aq/6HgyD4StsA2B5eTl69+7t9Uv0ueeew9Kl\\\n",
       "S/HKK69g165diIuLw/Dhw1FZWdnELaVwV98qW25uLubPn4+pU6d6/f3Ny8vD1KlTMX/+fNi22NhF\\\n",
       "TBRiDTmpw1fo8ndChzhuyMSHdLuZfbVXfQ+uCxi+IkPdgMZy11134a677tJ9TZIkvPTSS5g7dy7u\\\n",
       "vvtuAMDbb7+N5ORkrFu3DllZWU3ZVApz6iqb6IqduW0mNhzbgBFdRiAjOQOv738dk2+YjO/XfI/5\\\n",
       "8+cr506dOhUAkJ2drTwnwp+wNm8trim5Brih/m27N+3eei1P817Be0pbA13WhigcibDUEDNt1aHL\\\n",
       "PbyJxyKQeRtD2PvOkV5f+3bTejgrLyM6rpVue93Pbaj3Rc1L2FYAffnpp59QVFSEoUOHKs/ZbDb0\\\n",
       "69cPO3bsCGHLqDnxp3Ln7Zj3Ct7DgDUDMHDNQN2FoDcc2wCX5ML6n9ZjyZ4lOF1+GrPnzdaEP0Fd\\\n",
       "CXQPf8KP7/+I2fNmB/pW/cYuYyJ9DTmpo64qX7BVua/WrUXlpUtyNzGgqTbWZ/hJQ2AXc+gYMgAW\\\n",
       "FRUBAJKTkzXPJycnK6/pcTgcsNvtmh8KX/6EHW/HLNmzBHanHWXOMt2FoEd0GaH83e6049yH5/Dj\\\n",
       "+z96vc/UqVPRq1cv3fAn/Pj+jw32H2Vv2GVM5L9Aw406TOpdI5B1/dTX8dbFqx5+8vA9owF4hk31\\\n",
       "8JOG+O8Nu5hDx5ABMFCLFi2CzWZTflJTU0PdJGpE3sKOuuonjunTvo+mEmiCSflz8g2TPSqFzw56\\\n",
       "FvP6z1OuaYo3eW1HOtIBAIcOHdI81pOUlBTAO/VfXbOKiahWQ4QbvWv0vnOkEt6+3bQe325aj7yJ\\\n",
       "9yFvUpbXsOnerSwCpgiDu+0OTQ/EK2s/xOxH/qAJi+49EA0RArlIdegYMgCmpKQAAIqLizXPFxcX\\\n",
       "K6/pmT17NsrKypSfkydPNmo7qempg5q3sOM+pm/j2I3YW7IXp8tPY+mepRi2dhgGdBqADnEdMLf/\\\n",
       "XADAgp0LcLr8NJ7/+nnlOvem3YuRXUfCbDLjtntvQ49JPTzaMx7jsQzLkAV5XGoWsrAMyzAe4z2O\\\n",
       "Xb58uWasIBGFVkOEm76jxyI6Ph7OigpNuFMHuq/WrUVl+UVUXrrkde0/b23pfedInEq6Givf/bvH\\\n",
       "vZ9ZvgLb//sTHsh7A9v/+5NuD0QwIZALVoeWIQNg165dkZKSgs2bNyvP2e127Nq1C5mZmV7Ps1qt\\\n",
       "SEhI0PxQePHV7SvCod6YPlEJlCB57P+rvpajxqG5ZkZyBpJjk3Hy4klE3haJq8ddrbyWjnRMwAQA\\\n",
       "wBRMwTqswxRMAQBMwARNJXDotKFIGprENf2IQkzd1erPuED18Xrdvb3vHAlLdCwqyy/iP6tWIG9S\\\n",
       "Fj5e+hycFRWIjo9H39FjEXPlu8gcGQmYJE3FUFwTgEdbvt20Hr+4pY/u2GPBn+EngYZAdv+GVtgG\\\n",
       "wEuXLmHfvn3Yt28fAHnix759+3DixAmYTCZMmzYNTz/9NP71r39h//79GDduHDp27IjRo0eHtN0U\\\n",
       "WupuX/duWxEO95bsxeQbJuP1/a8rr4lK4GM3P6YbDqMjomGCCXd11c5MF9c0wYQOcR3w/JPPY/ny\\\n",
       "5QCAAziAlVipHGuDTfn7SqzEARwAAHT4XQdc7nsZC3ctxOny01i4ayFDIFGI1DfUuFfy9M7tO3os\\\n",
       "TGYzIEmovHQJh7/Yhsryi7BEx6L3nSNRckwePyy5XBiYNU5T6fPVnq/WrUVUTZXXtjX28BN2/4ZW\\\n",
       "2O4FvGXLFtxxxx0ez48fPx6rV6+GJEnIycnBq6++itLSUgwcOBAvv/wyrrvuOr/vwb0Ew5v7Prrv\\\n",
       "FbyHpXuWQoL8fxm70667x66vpVLcX/N2bLsu7XDu+DkAwDqs04S/MpRhNEYDADp164Rez/TC5arL\\\n",
       "KHOWKcdw71+i0Khvt6Y4vmNaDxz7dg8gmTDwvvs9zv1203pseWcVqh1XehFMJgyd9DB63zkSHy99\\\n",
       "DgU7tiMtcyBGPfqnOtujvmdhwWH8aI7GM8tXaM4bj/GYgAlYiZXIRz6ykIUpmILVWI238Jbm2JY4\\\n",
       "/ITf32FcAbz99tshSZLHz+rVqwEAJpMJf/7zn1FUVITKykr85z//qVf4o/DnPgnk3rR7ERsVC7vT\\\n",
       "rlTs9GbD+upGdn9td/FuFF8uxu7i3coxeXl5SvjLQpYm/AFyJVCMCTx19BTuLr4bj978KDrEdcDI\\\n",
       "riM5S5cohNwnaPhz/AN5b6Cw4LDXpVnEcbGtbLrXGPXonzBjzb88wp/6+u7r+tnPlqCw4DAeyHsD\\\n",
       "i5a9rPQ8APUbfuIr/HGJl+YtbAMgUbDuTbvXo6tXhMJHb37UY4KIrzGCwuQbJsNmseFC5QUMXDMQ\\\n",
       "n/z0CVySCxuObQCgXecvHenKf3QBufInTMEU5T/CU6dOxZn/nMHGsRvx7KBnOUuXKMQCGdumnuyx\\\n",
       "fc07XruCo+NayQ8kCdvz3w6ofXpdr9nZ2fUeflJX5Y9j/Jo3BkAKe8Es6Cwqdgt2LsDMbTOVit0/\\\n",
       "j/wTw9YOw8xtM5Xz1GMERfer+prvFbynrA9YWVOJMmcZrBFWmE1mjOgywmOJhQM4gNVYDUD+j+5o\\\n",
       "jFb+o7waq5X/CAPwuW0cETWtQMa2qSd7wCR5nC+6bQfed78qBHpfPqque6mrgqJSN/C6rujZsycA\\\n",
       "IB/5mn90AvI/QvORDwDo2bMnBl7X1WeFj2P8mrewHQPYFDiGoGVwH8tXn2PeK3gPC3YuAACYTfK/\\\n",
       "l1ySS3ndBBMkSEiwJOCxmx/Dkj1LYIIJj978qBIIxTXFPcR51ggrrBFWXNXqKvzfe/+HwncKdduW\\\n",
       "jnRN2HN/rNYSx+IQkczX+MHXsifCfrZEs4Czr3GG/oxFFMc4Ky+j8tIl7D59Dmv+bycAKGP+3Ikx\\\n",
       "gQBw3239kdGhLRLatccDeW8E89abHL+/WQEkA/Bn9wq9Y0RV7/q218MEEyxmC3q26QkTTIg0RSLB\\\n",
       "kgBrhBWAHOjuTbsXcVFxKHOWYeGuhR5dwZNvmIwESwJsFhvu6noXnC4nypxlOHjuIKrs3mfiibAn\\\n",
       "/mXuLfwBwJkzZ/z/YIiowQUy7k29VIu38YPqalpd4wy/3bQem994BfazJdj8xiv4eOlzum0SXbTV\\\n",
       "VVX44ofjSvjzd/jJmv/biV0nTutW+Dj+r/ljBTAI/BdEeBMVuwRLAi5VXYJLcqFDXAcAUCp7Yoyg\\\n",
       "elbvwl0LlWPrqjiaTWYkxybjdPlpSJ9KOLjmoO7xorLnbS9gAMjJyWn0reCIyDd1pc7fqpj6HAB1\\\n",
       "ni8CnuRywWQ2Y8jEhwAA29e8A5gkQDLJXclXmMxmSC4XouPjYYmOVWYcVzurEGmJwtbvf8D7O3dr\\\n",
       "7hHsLOBAPoemxO9vVgDJQPwZC6gmqoImmOCSXDDBhPKqcvRp3wc2iw3lVeUAoJl0cW/avZjTb45u\\\n",
       "NVF9b3HtEV1GoKhc3n/aPNyMWyfc6tEO9X9cs7OzMXHeRI9jrrnnGvS6r5fH+6vveyai4AQy7k19\\\n",
       "jnoyiK/KneSSh6JILhe2vLNKsxtIdbUTJrMZydd0R3RcK0RERcnjBiUT7GdL5HUEL11CtdOhG/4A\\\n",
       "4C28hUfwiNLdm498PIJHPMIfoD8GmeP/mj8GQDIEUZlzX57FV0ASizuLJVZaWVrB7rRjb8leOGoc\\\n",
       "sDvtmq3dxLX+eeSfmqVd1PcWizSLGcYbjm1Q1hWUICFuVByuueca5ZoT501Uwp+4fkHPAnT4XQfl\\\n",
       "mNRfp2LRgkVYsmcJTpefxpI9S5TXfC1JQ0T+a8wuTfWkDPVkkIId273OBhbVQgCodjjQMa0HouNa\\\n",
       "ITo+HpGRFkgul7JAdLXDAUtMDLrc1Ed7Y5MJlyorvbZLWWy+tU3zWI/78BN/dkGh0GIAJEN4ff/r\\\n",
       "cEkumE1mTWVOHZC8hUG9XT7Elm7qrd3EtQ6eOwiX5MInP32iuTcgTyARYUw8b4IJ0RHRsFlsmHzD\\\n",
       "ZCxasAjtR7dHh991wDfdv/HYiUSChKQ7k9Dhdx2QdHcSetzXA/em3QsT5BmB4k/A984mROQ/f5c0\\\n",
       "aYilT0TAS8sc6HX/3gfy3kCPAYOU5woLDmPgfffDEh2LLjf1Ubp9YZIQHdcKzsrLOLZvb+1Friwk\\\n",
       "nf37cbiz17Ve23Lfbf1ReL5Us06guym/+y06nTnhMxxzTGDzExnqBhA1Bfexeurnl+5ZivKqcmWJ\\\n",
       "FnVA69O+j7L1271p9yrn/vPIP3Hw3EFEmCKUil6f9n1QfKwYkAAXXMoEkck3TFbGBZpNZvRp3wfD\\\n",
       "1g5Dm+g2KL5cjBFdRuDZQc9qG/wMlHNe3/+6Zk1CEWCXRMkzjsVjMfNYHXDVbRbjDpfsWeJ1pxIi\\\n",
       "0qeeedsQx+lR7+jhz7i5q3qmK7uHiPvaz5bAfrYEydd0R1lxMXClh6Hy0iVEx8fLXcEmCV163yzP\\\n",
       "AK6owPD062AymbDx4H811x9zS2/MnDcPAJSeCPcxyDk5Oeh05oQSer1V/NTBmFXB5oGTQILAQaTh\\\n",
       "YcCaAbA77YiOiEbr6NZK0BKTNPQmdNzy7i2orJG7TtyXeUmwyL8LzhonrBFWPHrzo9hdvBuf/PSJ\\\n",
       "EgorayqVJWS8bSe3dM9SOGocyjUCDWtiNrMIs2LbOG4XR9S46rMUS9/RYzUTO2as+Zfu8SIktu9y\\\n",
       "DUqO/ahM7gCAamcVqp21vRKiChhptaKmqkrZKk49iSTSakW104lIiwW7ztixZsN/AAC/6nM9BlzX\\\n",
       "FdGx8Zqt6dQT0cTEs/q+z+YQAPn9zQoghSlf+/G6U3eZCiIEitAkqnbisQh/ANCnfR+8V/AeLldd\\\n",
       "VtYDXLpnKSprKlFZU6lUFCVImvMizZFoF9POY3ma9wrew9M7n4YECSaYlGvUta+wt+dFmEUJlD2N\\\n",
       "3SuFRNTwRNVr+5p3vIYf9TERUVGodjqRljnQ6zULdmyH5HKh+McfAMghz33WryDCZGRUFKodDhQW\\\n",
       "HFbuKXcPm1DtdAKShGqHAxm2aJztdS3irRYMuK4rIEmoLL+I7flvK+0XlcAzZ84oqw6IsYvUsnAM\\\n",
       "IIWl+kx+EJM8LBEW5Rwx7i8jOQMA8MWpL3C6/DTW/7Qep8tPI8ocpZy/t2Qvlu5ZijJnmbIeoJjY\\\n",
       "IbpoxRZwCZYEREdEAwAiTBEoryrH0j1LNbuFLNy1UDk/whSBDnEdlACqHr/n7T26P6+3pzG3iyOq\\\n",
       "n0DGsCmTNUyS13GB6mOqHQ4ktE3S3dNXaN9FniRmjYuHyWxGWuZAeXeQK927PQYMQkK79sqfQyY+\\\n",
       "hIFZ4zRjCcU9I6MswJVOwOj4eJjNERiefh0GXNsF0XFxtV3GV2YPi/ZnZ2cr4c/fz4XbwjU/DIAU\\\n",
       "lupa/Fk9IUJvkocgwlSZU7slUpVLXrhZTCoRS8KIPx+7+TEkWBKU7mAAiI2KxWM3P4Y/3vJHdIjr\\\n",
       "AGuEFXanHWXOMo+JIUJcVBw2jt2IvSV7PcKet/fIwEfU8AIJMGKyhnsAcz+m7+ixgGRCdHx8nWMH\\\n",
       "K+x2AIDjcjkklwvHvt2D3neORPaqfGS/sQajHv2TMn7w4vmz2P/ZRo/qo2iX6PyItFqRvSoflhj5\\\n",
       "H6cwmdCl982wRMdi4H33Y+B993ttv/hcNr/xis8QyGVhmh+OAQwCxxC0XL62h3PvIhVbwZlgQkpc\\\n",
       "CorKi5QKnc1iw6M3P6p02QLAyK4jkZGcoVkQGoAypnBOvzkAgCV7lijjBAd0GqB0NYs/t5/armwr\\\n",
       "ByCgiRv16QonIu8acwxbfRZNFu24bC+Tx/tdmc3r3qa//ubnHuf2GDBIU13Mm3gfKssvIjquFbLf\\\n",
       "WIOPlz6Hw19sAyCHwmqHw6NN6s8BALa8vUoZdxgd1wqWmBiPz6i5jf8D+P0NMAAGhb9ALZevYKQO\\\n",
       "h33a98H6n+R/1Y7sOhLPDnq2dhcPmOGCHPDaRLfBwXPyLh7q3T1MMKGVpRUGdhqIDcc26O4mop5A\\\n",
       "og6k/uxhXBf1jiNz+s1hCCRqAvUNPHUdr/e6eiKHXnDUC4Duk0vEdTum9UBhwWE4KypqxxKaTIiO\\\n",
       "iwMkE7rc1AeFBYc1M41NZjOsMXHK8SazGdbYWFReuuTRnua4Kwi/v9kFTGHG37XufHWLqrtQNxzb\\\n",
       "oHltwJoB8oQKyEu9JFgSMPmGyThfeV45ZkSXEZh8w2RER0RDgqQsHi12COnTvg/Kq8phs9g0k0vc\\\n",
       "x/qJdqifC2Q3EzGTWXQfcz1AosA01ni3uhZN9nY9a2wsouNa6XarRlqsqke1E92+3bRes/fwA3lv\\\n",
       "4Ni3e+Q9gaudiLRaAZMJPW69TXdB6r6jx3qsMRgdH6871lDcp2NaD3b/NkMMgBRW6rvzhV4YUofD\\\n",
       "EV1GKM9vOLYBdqddc35cVJyyBqBY0DkjOQP3pt0Lp8upHKfeNm77qe2wO+2QIClj+/aW7PUY66fe\\\n",
       "LUQ8V9/3p7c1HXcHIQqMr2CnDofq7dzqM2nEPWCKxzEJCYDJhMsXy5TXvlq3FpWXLsESE4Ped47E\\\n",
       "t5vWI29SFvIm3odvN63H7eMmASYR/K7sNuRy4at1a7E9/2155nH+2wCA6qoqpQ233z8J0XFxOLZv\\\n",
       "rxLc1AtS975zJIZMfAgJ7dpjYNY4ZL+xBtmr8pWZwOogKz6vgh3bm1X3L8kYACms1DX5A9CGvrrC\\\n",
       "0LODnsW8/vNgs9hgMVuUHTtGdh2p2WFDbOmmXvZlRJcRMJvMiI6I1iwwrd6xw729fdr3URaLBjx3\\\n",
       "MPHn/blzr3YGcg0i8j2RwX2hY1E9q8+kEfeAKR6XHPtRWarlq3Vr8e2m9bhUKvc6xFzpvhSBUNyz\\\n",
       "950j5S5cAObISMBkQqTVqkw4AeTg91r2RLhqauQGSNrriJ1DruqZrgl2/m7zpq4WcvZv88N1ACms\\\n",
       "qHe+8EYd+tx31/B2zdf3v+518eRha4cpW7qJLmFADo8ZyRlYsmcJrBFW3R073Nu7t2QvXJILe0vk\\\n",
       "//CKnUokSNhdvFuzK4kvvsY4+vMZEZEnX+vdue8AEsiOIN6u0TGthxzGTJLynKu6GgCU/X77jh4r\\\n",
       "V/Su7AoCAAOzxvlcf9BZUQH72RKlUhhpidJcRyxfo14HsD5VPHUlkN2/zQ8ngQSBg0hbpkBmxvo6\\\n",
       "x/019WMRNuuabSzOW7JniTLzVzyn3kZO/FnXhA5vE0iCmRXMGcVEwWuIGbHfblqPLe+sQrXTieSu\\\n",
       "3VBht+vOvN2+5h3AJGFg1jifk0vEJBBvs3fF5BAxiaOhJ7mEAr+/2QVMBhTIunju54hu5Kx/Z2Hh\\\n",
       "roVKl+2wtcOwZM8SpcLo3qWr5t79/Pr+12F32hEbFavcR90FLLqU1RM6vPHWzRvM+D+OHSQKXiDr\\\n",
       "CepNPomMtCA6Lg5lxcW61/tq3VpUll9E5aVLmtf0ruXexSso6xjedz+i41rBWXlZCXP1eQ9cBLp5\\\n",
       "YgAkCoAIQwfPHYRLcmHDsQ3Kc84aJ8wmM9pEt1GWfhFdumru4VDsFlJeVa7M+BXby83pNwfPDnrW\\\n",
       "Y0KHN95CbjDj/zh2kCh4gSyIrDc2UIQ7mCTd6/UdPVaZodsxrYcyQURMAPlq3VqP63689Dm8eN8v\\\n",
       "8fHS5zTX6n3nSMAkofLSJWx5ZxWcFRV+LVodzHumxscu4CCwhBy+6uruFK+3iW6DQ+cPYUSXEchI\\\n",
       "zsDr+19HeVU57E671y5bce7lqsvKDiO+Fo8OZh1AIgqdhur69Fh8+Z1VqHY4EGm14vb7J9V5bbEO\\\n",
       "HyAvDxObYFOupW7fi/f9Utk/WL1eIFC7aDRMJkCSmtWafoHg9zcngRAB8Ax86u5OdQBUH6cXytRj\\\n",
       "AMWuHu5jA0VAVG8Tt+HYBmUCiJjxC9Tu/hHo+yCi0HGfGRwo9eST17Inotoh77wR28rm13X7jh6L\\\n",
       "/6xaIc8krnJ6bAsnpGUORMGO7UjLHOhxjYH33e8xXpBaNlYAg8B/QYSPAWsGKKHsi/u+8Bqkgtmd\\\n",
       "Q5xrs9gQGxWLyTdMxu7i3dhwbIOmghhMeGuI3UOIqGE01IQP9TW+3bRemaU78L77NTuD1LWbiK+d\\\n",
       "QxpSc5z04Y7f3wyAQeEvUPgYuGYgypxlsFls2H7fdq/HNfdZtKwAEoUXX9uoqYPW9jXvaPb1dfft\\\n",
       "pvXyvr1VTvS49TbNnsBN2ebmgt/f7AImAqBdm8+XYNbQa4j19+oKeFzjj6jpNWbFy9d6gqKLefua\\\n",
       "d1B5+ZL8pEm/pvPVurWodspdx4UFh73er66lYYJtMzUfnAVMhMCWhmkoM7fNRO+3e2PmtpkAfO/V\\\n",
       "29hLsXCfYKL6a8xlTrztuvHtpvVwVl5GdFwrOfRJEkxmMwZmjVNeVy/3op4V7CuYqbdvC/Q9+btT\\\n",
       "CIUWAyBRiImlYjYc2wDAd8hzX4qloQMb1/ojqr9QLHOi3gt4YNY4JLRrjyETH/LYh1cEuN53jtTs\\\n",
       "2wvorwko3ot6/1+946jl4xjAIHAMATWEmdtmKhNBnh30bL3G8TX0pA+OISRqGfyZ9FFXt7S/Y/Xq\\\n",
       "O6aPk0BaBgbAIPAXiEKNgY2IAuVvUKtvoOMkkJaBATAI/AUiIqJQ8RXMGmoJGr0lZ4JpV3PB72+O\\\n",
       "ASQKGU64IGp64TSezdfkk4aYmCLGGVaWX6zXdTgJpGVgACTDaS7BixMuiJpeY87YbWq+Jp80xMSU\\\n",
       "vqPHIjo+HtFxrfy6TjiFayNgF3AQWEJumZrLbhkcv0fU9FpC92RL1RLG/gn8/mYADAp/gVomBi8i\\\n",
       "oobXksI1v78ZAJGXl4fnn38eRUVF6N27N5YtW4a+ffv6dS5/gcIfwyIRUfjh97fBxwD+4x//wIwZ\\\n",
       "M5CTk4M9e/agd+/eGD58OEpKSkLdNGomOE6PiIjCkaED4IsvvogHHngAv//979GrVy+88soriI2N\\\n",
       "xRtvNO+xC9R03HfeICIiT5wA0vIYNgA6nU7s3r0bQ4cOVZ4zm80YOnQoduzYEcKWUXMSyj2CiYha\\\n",
       "inCaXW0Uhg2AZ8+eRU1NDZKTkzXPJycno6ioSPcch8MBu92u+SEiIjK6UOyHTMGJDHUDWpJFixZh\\\n",
       "/vz5oW4GERFRs9L7zpHNfuYvaRm2AtiuXTtERESguLhY83xxcTFSUlJ0z5k9ezbKysqUn5MnTzZF\\\n",
       "U4mIiIgalGEDoMViQUZGBjZv3qw853K5sHnzZmRmZuqeY7VakZCQoPkhIiIiamkM3QU8Y8YMjB8/\\\n",
       "Hj/72c/Qt29fvPTSSygvL8fvf//7UDeNiIiIqNEYOgD+5je/wZkzZ/DUU0+hqKgIN910EzZs2OAx\\\n",
       "MYSIiIgonBh+J5BgcCVxIiKiloff3wYeA0hERERkVAyARERERAbDAEhERERkMAyARERERAbDAEhE\\\n",
       "RERkMAyARERERAbDAEhERERkMAyARERERAbDAEhERERkMAyARERERAbDAEhERERkMAyARERERAbD\\\n",
       "AEhERERkMAyARERERAbDAEhERERkMAyARERERAbDAEhERERkMAyARERERAbDAEhERERkMAyARERE\\\n",
       "RAbDAEhERERkMAyARERERAbDAEhERERkMAyARERERAbDAEhERERkMAyARERERAbDAEhERERkMAyA\\\n",
       "RERERAbDAEhERERkMAyARERERAbDAEhERERkMAyARERERAbDAEhERERkMAyARERERAbDAEhERERk\\\n",
       "MAyARERERAYTlgFw4cKFuPXWWxEbG4vExETdY06cOIFRo0YhNjYW7du3xx//+EdUV1c3bUOJiIiI\\\n",
       "QiAy1A1oDE6nE/fccw8yMzOxatUqj9dramowatQopKSk4Msvv8Tp06cxbtw4REVF4S9/+UsIWkxE\\\n",
       "RETUdEySJEmhbkRjWb16NaZNm4bS0lLN85988gl+/vOfo7CwEMnJyQCAV155BTNnzsSZM2dgsVj8\\\n",
       "ur7dbofNZkNZWRkSEhIauvlERETUCPj9HaZdwHXZsWMHbrjhBiX8AcDw4cNht9tx8ODBELaMiIiI\\\n",
       "qPGFZRdwXYqKijThD4DyuKioyOt5DocDDodDeWy32xungURERESNqMVUAGfNmgWTyeTz5/Dhw43a\\\n",
       "hkWLFsFmsyk/qampjXo/IiIiosbQYiqAjz/+OCZMmODzmGuuucava6WkpOCrr77SPFdcXKy85s3s\\\n",
       "2bMxY8YM5bHdbmcIJCIiohanxQTApKQkJCUlNci1MjMzsXDhQpSUlKB9+/YAgE2bNiEhIQG9evXy\\\n",
       "ep7VaoXVam2QNhARERGFSosJgPVx4sQJnD9/HidOnEBNTQ327dsHAOjevTvi4+MxbNgw9OrVC/ff\\\n",
       "fz+ee+45FBUVYe7cucjOzmbAIyIiorAXlsvATJgwAW+99ZbH859//jluv/12AMDx48fx8MMPY8uW\\\n",
       "LYiLi8P48ePxzDPPIDLS/0zMaeREREQtD7+/wzQANhX+AhEREbU8/P5uQbOAiYiIiKhhMAASERER\\\n",
       "GQwDIBEREZHBMAASERERGQwDIBEREZHBMAASERERGQwDIBEREZHBMAASERERGQwDIBEREZHBMAAS\\\n",
       "ERERGQwDIBEREZHBMAASERERGQwDIBEREZHBMAASERERGQwDIBEREZHBMAASERERGQwDIBEREZHB\\\n",
       "MAASERERGQwDIBEREZHBMAASERERGQwDIBEREZHBMAASERERGQwDIBEREZHBMAASERERGQwDIBER\\\n",
       "EZHBMAASERERGQwDIBEREZHBMAASERERGQwDIBEREZHBMAASERERGQwDIBEREZHBMAASERERGQwD\\\n",
       "IBEREZHBMAASEREZ0IFtp/D2k1/gwLZToW4KhQADIBERkQHt2XAMF887sGfDsVA3hUKAAZCIiMiA\\\n",
       "bh7RBa3aWHHziC6hbgqFQFgGwGPHjmHSpEno2rUrYmJi0K1bN+Tk5MDpdGqO++6773DbbbchOjoa\\\n",
       "qampeO6550LUYiIioqaVPqgTxv1lANIHdQp1UygEIkPdgMZw+PBhuFwurFy5Et27d8eBAwfwwAMP\\\n",
       "oLy8HC+88AIAwG63Y9iwYRg6dCheeeUV7N+/HxMnTkRiYiIefPDBEL8DIiIiosZjkiRJCnUjmsLz\\\n",
       "zz+PFStW4McffwQArFixAnPmzEFRUREsFgsAYNasWVi3bh0OHz7s1zXtdjtsNhvKysqQkJDQaG0n\\\n",
       "IiKihsPv7zDtAtZTVlaGNm3aKI937NiBQYMGKeEPAIYPH46CggJcuHAhFE0kIiIiahKGCIA//PAD\\\n",
       "li1bhilTpijPFRUVITk5WXOceFxUVKR7HYfDAbvdrvkhIiIiamlaVACcNWsWTCaTzx/37ttTp05h\\\n",
       "xIgRuOeee/DAAw8Edf9FixbBZrMpP6mpqUFdj4iIiCgUWtQYwDNnzuDcuXM+j7nmmmuUbt3CwkLc\\\n",
       "fvvt6N+/P1avXg2zuTbvjhs3Dna7HevWrVOe+/zzzzF48GCcP38erVu39ri2w+GAw+FQHtvtdqSm\\\n",
       "php6DAEREVFLwzGALWwWcFJSEpKSkvw69tSpU7jjjjuQkZGBN998UxP+ACAzMxNz5sxBVVUVoqKi\\\n",
       "AACbNm1CWlqabvgDAKvVCqvVGtybICIiIsWBbaewZ8Mx3DyiC5ekaUItqgvYX6dOncLtt9+Oq6++\\\n",
       "Gi+88ALOnDmDoqIizdi+3/72t7BYLJg0aRIOHjyIf/zjH1iyZAlmzJgRwpYTERFpBbtlW1Nu+RbI\\\n",
       "vbgjSWiEZQDctGkTfvjhB2zevBlXXXUVOnTooPwINpsNGzduxE8//YSMjAw8/vjjeOqpp7gGIBER\\\n",
       "NSvBBqSmDFiB3Is7koRGixoD2NxwDAERETU2X12k/nSf+tvFGmhXrPo8AC2iO5ff3wyAQeEvEBER\\\n",
       "BSKYcW/qc0XFrVUbK8b9ZUBQbXr7yS8Culag54USv7/DtAuYiIioOQumW1Z9bkN2nwZ6LXbhtkwt\\\n",
       "ahYwERFRSyaqdyndEgGUBhSaROVPXT1UB0m9yqI/Fcf0QZ00r+Xm5iIpKQnZ2dle25KXl4czZ84g\\\n",
       "9y+59X4fFFoMgERERE1EVO+A0oC7S92Dmns1Ufzd2zH+dDnn5uZi/vz5ymO9EJiXl4epU6dqzqGW\\\n",
       "g13ARERETSTY7lK9ZVbU1/R2/frc1z38TZ06FXOmL9Qc4x7+5s+fzwDYwnASSBA4iJSIiJpSY0+4\\\n",
       "cA9/asuXL0d2drZH+FPLyclBbm5us1/cmd/fDIBB4S8QERE1JfdgpRe0Ag1ff/j9DKxYvdjnMT17\\\n",
       "9sShQ4d8HpOTk4NrnHdqgmpzC4T8/mYXMBERUYuRPqgTxv1lgGbyh/ts4kBnGF8q9HFfpAOAEv7E\\\n",
       "Yz1JSUkeXc7c7aP54SQQIiKiEPJVxUvploiio6WIbmXB2ZMX0T0jGcMmXa+cK2YEp3RLxNtPfqGM\\\n",
       "A1QvzFzXvYQ/zXkcAPDORm0VcDzGYwImYCVWIh/5yEIWpmAKVmM13sJbmmNFNzEAzfV9tYlCg13A\\\n",
       "QWAJmYiIguU+ru/AtlPYll8AyQWYzIDkqj3WZAb+8PJg5bEIdM7KGjguV3uMDXTfpUNc19cYwjnT\\\n",
       "F+IvL80FIFf6lmGZ8loZymCDTXn8CB7BARwAoA1/zR2/v9kFTERE5JPezNuGpNddKsJf94xktGpj\\\n",
       "RXwbKwCgXWorzbm1y8pAuYa6vequV/V11ZU49/e3cPEcLF++XH4NB7ASK5Vj1eFvJVbWGf4a+7Oj\\\n",
       "wLECGAT+C4KIKPw15MzbQPfuFW2wxkbCEh3h0TXcLrUVKi86PbaHc+961bu3+v2pj7/3oTuVMX/r\\\n",
       "sE4T/spQhtEYDUCeGPL99983+mfXkPj9zQogERGRTw251Zk/kyHcJ3qo2wDICz3/sLsYF887cOb4\\\n",
       "RUgu4MyJi7h43oGd6456ba/edQ9sOwVnZQ2ssZFI6ZaIbfkFuHjegecW/lUJf1nI0oQ/QK4EZiEL\\\n",
       "gDwxJC8vr841Cql5YQUwCPwXBBER1cV9HF6gW7Wpj0vplogfdhcr4wPNESa4aiRYYyMx+cVBAICN\\\n",
       "qw7iyNfFAORu30FZaR7XVlfoADlcbvt+Hd77P3ncX33GAN4/bDr6df25X9W+UC8Lw+9vVgCJiIga\\\n",
       "lfs2bO5VOPdj3Kkra+L8YZOux6CsNJiufIubzSbABNRUuZQK3JFvipVrSK7a/YLF9TauOqhU/8Ts\\\n",
       "4V0//VsJf4A8BnA1VgOQx/yNxmhlTOBqrFbCHyDPHt7107/9qvZxWZjQ4zIwREREjcjbEijqKpiv\\\n",
       "ZVJ2rjsKx+Vq7Fx3VBMcxd93rjsKR0U1IAHVVS4laEZGmVHtdMEcYUKUNQLOyhpsXHVQqRxeKi1W\\\n",
       "ZgSnD+qEvLw8jyVgAOAtvIXd2K2EvXzk48CV/7l7Z+Ni9PtlN6QP0p8QIqqX6uAZ6mqgUbECSERE\\\n",
       "1Ij8qfp5O+bAtlNyuHMjqngAYImOAFSDuSTIXbtdeyehVRsrbvvNdaipdsFxuRpHvq7tNo5LtMJk\\\n",
       "BlK6JQIAzpw54/U9iLDXs2dPzWM93q4j3u8Pu4vhuFwNS3QE0gd1YjUwRBgAiYiIQiClW6ImgOnZ\\\n",
       "s+GYnOhM8mPRvStC07b8AkS3sihdwQBw6bxDCVqioljtdMHdpfMOSC7gp31n8PaTX+DW1Hswqu94\\\n",
       "r21Zvnw5vv/+e2WJGD1iL2A9YkKIWNpGtM2fz4EaHruAiYiImpB68WbJBRQdLfV4TXSHiq5hsdCz\\\n",
       "qBbePKKLsqjz2ZMXtYtFmwCYtOP+NEzQVAyrq1y4eN6Bi+eLcVefcXDVSPhk99uaU9Tr/P1/N4zG\\\n",
       "/cOOenQXu4c/9/ciftwVHS31+Byo8bECSERE1IT0Fm92f00EN9E13H90N7RqY1W2fAPkWb3qilqk\\\n",
       "Rf5KlwBNle3mEV0QGSW/FhllRtLVrWAyyzOHFabaP0fdMh53ZYxTXnpy2tOwHr0Br8/YpoS6fl1/\\\n",
       "jvuHTVeOeXjCdOTm5uouQr1z3VGfi0FzqZjQYAWQiIioCan373WvenmbDCKqZ2LZlj0bjiljBg9s\\\n",
       "O4Wio6Xo2jtJmeBRdLRUsxTL1jUFAORqn/1MBSQXYImNgLOyGpILiIw0o6bGhe4Zyeh4bSKsMZMQ\\\n",
       "GWXGDf27Iy3mdiWw7lx3FABgjY1U9g4+e+4c+ncYA0AbYNXVS9FdLd6L3nujpsUASEREFAInDp5T\\\n",
       "unWB2vUB9dbQExW16FYWXCp1aMbLidB1qbQY3TOSUXS0FDeP6KLM+O2ekazMCBassZGoqXIhItKM\\\n",
       "iEgzaqpdkFxym4ZNuh7pgzphMgYp9xbBDwAcl6uVMYd/mvM4dq47CmdlDQ5sO6UJsCLYqfc2Fl3Y\\\n",
       "FHrsAiYiImpCel3Ada0DKHboEDt/qCuHIgyqK3/pgzrhyDdyNfDIN8UYMPZauYvYBFx9fVtYoiNQ\\\n",
       "XeVSQmF1leckETVLdASuvr6t8lhy1VYDnZXVmvGJ7rOZ0wd1Urqr2c3bfLACSERE1ITcq2SCqKRt\\\n",
       "XHVQqeKJZVI0kzzM0AQpEQbFTNq3n/xCHvcXaUZ1lQtmkwl7NhxDRKRcBRRVQWfludqLSvL5/Ud3\\\n",
       "82ivusIouaCZRCLa5t4md/5283JNwKbDCiAREVET8lYls0RHwHG5WtnnV1QDxSSJa2+RJ3a4b+km\\\n",
       "Xh+UlYaio6XKuQPuuRbW2Ei4JAkXzzvk9QSvzA4+cfAcLNER6D+6mzLBRG+rOPVewWJiybU/k//s\\\n",
       "P7qb5t4NEdi4JmDTYQWQiIiokflT2XKfHCIqauJ4b+e7V9fUx+3ZcAyOy1cWkpbkWcAxraKUiRlb\\\n",
       "1xTAGhOJq69vi53rjmLnuqNKFVC9w0irNlYMm3S9x/vwNrM3UL52RKGGZZIkSar7MNLDzaSJiMgf\\\n",
       "YvZuqzZW3UkevmxcdRBHvpb39fV2vnqixtXXt9UEyD0bjqHiYpUyzu/aW+SZvmJiBgBNt26rNlYA\\\n",
       "UMYpmsxQKnzifVhjI2GJjlDWJ1Qf0xLw+5tdwERERI0ukLXuxJp6R74p1lxH77ht+QVwXJYnYxz5\\\n",
       "plip7gHAuL8MQNebkpTjj3xTrEzMEEwmeWaw2J/35hFdlMfqYCfeB6ANiF4XnQ6Cek1BanjsAiYi\\\n",
       "Impkgax1J8bDRVrkyRxiMWdR7aupcgGmKzN4RV+eCTCbTHBJEiDVLruinjUcGWlW2rR1TQEgyQGu\\\n",
       "/+huHuMSBXXX77i/DFAep3RLxImD8mSShu62dd8rmRoWK4BERETNkKi2DRh7LVq1tqLa6cK2/AJ8\\\n",
       "8f4ROC5X1y7jcmUGrzU2EpCAqOgITTVPXEs8N+Cea5V7XPuzZOXvezYc81p105uc4ayswZFviuG4\\\n",
       "XA1LdAQABFWxc783dwhpXKwAEhERNSPq6pqg3vu32lW7JkykRV7IWUzc8HeiiDBs0vXoeG2iZucO\\\n",
       "vaqb++QMzeQSE3ye6y/387lDSONiACQiImoGRPATEyvEunti2zfgyoSOS1WodrpgjY3E5BcHaa7h\\\n",
       "rdvWW5ByP6bwSCkulRZrwqe4rnsgFN3H1phIj5nKgeAM4KbFAEhERNSEvAUzUQGzxkaiVRsroltZ\\\n",
       "cPbkRSWMqbdW8ycoqStqhUdKceSbYkRGmjHgnms1gU1ddSs6Wuqx04gevcAXbMWOFb+mxTGARERE\\\n",
       "TcjbYsdizFv/0d0w7i8DUHnRqYSxA9tO4fUZ2/D6jG0A4LGQtB71GLofdhcDkjxhRH1f9THqRZ/9\\\n",
       "qcLpLWjtL87wDT1WAImIiJqAdmxfqUfI0utmVY/NE2Pu/B1jp64YRkSYUe2SZxJ7C3fiHmKZl7ef\\\n",
       "/EKzKLV79TGYah1n+IYeAyAREVETEKEHKPVrMWj3QCgWehbVOn+D2J4Nx1Bd5dJdRFodxNwDp3r/\\\n",
       "XxHUGiq4cbxf6IVtF/Avf/lLXH311YiOjkaHDh1w//33o7CwUHPMd999h9tuuw3R0dFITU3Fc889\\\n",
       "F6LWEhFRuAtmWZP0QZ0w+cVBmPziIE0Q27nuaJ1dqb7uq35N3aUrnhf7/wbSRVzX+wm0+5gaRthW\\\n",
       "AO+44w48+eST6NChA06dOoUnnngCY8eOxZdffglA3gZm2LBhGDp0KF555RXs378fEydORGJiIh58\\\n",
       "8MEQt56IiMg7UUETe/r6qsj5mlzh7TW9599+8guli5jBreUzzF7A//rXvzB69Gg4HA5ERUVhxYoV\\\n",
       "mDNnDoqKimCxWAAAs2bNwrp163D48GG/rsm9BImIyF/B7AfsTaBj8gI5r6HG/zUH/P4O4y5gtfPn\\\n",
       "z+Nvf/sbbr31VkRFRQEAduzYgUGDBinhDwCGDx+OgoICXLhwIVRNJSKiMNUYO1sE2pXqbSZyfe7l\\\n",
       "z0xezvZtvsI6AM6cORNxcXFo27YtTpw4gQ8//FB5raioCMnJyZrjxeOioiLd6zkcDtjtds0PERGR\\\n",
       "P5rTuLeGCKP+hMhAgiY1jRYVAGfNmgWTyeTzR919+8c//hF79+7Fxo0bERERgXHjxiGYHu9FixbB\\\n",
       "ZrMpP6mpqQ3xtoiIiJpUQ4RRESJTuiV6rfJxP9/mq0WNATxz5gzOnTvn85hrrrlG060r/O9//0Nq\\\n",
       "aiq+/PJLZGZmYty4cbDb7Vi3bp1yzOeff47Bgwfj/PnzaN26tcc1HA4HHA6H8thutyM1NdXQYwiI\\\n",
       "iCi81TX2rzHGNjY2jgFsYbOAk5KSkJSUFNC5riubZ4sAl5mZiTlz5qCqqkoZF7hp0yakpaXphj8A\\\n",
       "sFqtsFqtAd2fiIiopVCHvrrW/uOafi1Ti+oC9teuXbuwfPly7Nu3D8ePH8dnn32G++67D926dUNm\\\n",
       "ZiYA4Le//S0sFgsmTZqEgwcP4h//+AeWLFmCGTNmhLj1REREoeW+QLSvbtzmNLaR/NeiKoD+io2N\\\n",
       "xT//+U/k5OSgvLwcHTp0wIgRIzB37lylgmez2bBx40ZkZ2cjIyMD7dq1w1NPPcU1AImIqFlriuVY\\\n",
       "1FU99zUBw2k5GCNrUWMAmxuOISAioqYW6jF3ob5/Q+D3d5h2ARMREYWrUM+sDfX9qWGwAhgE/guC\\\n",
       "iIjCUbh38/L7mxVAIiIicsMFnMMfAyARERFpsJs3/IXlLGAiIiIKnPvMXwo/rAASERERGQwDIBER\\\n",
       "EZHBMAASERERGQwDIBEREZHBMAASERERGQwDIBEREZHBMAASERERGQwDIBEREZHBMAASERERGQwD\\\n",
       "IBEREZHBMAASERERGQwDIBEREZHBMAASERERGUxkqBvQkkmSBACw2+0hbgkRERH5S3xvi+9xI2IA\\\n",
       "DMLFixcBAKmpqSFuCREREdXXxYsXYbPZQt2MkDBJRo6/QXK5XCgsLESrVq1gMplC3Zx6sdvtSE1N\\\n",
       "xcmTJ5GQkBDq5jRr/Kzqh5+X//hZ+Y+fVf3w8/JNkiRcvHgRHTt2hNlszNFwrAAGwWw246qrrgp1\\\n",
       "M4KSkJDA/zj4iZ9V/fDz8h8/K//xs6offl7eGbXyJxgz9hIREREZGAMgERERkcEwABqU1WpFTk4O\\\n",
       "rFZrqJvS7PGzqh9+Xv7jZ+U/flb1w8+L6sJJIEREREQGwwogERERkcEwABIREREZDAMgERERkcEw\\\n",
       "ABIREREZDAOgwRw7dgyTJk1C165dERMTg27duiEnJwdOp1Nz3HfffYfbbrsN0dHRSE1NxXPPPRei\\\n",
       "FofWwoULceuttyI2NhaJiYm6x5w4cQKjRo1CbGws2rdvjz/+8Y+orq5u2oY2E3l5eejSpQuio6PR\\\n",
       "r18/fPXVV6FuUrOwbds2/OIXv0DHjh1hMpmwbt06zeuSJOGpp55Chw4dEBMTg6FDh+LIkSOhaWyI\\\n",
       "LVq0CLfccgtatWqF9u3bY/To0SgoKNAcU1lZiezsbLRt2xbx8fEYM2YMiouLQ9Ti0FmxYgVuvPFG\\\n",
       "ZbHnzMxMfPLJJ8rr/JzIFwZAgzl8+DBcLhdWrlyJgwcPYvHixXjllVfw5JNPKsfY7XYMGzYMnTt3\\\n",
       "xu7du/H8888jNzcXr776aghbHhpOpxP33HMPHn74Yd3Xa2pqMGrUKDidTnz55Zd46623sHr1ajz1\\\n",
       "1FNN3NLQ+8c//oEZM2YgJycHe/bsQe/evTF8+HCUlJSEumkhV15ejt69eyMvL0/39eeeew5Lly7F\\\n",
       "K6+8gl27diEuLg7Dhw9HZWVlE7c09LZu3Yrs7Gzs3LkTmzZtQlVVFYYNG4by8nLlmOnTp+Ojjz7C\\\n",
       "+++/j61bt6KwsBC//vWvQ9jq0LjqqqvwzDPPYPfu3fjmm28wePBg3H333Th48CAAfk5UB4kM77nn\\\n",
       "npO6du2qPH755Zel1q1bSw6HQ3lu5syZUlpaWiia1yy8+eabks1m83h+/fr1ktlsloqKipTnVqxY\\\n",
       "ISUkJGg+PyPo27evlJ2drTyuqamROnbsKC1atCiErWp+AEgffPCB8tjlckkpKSnS888/rzxXWloq\\\n",
       "Wa1Wac2aNSFoYfNSUlIiAZC2bt0qSZL82URFRUnvv/++csyhQ4ckANKOHTtC1cxmo3Xr1tLrr7/O\\\n",
       "z4nqxAogoaysDG3atFEe79ixA4MGDYLFYlGeGz58OAoKCnDhwoVQNLHZ2rFjB2644QYkJycrzw0f\\\n",
       "Phx2u135V7gROJ1O7N69G0OHDlWeM5vNGDp0KHbs2BHCljV/P/30E4qKijSfnc1mQ79+/fjZQf7v\\\n",
       "EwDlv1G7d+9GVVWV5vPq0aMHrr76akN/XjU1NcjPz0d5eTkyMzP5OVGdGAAN7ocffsCyZcswZcoU\\\n",
       "5bmioiJNoAGgPC4qKmrS9jV3/KxkZ8+eRU1Nje5nYaTPIRDi8+Fn58nlcmHatGkYMGAA0tPTAcif\\\n",
       "l8Vi8RiTa9TPa//+/YiPj4fVasVDDz2EDz74AL169eLnRHViAAwTs2bNgslk8vlz+PBhzTmnTp3C\\\n",
       "iBEjcM899+CBBx4IUcubXiCfFRE1vezsbBw4cAD5+fmhbkqzlZaWhn379mHXrl14+OGHMX78eHz/\\\n",
       "/fehbha1AJGhbgA1jMcffxwTJkzwecw111yj/L2wsBB33HEHbr31Vo/JHSkpKR4zxcTjlJSUhmlw\\\n",
       "CNX3s/IlJSXFY6ZrOH1W/mrXrh0iIiJ0f2+M9DkEQnw+xcXF6NChg/J8cXExbrrpphC1KvSmTp2K\\\n",
       "f//739i2bRuuuuoq5fmUlBQ4nU6UlpZqqltG/V2zWCzo3r07ACAjIwNff/01lixZgt/85jf8nMgn\\\n",
       "BsAwkZSUhKSkJL+OPXXqFO644w5kZGTgzTffhNmsLQRnZmZizpw5qKqqQlRUFABg06ZNSEtLQ+vW\\\n",
       "rRu87U2tPp9VXTIzM7Fw4UKUlJSgffv2AOTPKiEhAb169WqQe7QEFosFGRkZ2Lx5M0aPHg1A7r7b\\\n",
       "vHkzpk6dGtrGNXNdu3ZFSkoKNm/erAQ+u92uVHSMRpIkPPLII/jggw+wZcsWdO3aVfN6RkYGoqKi\\\n",
       "sHnzZowZMwYAUFBQgBMnTiAzMzMUTW5WXC4XHA4HPyeqW6hnoVDT+t///id1795dGjJkiPS///1P\\\n",
       "On36tPIjlJaWSsnJydL9998vHThwQMrPz5diY2OllStXhrDloXH8+HFp79690vz586X4+Hhp7969\\\n",
       "0t69e6WLFy9KkiRJ1dXVUnp6ujRs2DBp37590oYNG6SkpCRp9uzZIW5508vPz5esVqu0evVq6fvv\\\n",
       "v5cefPBBKTExUTND2qguXryo/O4AkF588UVp79690vHjxyVJkqRnnnlGSkxMlD788EPpu+++k+6+\\\n",
       "+26pa9euUkVFRYhb3vQefvhhyWazSVu2bNH89+ny5cvKMQ899JB09dVXS5999pn0zTffSJmZmVJm\\\n",
       "ZmYIWx0as2bNkrZu3Sr99NNP0nfffSfNmjVLMplM0saNGyVJ4udEvjEAGsybb74pAdD9Ufv222+l\\\n",
       "gQMHSlarVerUqZP0zDPPhKjFoTV+/Hjdz+rzzz9Xjjl27Jh01113STExMVK7du2kxx9/XKqqqgpd\\\n",
       "o0No2bJl0tVXXy1ZLBapb9++0s6dO0PdpGbh888/1/09Gj9+vCRJ8lIw8+bNk5KTkyWr1SoNGTJE\\\n",
       "KigoCG2jQ8Tbf5/efPNN5ZiKigrpD3/4g9S6dWspNjZW+tWvfqX5R6xRTJw4UercubNksVikpKQk\\\n",
       "aciQIUr4kyR+TuSbSZIkqQkLjkREREQUYpwFTERERGQwDIBEREREBsMASERERGQwDIBEREREBsMA\\\n",
       "SERERGQwDIBEREREBsMASERERGQwDIBEREREBsMASERERGQwDIBEREREBsMASERERGQwDIBERERE\\\n",
       "BsMASERERGQwDIBEREREBsMASERERGQwDIBEREREBsMASERERGQwDIBEREREBsMASERERGQwDIBE\\\n",
       "REREBsMASERERGQwDIBEREREBsMASERERGQwDIBEREREBsMASERERGQwDIBEREREBsMASERERGQw\\\n",
       "DIBEREREBsMASERERGQwDIBEREREBsMASERERGQw/z+1CRcS4PNqYwAAAABJRU5ErkJggg==\\\n",
       "\"\n",
       "  frames[1] = \"data:image/png;base64,iVBORw0KGgoAAAANSUhEUgAAAoAAAAHgCAYAAAA10dzkAAAAOXRFWHRTb2Z0d2FyZQBNYXRwbG90\\\n",
       "bGliIHZlcnNpb24zLjguMiwgaHR0cHM6Ly9tYXRwbG90bGliLm9yZy8g+/7EAAAACXBIWXMAAA9h\\\n",
       "AAAPYQGoP6dpAAA3SUlEQVR4nO3de3xU9YH38e+EXLhmCBISkIAoboSNeMkiRikvFQoq2zUtWNO+\\\n",
       "VkNFQJqwj+BjBVESXrssiD5Fm4yAVcFuV6O2FVvvPAi4akRFvISEPGIVkJgQC8xQhAkk5/ljnONM\\\n",
       "MrmRy2Tm93n7mldyLnPml+Mw5zu/23FYlmUJAAAAxogJdwEAAADQvQiAAAAAhiEAAgAAGIYACAAA\\\n",
       "YBgCIAAAgGEIgAAAAIYhAAIAABiGAAgAAGAYAiAAAIBhCIAAAACGIQACAAAYhgAIAABgGAIgAACA\\\n",
       "YQiAAAAAhiEAAgAAGIYACAAAYBgCIAAAgGEIgAAAAIYhAAIAABiGAAgAAGAYAiAAAIBhCIAAAACG\\\n",
       "IQACAAAYhgAIAABgGAIgAACAYQiAAAAAhiEAAgAAGIYACAAAYBgCIAAAgGEIgAAAAIYhAAIAABiG\\\n",
       "AAgAAGAYAiAAAIBhCIAAAACGIQACAAAYhgAIAABgGAIgAACAYQiAAAAAhiEAAgAAGIYACAAAYBgC\\\n",
       "IAAAgGEIgAAAAIYhAAIAABiGAAgAAGAYAiAAAIBhCIAAAACGIQACAAAYhgAIAABgGAIgAACAYQiA\\\n",
       "AAAAhiEAAgAAGIYACAAAYBgCIAAAgGEIgAAAAIYhAAIAABiGAAgAAGCY2HAXIJI1NDSoqqpKAwYM\\\n",
       "kMPhCHdxAABAG1iWpWPHjmnYsGGKiTGzLowA2AFVVVVKS0sLdzEAAMAZOHDggIYPHx7uYoQFAbAD\\\n",
       "BgwYIMn3BkpMTAxzaQAAQFt4PB6lpaXZ13ETEQA7wN/sm5iYSAAEACDCmNx9y8yGbwAAAIMRAAEA\\\n",
       "AAxDAAQAADAMARAAAMAwBEAAAADDEAABAAAMQwAEAAAwDAEQAADAMARAAAAAwxAAgXYqLCyUy+Vq\\\n",
       "cR+Xy6XCwsLuKRAAAO3EreCAdigsLNTy5cvt5by8vCb7uFwu5efnBz0HAICehBpAoI0ah7/8/Pwm\\\n",
       "NYGNw9/y5csJgACAHocACEjS+49LazJ8P0NoHP78AkNg4/DnRwgEAPQ0DsuyrHAXIlJ5PB45nU65\\\n",
       "3W4lJiaGuzjoiDUZkvuA5EyTFpYFbWou/AUaM2aMKioqWtynoKCAIAgAPQDXb2oAAZ+JC33hb+LC\\\n",
       "JpuSk5ObfVqGMiTJDn/+5VBaOg4AAN2JAAhI0vjZvpq/8bObbMrLy1NxcXGT9bnKVZGKlKMcSVKO\\\n",
       "clSkIuUqt8m+xcXFIQeMAAAQDjQBdwBVyGYJ7OOXoQwVqcje5pZbTjnt5QVaoDL5mpIJfwDQs3D9\\\n",
       "pgYQaLO8y3qr+CepkqQylWm91tvbAsPfeq0n/AEAejQCINBWb61R3oXfakxKgiSpRCVyyx20i1tu\\\n",
       "lahEkm9gCOEPANATEQARXVqZzqVDJi6U69O+qqjxSvL1+Qus+ZN8NYH+PoEVFRWt3jEEAIBwIAAi\\\n",
       "ury1xjedy1tr2v6cNoZG13snlf+nakm+PoDzNM/eFlgTOE/z7NHAoSaLBgAg3AiAiC4tTOciKXTY\\\n",
       "a0NobDzJc5nKtFEbJfn6/GUr2+4TuFEb7T6AEiEQANDzMAq4AxhFFIFCTfj8/uO+8Ddx4ffTwASs\\\n",
       "c713MuQdPiRfTWBg2Gu8HIgBIQDQM3D9pgYQJgis9es32LfO/1Pyhb6JC32Bz18zGFArWFtb2+yh\\\n",
       "/WFvzJgxQcuhtHQcAAC6EwEQ0e39x6WX7/KFuZfulKp2+dZ//Ynv5x9mS8sHSa/f69vn5bt8z0mb\\\n",
       "IDl6SWkTVFhYqIKCgmZfori4WOXl5SEni/bjNnAAgJ4kNtwFADpV4+bct9ZIVv13GwN6Owwd931z\\\n",
       "sCSd+tYX+Kx6acu/S16P7/cDOyTJDm+N7wkc2Kzr/9m4uZjwBwDoaagBRHRpPKDDPygkY6YU21eS\\\n",
       "w7dctev78OfnD4r1Xt/vjl5Bg0ka1wSG6tPX+LZxhD8APVVhYWGrA9RcLhefYVGKGkBEF39fPn9w\\\n",
       "Gz/7+4Edq86RTn/bNPg1duqE72dsQpNN/g/C5OTkZgd0+NfX1tbywQmgRyosLAxq0Qj1edZ49gM+\\\n",
       "z6ILo4A7gFFEPVjjpuBHr/q+/197xPWVeiVIDknX3Pd9mASACNU4/ElNWzQahz8pulo0uH7TBIxo\\\n",
       "1bgp+EzCn+TrG3jyiHTiSPsmlwaAHihU+JOC5ysNFf4kXx/oaAmAIAAiWjWeEDomrgMHc0h9kpqf\\\n",
       "XBoAIkBz4c8vPz9fY8eObXbeU4kQGE3oA4joFNj37/3Hpfj+vpq8MzHsYmnuts4qGQCERXJycrPb\\\n",
       "/JPYV1RUBC239ziIHNQAIvq9tcYX/nonydeZr538cwYCQARrPEuBX65yVaQi5ShHkpSjHBWpSLnK\\\n",
       "bbIvdzSKHgRARKZQ9/Rtjn9S59GTpd4D2/4acX19z/vHH3//en+Y3fbXBYAepnEIzFCGZmmWJGme\\\n",
       "5mmTNmme5kmSZmmWMpRh70v4iy4EQESmxoM8WnJgx/eTOo+e7At1wy7x9RGM6xv6OY5e0tT/kAoO\\\n",
       "SzMf//71dj/f9tcFgB4oMASWqUzrtd7e5pTT/n291tvNwIS/6EMARGRqPMijJQG3dbPD4PFvpIVl\\\n",
       "Uvr1wYEwY6bv5/UPBE/54n+9f/xx218XAHqovLw8+x7mJSqRW+6g7W65VaISSb57nRP+ok/UBsC1\\\n",
       "a9dq3LhxSkxMVGJiorKysvTKK6/Y20+ePKm8vDydddZZ6t+/v2bMmKGampowlhjtMn62L8C1ZV6+\\\n",
       "wBpAf5BLm+Bryv18S3AgnPm476cU3NTrfz3/duYDBBDBXC6XPeAjRzlBNX+SrybQ3yewoqKi1TuG\\\n",
       "IPJEbQAcPny4Vq1apZ07d+qDDz7QNddcoxtuuEG7d++WJC1cuFB/+ctf9Nxzz2n79u2qqqrST37y\\\n",
       "kzCXGl0isLbQH+QO7PA15VoKXaPXniZmAOgBfv/uPl256g39/t19Le4XOM9fhjLsPn+SgmoC52me\\\n",
       "3QcwcJ5ARAnLIElJSdZjjz1mHT161IqLi7Oee+45e1tFRYUlySotLW3z8dxutyXJcrvdXVFcdKX3\\\n",
       "HrOsX/+j7+eZbAeAHuaKlVuskXe/aF2xckuz+xQXF1vyffW1H7nKtbZqq5WjHEuSlaMca6u2WrnK\\\n",
       "bbJvcXFxN/5FXYfrt2UZcSu4+vp6Pffcc8rNzdWuXbtUXV2tyZMn68iRIxo4cKC938iRI3XHHXdo\\\n",
       "4cLQ/bu8Xq+8Xq+97PF4lJaWZvStZAAA3e/37+7T2m2fa/5V5+lfLx/Z7LpAzd3hQ2o6719L8wC2\\\n",
       "NiCktXL0BNwKLoqbgCXp008/Vf/+/ZWQkKDbb79dzz//vMaOHavq6mrFx8cHhT9JSklJUXV1dbPH\\\n",
       "W7lypZxOp/1IS0vr4r8AXao9U8kAQA/gb+Z98LVKHTx6Qmu3fW5v+9fLR+rtxdfovS8Oa9TilzTm\\\n",
       "vleDmoNra2ubPa4/7PkHhjQX/lo7jiSt3fZ5k7Kh54nqAJienq6PPvpIO3bs0Pz585Wbm6vy8vIz\\\n",
       "Pt6SJUvkdrvtx4EDBzqxtOh29PMDEGH84UqSzh7YR/OvOs/e9vt39+ni5a/rzx9XyZJ04lS97ttU\\\n",
       "ZofAwsJCFRQUNHvs4uJilZeXh5ws2q+goKDVW8HNv+q8JmVDzxPVt4KLj4/X6NGjJUmZmZl6//33\\\n",
       "9fDDD+umm25SXV2djh49GlQLWFNTo9TU1GaPl5CQoISEhK4uNjrT+9/N4ecfABJo4sLvtwFABMgc\\\n",
       "maSqoyfkPV2v/z0tXf96+UhduWqLDh49GXJ/S9KKl8r14GuVkqT/fe0vVCA1uSdwYLOu/2fj5uK2\\\n",
       "hD/JVxPZU5t+8b2orgFsrKGhQV6vV5mZmYqLi9OWLVvsbZWVldq/f7+ysrLCWEK0WVubb1uq5WvP\\\n",
       "VDIAECaBo3t37jvyXe1eg+7dVKZzFr/UbPjzO3GqQUdPnNLRE6f04GuVTWoCi4uL5cz856ARxI3v\\\n",
       "GNLW8IfIEbU1gEuWLNF1112nESNG6NixY3rqqae0bds2vfbaa3I6nZo9e7YWLVqkQYMGKTExUQsW\\\n",
       "LFBWVpYuv/zycBcdbREY7FoKcNTyAYhwgX3q5l91nu7d1Hz/vNZ4TzfoylVvaP53NYHJycnKy8vT\\\n",
       "lavesF/DX3vnrwmsra0l/EWhqA2Ahw4d0i233KKvv/5aTqdT48aN02uvvaYf/vCHkqQ1a9YoJiZG\\\n",
       "M2bMkNfr1bRp0/TII4+EudRos7YGu/GzqeEDEFEaj6Kdf9V5QcsrXirXiVMNZ3h0yw56bweEusDX\\\n",
       "CMQdQKKXEdPAdBWGkQMAOpu/Nu7sgX309uJrmmwfc98rZxwA42IcOtVgadzZTv15wcSOFjVicf02\\\n",
       "rA8gAAA9XWujaBNie53Rcf3hT5J2V7lb2RvRLmqbgAEAiETNjaL9/bv79OBrlfKerleMQ2popf3O\\\n",
       "8d3P3nG9tHT6mKApZKaPG9bJpUakIQACABAB1m77XEdPnJL0/RyA/uldJv1DsnbuO6LMkUl68//5\\\n",
       "Jmr2TxPT+Bg9+Q4d6D70AewA+hAAALqLvwZQCh3u0HZcvwmAHcIbCACAyMP1m0EgAAAAxiEAAgAA\\\n",
       "GIYACAAAYBgCIAAAgGEIgAAAAIYhAAIAABiGAAgAAGAYAiAAAIBhCIAAAACGIQACAAAYhgAIAABg\\\n",
       "GAIgAACAYQiAAAAAhiEAAgAAGIYACAAAYBgCIAAAgGEIgAAAAIYhAAIAABiGAAgAAGAYAiAAAIBh\\\n",
       "CIAGKywslMvlanEfl8ulwsLC7ikQAADoFrHhLgDCo7CwUMuXL7eX8/LymuzjcrmUn58vSTpRVqbb\\\n",
       "Dh/R4LlzlJST023lBAAAnY8aQAM1Dn/5+flNagIDw58krf7jH/XQJx/rm0d/223lBAAAXYMaQMM0\\\n",
       "Dn9++fn5+nbnTmV/uU+bzhmpX23Y0GSfR/72N/UflKT7u6OgAACgyzgsy7LCXYhI5fF45HQ65Xa7\\\n",
       "lZiYGO7itKq58Bfo3Ph4/bWursV9CgoK6BcIAIhYkXb97go0ARskOTm52W0ZypAkO/z5l9t7HAAA\\\n",
       "0PMRAA2Sl5en4uLiJutzlasiFSlHvsEdOcpRkYqUq9wm+xYXF4ccMAIAACIHTcAdEKlVyIEDPDKU\\\n",
       "oSIV2dvccsspp728QAtUpjJJhD8AQHSI1Ot3Z6IG0ECBNYFlKtN6rbe3BYa/9VpP+AMAIApRA9gB\\\n",
       "kf4NYuzYsaqoqJAkbdKmoPDnllvZypYkjRkzRuXl5eEoIgAAnS7Sr9+dgRpAQ7lcLjv85SgnKPxJ\\\n",
       "vppAf5/AioqKVu8YAgAAIgcB0BBHSkr02TWTdaSkpEkfwHmaZ+/nltv+fZ7m2aOBQ00WDQAAIhMB\\\n",
       "0BDfPPpbna6q0kPLCoLu8FGmMm3URkm+Pn/Zyrb7BG7URrsPoEQIBAAgWnAnkCh0pKREh9Y8JEka\\\n",
       "svAOSVLD8eN6+uQJ/fu+fU32f1JPaqd22mGvRCUq++6/xvzhkQEhAABELgJgBDlSUqJvHv2tBs+d\\\n",
       "I0lBvwcGvkNrHlKD29eUW3P/all1dVJ9vY44HM0e2x/2xowZo4qKipDhz6+2trYz/hwAABAmjALu\\\n",
       "gO4eRfTZNZN1uqpKscOGSZJOV1UpxulUg8cjtfa/0eFQTGKinkgbrtV//GPIXfxTvQT2EWyM28AB\\\n",
       "ACIdo4DpAxhRBs+d4wt8x48rdtAgSfLV9LUlw/fqpQa3W7ce+EoFBQVNNgfO89fcHUMIfwAARAcC\\\n",
       "YARJyslRTL9+anC7dbKs+SbakE6ftn8tLCwMCoGhJnluHAIJfwAARI+oDYArV67U+PHjNWDAAA0Z\\\n",
       "MkTZ2dmqrKwM2ufkyZPKy8vTWWedpf79+2vGjBmqqakJU4mDBU7bEmjw3DlSr15ndMwYp9MeFOIP\\\n",
       "gS3d4cMfAgl/AABEl6jtA3jttdcqJydH48eP1+nTp3XPPfeorKxM5eXl6tevnyRp/vz5eumll7Rx\\\n",
       "40Y5nU7l5+crJiZGb7/9dpteoyv7EAT29zv/jS1BI3v7T5woz2uvBdXqtVXi9Ok6+/882KllBQAg\\\n",
       "ktAHMIoDYGO1tbUaMmSItm/frkmTJsntdis5OVlPPfWUZs6cKUnas2ePxowZo9LSUl1++eWtHrMr\\\n",
       "30CBI36TcnLsQChJ8o/mPZP/dQ6HxlRwWzcAgLkIgFHcBNyY+7tpUQZ9N3hi586dOnXqlKZMmWLv\\\n",
       "c8EFF2jEiBEqLS0NeQyv1yuPxxP06CpJOTk6/40tSsrx3Y5t8Nw5wcHvDHO7IyGhs4oIAAAilBEB\\\n",
       "sKGhQXfccYeuvPJKZWT4bm1WXV2t+Ph4DRw4MGjflJQUVVdXhzzOypUr5XQ67UdaWlpXF92WlJOj\\\n",
       "1IJl34dASYpp5n9fbKwcvXs3WR3jdCpl8d1dVEIAABApjAiAeXl5KisrU0mjARXttWTJErndbvtx\\\n",
       "4MCBTiph2yTl5Cjx+uslh0OOPn0UM2BAyP1ihwxpEvRSCwuUvuNdu0YRAACYK+oDYH5+vl588UVt\\\n",
       "3bpVw4cPt9enpqaqrq5OR48eDdq/pqZGqampIY+VkJCgxMTEoEd3+3bXLsmy1CspSUMW3qEYp1Mx\\\n",
       "TqcSp0+3f/f3G0ycPl3q1UuJ06cT/AAAgC1qB4FYlqUFCxbo+eef17Zt23T++ecHbfcPAnn66ac1\\\n",
       "Y8YMSVJlZaUuuOCCHjEIpDmNB4cAAID2YRBIFAfAX/7yl3rqqaf0wgsvKD093V7vdDrVp08fSb5p\\\n",
       "YF5++WVt3LhRiYmJWrBggSTpnXfeadNr8AYCACDycP2O4gDoCBwsEWDDhg2aNWuWJN9E0Hfeeaee\\\n",
       "fvppeb1eTZs2TY888kizTcCN8QYCACDycP2O4gDYHXgDAQAQebh+GzAIBAAAAMEIgAAAAIYhAAIA\\\n",
       "ABiGAAgAAGAYAiAAAIBhCIAAAACGIQACAAAYhgAIAABgGAIgAACAYQiAAAAAhiEAAgAAGIYACAAA\\\n",
       "YBgCIAAAgGEIgAAAAIYhAAIAABiGAAgAAGAYAiAAAIBhCIAAAACGIQACAAAYhgAIAABgGAIgAACA\\\n",
       "YQiAAAAAhiEAAgAAGIYACAAAYBgCIAAAgGEIgAAAAIYhAAIAABiGAAgAAGAYAiAAAIBhCIAAAACG\\\n",
       "IQACAAAYhgAIAABgGAIgAACAYQiAAAAAhiEAAgAAGIYACAAAYBgCIAAAgGEIgAAAAIYhAAIAABiG\\\n",
       "AAgAAGAYAiAAAIBhCIAAAACGIQACAAAYJmoD4Jtvvqkf/ehHGjZsmBwOhzZt2hS03bIsLVu2TEOH\\\n",
       "DlWfPn00ZcoUffbZZ+EpLAAAQDeK2gB4/PhxXXTRRXK5XCG3r169Wr/5zW+0bt067dixQ/369dO0\\\n",
       "adN08uTJbi4pwu3Zymc19Q9T9Wzls2f0/MLCwmbfZ34ul0uFhYVndHwAADpbbLgL0FWuu+46XXfd\\\n",
       "dSG3WZalhx56SPfee69uuOEGSdLvfvc7paSkaNOmTcrJyenOoiLMHvv0MX19/Gs99ulj+mn6T9v1\\\n",
       "3MLCQi1fvtxezsvLa7KPy+VSfn5+0HMAAAinqK0BbMkXX3yh6upqTZkyxV7ndDo1YcIElZaWNvs8\\\n",
       "r9crj8cT9EDku+3C2zS031DdduFt7Xpe4/CXn5/fpCawcfhbvnw5ARAAvkMLSvhEbQ1gS6qrqyVJ\\\n",
       "KSkpQetTUlLsbaGsXLky6IKP6PDT9J92uObPzx/28vLymoQ/P//z+EADYDJaUMLLyBrAM7VkyRK5\\\n",
       "3W77ceDAgXAXCWHQXPjzy8/P19ixY0OGPz9qAgGYjBaU8DMyAKampkqSampqgtbX1NTY20JJSEhQ\\\n",
       "YmJi0APmSU5ObnZbhjIkSRUVFUHL7T0OAESrllpQ/CGwpRYUQmDnMDIAjho1SqmpqdqyZYu9zuPx\\\n",
       "aMeOHcrKygpjyRAJ8vLyVFxc3GR9rnJVpCLlyDeIKEc5KlKRcpXbZN/i4uKQzR0AEM1oQek5orYP\\\n",
       "4N///nft3bvXXv7iiy/00UcfadCgQRoxYoTuuOMO/cd//IfOP/98jRo1Svfdd5+GDRum7Ozs8BUa\\\n",
       "EcMf3vwfUhnK0CzNkiTN0zzlKEdOOSVJszRLO7VTZSqTRPgDYK7WWlDKVBbUguL/3GzPcdA2UVsD\\\n",
       "+MEHH+iSSy7RJZdcIklatGiRLrnkEi1btkyS9Ktf/UoLFizQ3LlzNX78eP3973/Xq6++qt69e4ez\\\n",
       "2IgggTWBZSrTeq23t/nDnySt13rCHwCIFpSexGFZlhXuQkQqj8cjp9Mpt9tNf0CDjR071v7Gukmb\\\n",
       "gsKfW25lK1uSNGbMGJWXl4ejiADQowT28ctQhopUZG9zyx30ObpACzr9SzTX7yiuAQS6g8vlssNf\\\n",
       "YLOvn1NO+xttRUVFq/NdAYAJaEEJPwIg8J323hKu8TfYeZpnb3PLbf8+T/Ps0cChpjoAgEj28eaX\\\n",
       "5br1Z3LNztHHm19u8/Py8vI0ZswYSVKJSoI+NyXf52iJSiT5WlAIf52LAAh8J/CWcK1pPEVBmcq0\\\n",
       "URsl+b6xZivb/ka7URuDOjITAgFEg483v6zf5t2qt57+L508fkwn//53vbfpD21+Pi0o4RW1o4CB\\\n",
       "9rrtwtv02KePtXpLuObmp3pSTwaN9i1Ricq++6+xwDuGAEAkem/TH+T55pB69++v3v0GSA5Ll2XP\\\n",
       "bNNzW2tB8YfBeZpnf47yudm5CICAfM2//vD3p8/+pH9/998V64jV1HOmatehXbpkyCXadWiXbrvw\\\n",
       "NtXW1jZ7HH/Y63d2Px0/eLzZKQwktXgcAOjpLsueqbdKfidZDk382c2SfKHwq4oyVVXu0WXZM3XR\\\n",
       "D69v8rzmWlBmaZbWa71KVKIc5Wie5oVsQZEIgZ2BUcAdwCii6DHx6Yly17nlkEOWmv8nEeOI0dIJ\\\n",
       "S1X+dHmzk5n6Oyo3V1MoSQUFBUxkCqBH+3jzy3pv0x+aDXKS9Nu8W+X55pASBw+RJHm+OSRHTIys\\\n",
       "hgYlDh6iOa4ngvZv6XOx8bx/Lc0D2NEBIVy/6QMI6NnKZ+Wu83U+tmQpxtH8P4sGq0GPffqYCgsL\\\n",
       "VVBQ0GR74IdSc/NdEf4A9FT+fn3+8Of55lBQv77A7ZKvFjBx8BBdlj1Tl2XPVO9+A+SIiZEcDg1L\\\n",
       "v6DJ8dvSguIfGEILStciAMJY/lG/K95dEbS+wWposm9ifKKuH3W9hvYbavcRbBwCQ30jbRwCCX8A\\\n",
       "erLA0BcY7iRf+NvyxDp5vjmk//vYI1rz82z938cesVtN/EGx4fRpybJUVbkn6Ngfb35ZyQf26LqL\\\n",
       "/7HZ1y8uLlZ5eXnIL89+fI52DpqAO4Aq5MgS2M/vp+k/1aX/dalONZxq03MT4xP19s/eDrmtsLBQ\\\n",
       "ycnJLTZHuFwu1dbW8qEFoEcL1ezrX1d34oROHj8W+okOh/RdnIhNSFBsbLwm/uzmoKZjf3OxJG37\\\n",
       "60G9+MFHQYdo/CU6VHNxZ4U/rt8EwA7hDRQ5nq18Vit2rFCD1SBnvFPeeq9O1p9s8/Od8U699bO3\\\n",
       "moRIAIhGgUHQXysYExvrq91rRe9+A5T3xNP6ePPLeuvp/5Iclibm3CJJQYNGnn/7PbsvdXN9+gJD\\\n",
       "YGfW/HH9JgB2CG+gyDH1D1P19fGvz/j514+6XvdPut8+ztB+Q/X6zNc7sYQA0HP4a+scMTFKz5qo\\\n",
       "vR/s0Gmvt83P9w8E8Qs1IEQKXwsK128CYIfwBooc/pq76uPVLY7ybY4z3qm+cX2DpoOhBhBAtPL3\\\n",
       "97MaGoKadyUpplesGhrqg9a1Zsptv2x2JHE4cP1mEAgM8dP0n+r1ma/rulHXndHzvfVefX38a719\\\n",
       "8G275q89t40DgEhy0Q+v1+Rbb28S/i64cpL6Jw1qV/hDz0QAhFHun3S/rh/V/m+h8b3iJcmuPWzP\\\n",
       "beMAIFIETvNy0Q+vV2x8vL1tym2/1PR/+1Wb7/YRaMsT6/TSb1YHTSGD8CIAwhj+aV8yUzL1ae6n\\\n",
       "uu/y+zS031DFOpreEKd3r96K+e6fx9B+Q/W/Lv1f9k/Jd9u4wClhACAaNJ77Lzb2uwDocNj7XPTD\\\n",
       "65Vy7uh2HddqaFBl6VtN5hVE+BAAYYzGtXb+ZuElE5ZoaL+huu/y++xQeNf4u5TSL8V+rn9f+v0B\\\n",
       "iGaN5/6b+LObfRM7W1ZQcPvXlQ/Zd/9oTWxCghIHD1F61kT17t9fdSdOUAvYAxAAYYzmau384U5S\\\n",
       "0BQvLdXy0QQMIBpd9MPrNcf1hD1gw98XMDAU+rW1Kfiqm2drjusJTf+3Xym+d1+dPH6MWsAegFHA\\\n",
       "HcAooujSnilemA8QAKSXfrNalaVvyRETY88RGBMbq3+YcIUqS99SetZETf+3X9n7t+X+wt2B6zcB\\\n",
       "sEN4A/V87QlqhDoAODMfb345aJLnwHDXU0JfIK7fBMAO4Q3U8zFxMwCEl39S6eYmgw4Hrt/0AUSU\\\n",
       "Y7QuAIRX44El6BmoAewAvkEAABB5uH5TAwgAAGAcAiAAABEg8C4dQEcRAAEAiACN79IBdAQBEACA\\\n",
       "CMBgCnQmBoF0AJ1IAQCIPFy/qQEEAAAwDgEQAADAMARAAAAAwxAAAQAADEMABAAAMAwBEAAAwDAE\\\n",
       "QAAAAMMQAAEAAAxDAAQAADAMARAAAMAwBEAAAADDEAABAAAMQwAEAAAwDAEQAADAMARAAAAAwxAA\\\n",
       "AQAADGN8AHS5XDrnnHPUu3dvTZgwQe+99164iwQAANCljA6AzzzzjBYtWqSCggJ9+OGHuuiiizRt\\\n",
       "2jQdOnQo3EUDAADoMkYHwF//+teaM2eOfvGLX2js2LFat26d+vbtqyeeeCLcRQMAAOgyxgbAuro6\\\n",
       "7dy5U1OmTLHXxcTEaMqUKSotLQ1jyQAAALpWbLgLEC7ffPON6uvrlZKSErQ+JSVFe/bsCfkcr9cr\\\n",
       "r9drL3s8ni4tIwAAQFcwtgbwTKxcuVJOp9N+pKWlhbtIAAAA7WZsABw8eLB69eqlmpqaoPU1NTVK\\\n",
       "TU0N+ZwlS5bI7XbbjwMHDnRHUQEAADqVsQEwPj5emZmZ2rJli72uoaFBW7ZsUVZWVsjnJCQkKDEx\\\n",
       "MegBAAAQaYztAyhJixYtUm5urv7pn/5Jl112mR566CEdP35cv/jFL8JdNAAAgC5jdAC86aabVFtb\\\n",
       "q2XLlqm6uloXX3yxXn311SYDQwAAAKKJw7IsK9yFiFQej0dOp1Nut5vmYAAAIgTXb4P7AAIAAJiK\\\n",
       "AAgAAGAYAiAAAIBhCIAAAACGIQACAAAYhgAIAABgGAIgAACAYQiAAAAAhiEAAgAAGIYACAAAYBgC\\\n",
       "IAAAgGEIgAAAAIYhAAIAABiGAAgAAGAYAiAAAIBhCIAAAACGIQACAAAYhgAIAABgGAIgAACAYQiA\\\n",
       "AAAAhiEAAgAAGIYACAAAYBgCIAAAgGEIgAAAAIYhAAIAABiGAAgAAGAYAiAAAIBhCIAAAACGIQAC\\\n",
       "AAAYhgAIAABgGAIgAACAYQiAAAAAhiEAAgAAGIYACAAAYBgCIAAAgGEIgAAAAIYhAAIAABiGAAgA\\\n",
       "AGAYAiAAAIBhCIAAAACGIQACAAAYhgAIAABgGAIgAACAYaIyAK5YsUJXXHGF+vbtq4EDB4bcZ//+\\\n",
       "/Zo+fbr69u2rIUOG6K677tLp06e7t6AAAABhEBvuAnSFuro63XjjjcrKytLjjz/eZHt9fb2mT5+u\\\n",
       "1NRUvfPOO/r66691yy23KC4uTv/5n/8ZhhIDAAB0H4dlWVa4C9FVNm7cqDvuuENHjx4NWv/KK6/o\\\n",
       "n//5n1VVVaWUlBRJ0rp163T33XertrZW8fHxbTq+x+OR0+mU2+1WYmJiZxcfAAB0Aa7fUdoE3JrS\\\n",
       "0lJdeOGFdviTpGnTpsnj8Wj37t1hLBkAAEDXi8om4NZUV1cHhT9J9nJ1dXWzz/N6vfJ6vfayx+Pp\\\n",
       "mgICAAB0oYipAVy8eLEcDkeLjz179nRpGVauXCmn02k/0tLSuvT1AAAAukLE1ADeeeedmjVrVov7\\\n",
       "nHvuuW06Vmpqqt57772gdTU1Nfa25ixZskSLFi2ylz0eDyEQAABEnIgJgMnJyUpOTu6UY2VlZWnF\\\n",
       "ihU6dOiQhgwZIknavHmzEhMTNXbs2Gafl5CQoISEhE4pAwAAQLhETABsj/379+vw4cPav3+/6uvr\\\n",
       "9dFHH0mSRo8erf79+2vq1KkaO3asbr75Zq1evVrV1dW69957lZeXR8ADAABRLyqngZk1a5aefPLJ\\\n",
       "Juu3bt2qq666SpK0b98+zZ8/X9u2bVO/fv2Um5urVatWKTa27ZmYYeQAAEQert9RGgC7C28gAAAi\\\n",
       "D9fvCBoFDAAAgM5BAAQAADAMARAAAMAwBEAAAADDEAABAAAMQwAEAAAwDAEQAADAMARAAAAAwxAA\\\n",
       "AQAADEMABAAAMAwBEAAAwDAEQAAAAMMQAAEAAAxDAAQAADAMARAAAMAwBEAAAADDEAABAAAMQwAE\\\n",
       "AAAwDAEQAADAMARAAAAAwxAAAQAADEMABAAAMAwBEAAAwDAEQAAAAMMQAAEAAAxDAAQAADAMARAA\\\n",
       "AMAwBEAAAADDEAABAAAMQwAEAAAwDAEQAADAMARAAAAAwxAAAQAADEMABAAAMAwBEAAAwDAEQAAA\\\n",
       "AMMQAAEAAAxDAAQAADAMARAAAMAwBEAAAADDEAABAAAMQwAEAAAwDAEQAADAMFEZAL/88kvNnj1b\\\n",
       "o0aNUp8+fXTeeeepoKBAdXV1Qft98skn+sEPfqDevXsrLS1Nq1evDlOJAQAAuk9suAvQFfbs2aOG\\\n",
       "hgatX79eo0ePVllZmebMmaPjx4/rwQcflCR5PB5NnTpVU6ZM0bp16/Tpp5/q1ltv1cCBAzV37tww\\\n",
       "/wUAAABdx2FZlhXuQnSHBx54QGvXrtVf//pXSdLatWu1dOlSVVdXKz4+XpK0ePFibdq0SXv27GnT\\\n",
       "MT0ej5xOp9xutxITE7us7AAAoPNw/Y7SJuBQ3G63Bg0aZC+XlpZq0qRJdviTpGnTpqmyslJHjhwJ\\\n",
       "RxEBAAC6hREBcO/evSoqKtK8efPsddXV1UpJSQnaz79cXV0d8jher1cejyfoAQAAEGkiKgAuXrxY\\\n",
       "DoejxUfj5tuDBw/q2muv1Y033qg5c+Z06PVXrlwpp9NpP9LS0jp0PAAAgHCIqD6AtbW1+tvf/tbi\\\n",
       "Pueee67drFtVVaWrrrpKl19+uTZu3KiYmO/z7i233CKPx6NNmzbZ67Zu3aprrrlGhw8fVlJSUpNj\\\n",
       "e71eeb1ee9nj8SgtLc3oPgQAAEQa+gBG2Cjg5ORkJScnt2nfgwcP6uqrr1ZmZqY2bNgQFP4kKSsr\\\n",
       "S0uXLtWpU6cUFxcnSdq8ebPS09NDhj9JSkhIUEJCQsf+CAAAgDCLqCbgtjp48KCuuuoqjRgxQg8+\\\n",
       "+KBqa2tVXV0d1Lfv5z//ueLj4zV79mzt3r1bzzzzjB5++GEtWrQojCUHAADoehFVA9hWmzdv1t69\\\n",
       "e7V3714NHz48aJu/xdvpdOr1119XXl6eMjMzNXjwYC1btow5AAEAQNSLqD6APQ19CAAAiDxcv6O0\\\n",
       "CRgAAADNIwACAAAYhgAIAABgGAIgAACAYQiAAAAg7AoLC+VyuVrcx+VyqbCwsHsKFOWichoYAAAQ\\\n",
       "OQoLC7V8+XJ7OS8vr8k+LpdL+fn5Qc/BmaMGEAAAhE3j8Jefn9+kJrBx+Fu+fDkBsIMIgAAAICwa\\\n",
       "hz+/wBDYOPz5EQI7homgO4CJJAEAODPNhb9AY8aMUUVFRYv7FBQUtDsIcv2mBhAAAIRBcnJys9sy\\\n",
       "lCFJdvjzL7f3OGgeARAAAHS7vLw8FRcXN1mfq1wVqUg5ypEk5ShHRSpSrnKb7FtcXBxywAhaRxNw\\\n",
       "B1CFDABAxwT28ctQhopUZG9zyy2nnPbyAi1QmcokdSz8cf2mBhAAAIRRYE1gmcq0XuvtbYHhb73W\\\n",
       "d0r4gw81gB3ANwgAADrH2LFj7T5/m7QpKPy55Va2siX5BoaUl5d36LW4flMDCAAAwszlctnhL0c5\\\n",
       "QeFP8tUE+vsEVlRUtHrHELSOAAgAAMKmcR/AeZpnb3PLbf8+T/Ps0cChJotG+xAAAQBAWDSe5LlM\\\n",
       "ZdqojZJ8ff6ylW33CdyojXYfQIkQ2FH0AewA+hAAAHBmmrvDh+SrCQwMe42XA53JgBCu39QAAgCA\\\n",
       "Nih786B+d8/bKnvzYKccr7a2tvnX+i7sjRkzJmi5vcdB8wiAAACgVR+++qWOHfbqw1e/bLLNHw5f\\\n",
       "f3x3m0NiYWGhCgoKmt1eXFys8vLykJNF+53JbeDgExvuAgAAgJ7v0mvP0YevfqnU8wbqd/e8rUuv\\\n",
       "PUcZk85W2ZsH9WZJpawG6djhGknSu5s+l+QLjZdee07Q7xmTzraP6Q9vje8JHNis6//ZuLmY8Ncx\\\n",
       "9AHsAPoQAACiVdmbB0MGOH9NoCNGGpw2QLX7joV8fkwvhxrqgyPGgEEJuuU/r2yyb2FhoR0Cm+vT\\\n",
       "F9hnsKPhj+s3AbBDeAMBAKLV7+55W8cOezVgUIIk2b9feu052v50pXQG6aH/oAQ5pCY1gZIvBCYn\\\n",
       "J7c4oMPlcqm2trbDNX9cvwmAHcIbCAAQrZqrAZR0xgHQL6FvrG779aSOF/IMcf2mDyAAAAghY9LZ\\\n",
       "TWrpPnz1S9WdrO9Q+EPPwChgAADQKn/fP0lydCA9xMbH6PLs85qs7+xpZtAyAiAAAGjVpdeeowGD\\\n",
       "EnR59nkanZlyxsc5faqhSc2ifyRxc9PMoPPRBAwAAFrlbxIue/Og9u6sOePjxMY1rXv68NUvZTX4\\\n",
       "ahb9/QzRtagBBAAAbRI4558jxjfVi19sfEzQz0AJfWMlh2/blTPPb7LdX7s4KSe9Se0gugY1gAAA\\\n",
       "oE0Ca+om5aRLkh0Ie8XGqE//uKAJorc/VSlJ8n57WpLUp3+cvS1wYuhQA07QtQiAAACgTfwTQTee\\\n",
       "xy/UuoxJZ6vqs6Pau7NGg9MG6OSxOl167TlBtYgfvvolwS9MmAewA5hHCACAtvHX+tWdrJf329N2\\\n",
       "LWI4AiDXb2oAAQBAN/BPI5PQN9a+owi1f+FDAAQAAF2uueZjhAcBEAAAdDkGevQsTAMDAABgGAIg\\\n",
       "AACAYQiAAAAAhiEAAgAAGIYACAAAYBgCIAAAgGEIgAAAAIYhAAIAABgmagPgv/zLv2jEiBHq3bu3\\\n",
       "hg4dqptvvllVVVVB+3zyySf6wQ9+oN69eystLU2rV68OU2kBAAC6T9QGwKuvvlrPPvusKisr9cc/\\\n",
       "/lGff/65Zs6caW/3eDyaOnWqRo4cqZ07d+qBBx5QYWGhHn300TCWGgAAoOs5LMuywl2I7vDnP/9Z\\\n",
       "2dnZ8nq9iouL09q1a7V06VJVV1crPj5ekrR48WJt2rRJe/bsadMxPR6PnE6n3G63EhMTu7L4AACg\\\n",
       "k3D9juIawECHDx/Wf//3f+uKK65QXFycJKm0tFSTJk2yw58kTZs2TZWVlTpy5Ei4igoAANDlojoA\\\n",
       "3n333erXr5/OOuss7d+/Xy+88IK9rbq6WikpKUH7+5erq6tDHs/r9crj8QQ9AAAAIk1suAvQHosX\\\n",
       "L9b999/f4j4VFRW64IILJEl33XWXZs+erX379mn58uW65ZZb9OKLL8rhcJzR669cuVLLly9vsp4g\\\n",
       "CABA5PBftw3pBRdSRPUBrK2t1d/+9rcW9zn33HODmnX9vvrqK6Wlpemdd95RVlaWbrnlFnk8Hm3a\\\n",
       "tMneZ+vWrbrmmmt0+PBhJSUlNTmG1+uV1+u1lw8ePKixY8ee+R8EAADC5sCBAxo+fHi4ixEWEVUD\\\n",
       "mJycrOTk5DN6bkNDgyTZAS4rK0tLly7VqVOn7H6BmzdvVnp6esjwJ0kJCQlKSEiwl/v3768DBw5o\\\n",
       "wIABIWsVPR6P0tLSdODAAWM7mXYlzm/X4vx2Lc5v1+L8dq1IP7+WZenYsWMaNmxYuIsSNhEVANtq\\\n",
       "x44dev/99zVx4kQlJSXp888/13333afzzjtPWVlZkqSf//znWr58uWbPnq27775bZWVlevjhh7Vm\\\n",
       "zZo2v05MTEybvjkkJiZG5D+QSMH57Vqc367F+e1anN+uFcnn1+l0hrsIYRWVg0D69u2rP/3pT5o8\\\n",
       "ebLS09M1e/ZsjRs3Ttu3b7dr8JxOp15//XV98cUXyszM1J133qlly5Zp7ty5YS49AABA14rKGsAL\\\n",
       "L7xQb7zxRqv7jRs3Tv/zP//TDSUCAADoOaKyBrCnSEhIUEFBQVC/QXQezm/X4vx2Lc5v1+L8di3O\\\n",
       "b+SLqFHAAAAA6DhqAAEAAAxDAAQAADAMARAAAMAwBEAAAADDEAC7wJdffqnZs2dr1KhR6tOnj847\\\n",
       "7zwVFBSorq4uaL9PPvlEP/jBD9S7d2+lpaVp9erVYSpx5FmxYoWuuOIK9e3bVwMHDgy5z/79+zV9\\\n",
       "+nT17dtXQ4YM0V133aXTp093b0EjmMvl0jnnnKPevXtrwoQJeu+998JdpIj05ptv6kc/+pGGDRsm\\\n",
       "h8MRdPtJyXdHgmXLlmno0KHq06ePpkyZos8++yw8hY1AK1eu1Pjx4zVgwAANGTJE2dnZqqysDNrn\\\n",
       "5MmTysvL01lnnaX+/ftrxowZqqmpCVOJI8vatWs1btw4e8LnrKwsvfLKK/Z2zm3kIgB2gT179qih\\\n",
       "oUHr16/X7t27tWbNGq1bt0733HOPvY/H49HUqVM1cuRI7dy5Uw888IAKCwv16KOPhrHkkaOurk43\\\n",
       "3nij5s+fH3J7fX29pk+frrq6Or3zzjt68skntXHjRi1btqybSxqZnnnmGS1atEgFBQX68MMPddFF\\\n",
       "F2natGk6dOhQuIsWcY4fP66LLrpILpcr5PbVq1frN7/5jdatW6cdO3aoX79+mjZtmk6ePNnNJY1M\\\n",
       "27dvV15ent59911t3rxZp06d0tSpU3X8+HF7n4ULF+ovf/mLnnvuOW3fvl1VVVX6yU9+EsZSR47h\\\n",
       "w4dr1apV2rlzpz744ANdc801uuGGG7R7925JnNuIZqFbrF692ho1apS9/Mgjj1hJSUmW1+u11919\\\n",
       "991Wenp6OIoXsTZs2GA5nc4m619++WUrJibGqq6uttetXbvWSkxMDDrnCO2yyy6z8vLy7OX6+npr\\\n",
       "2LBh1sqVK8NYqsgnyXr++eft5YaGBis1NdV64IEH7HVHjx61EhISrKeffjoMJYx8hw4dsiRZ27dv\\\n",
       "tyzLdz7j4uKs5557zt6noqLCkmSVlpaGq5gRLSkpyXrsscc4txGOGsBu4na7NWjQIHu5tLRUkyZN\\\n",
       "Unx8vL1u2rRpqqys1JEjR8JRxKhSWlqqCy+8UCkpKfa6adOmyePx2N9cEVpdXZ127typKVOm2Oti\\\n",
       "YmI0ZcoUlZaWhrFk0eeLL75QdXV10Ll2Op2aMGEC5/oMud1uSbI/b3fu3KlTp04FneMLLrhAI0aM\\\n",
       "4By3U319vUpKSnT8+HFlZWVxbiMcAbAb7N27V0VFRZo3b569rrq6OiicSLKXq6uru7V80Yjze+a+\\\n",
       "+eYb1dfXhzx/nLvO5T+fnOvO0dDQoDvuuENXXnmlMjIyJPnOcXx8fJO+wpzjtvv000/Vv39/JSQk\\\n",
       "6Pbbb9fzzz+vsWPHcm4jHAGwHRYvXiyHw9HiY8+ePUHPOXjwoK699lrdeOONmjNnTphKHhnO5PwC\\\n",
       "gF9eXp7KyspUUlIS7qJElfT0dH300UfasWOH5s+fr9zcXJWXl4e7WOig2HAXIJLceeedmjVrVov7\\\n",
       "nHvuufbvVVVVuvrqq3XFFVc0GdyRmpraZKSUfzk1NbVzChxh2nt+W5Kamtpk1Krp57etBg8erF69\\\n",
       "eoV8f3LuOpf/fNbU1Gjo0KH2+pqaGl188cVhKlVkys/P14svvqg333xTw4cPt9enpqaqrq5OR48e\\\n",
       "Daqp4v3cdvHx8Ro9erQkKTMzU++//74efvhh3XTTTZzbCEYAbIfk5GQlJye3ad+DBw/q6quvVmZm\\\n",
       "pjZs2KCYmODK1qysLC1dulSnTp1SXFycJGnz5s1KT09XUlJSp5c9ErTn/LYmKytLK1as0KFDhzRk\\\n",
       "yBBJvvObmJiosWPHdsprRKv4+HhlZmZqy5Ytys7OluRrWtuyZYvy8/PDW7goM2rUKKWmpmrLli12\\\n",
       "4PN4PHZNC1pnWZYWLFig559/Xtu2bdOoUaOCtmdmZiouLk5btmzRjBkzJEmVlZXav3+/srKywlHk\\\n",
       "iNfQ0CCv18u5jXThHoUSjb766itr9OjR1uTJk62vvvrK+vrrr+2H39GjR62UlBTr5ptvtsrKyqyS\\\n",
       "khKrb9++1vr168NY8sixb98+a9euXdby5cut/v37W7t27bJ27dplHTt2zLIsyzp9+rSVkZFhTZ06\\\n",
       "1froo4+sV1991UpOTraWLFkS5pJHhpKSEishIcHauHGjVV5ebs2dO9caOHBg0KhqtM2xY8fs96ck\\\n",
       "69e//rW1a9cua9++fZZlWdaqVausgQMHWi+88IL1ySefWDfccIM1atQo68SJE2EueWSYP3++5XQ6\\\n",
       "rW3btgV91n777bf2Prfffrs1YsQI64033rA++OADKysry8rKygpjqSPH4sWLre3bt1tffPGF9ckn\\\n",
       "n1iLFy+2HA6H9frrr1uWxbmNZATALrBhwwZLUshHoI8//tiaOHGilZCQYJ199tnWqlWrwlTiyJOb\\\n",
       "mxvy/G7dutXe58svv7Suu+46q0+fPtbgwYOtO++80zp16lT4Ch1hioqKrBEjRljx8fHWZZddZr37\\\n",
       "7rvhLlJE2rp1a8j3am5urmVZvqlg7rvvPislJcVKSEiwJk+ebFVWVoa30BGkuc/aDRs22PucOHHC\\\n",
       "+uUvf2klJSVZffv2tX784x8HfSFH82699VZr5MiRVnx8vJWcnGxNnjzZDn+WxbmNZA7LsqxurHAE\\\n",
       "AABAmDEKGAAAwDAEQAAAAMMQAAEAAAxDAAQAADAMARAAAMAwBEAAAADDEAABAAAMQwAEAAAwDAEQ\\\n",
       "AADAMARAAAAAwxAAAQAADEMABAAAMAwBEAAAwDAEQAAAAMMQAAEAAAxDAAQAADAMARAAAMAwBEAA\\\n",
       "AADDEAABAAAMQwAEAAAwDAEQAADAMARAAAAAwxAAAQAADEMABAAAMAwBEAAAwDAEQAAAAMMQAAEA\\\n",
       "AAxDAAQAADAMARAAAMAwBEAAAADDEAABAAAM8/8BxURdMjWUK00AAAAASUVORK5CYII=\\\n",
       "\"\n",
       "  frames[2] = \"data:image/png;base64,iVBORw0KGgoAAAANSUhEUgAAAoAAAAHgCAYAAAA10dzkAAAAOXRFWHRTb2Z0d2FyZQBNYXRwbG90\\\n",
       "bGliIHZlcnNpb24zLjguMiwgaHR0cHM6Ly9tYXRwbG90bGliLm9yZy8g+/7EAAAACXBIWXMAAA9h\\\n",
       "AAAPYQGoP6dpAAAmpUlEQVR4nO3dfYyVZ4HH/R/YzpTazlTslJEAK92aFoJWg7ZOzRpf2LJN18j6\\\n",
       "EskmOmijPN2BpNK4W6J2hkSXbvXZVZmxZbO7pftHpWmyxeizvjRY8Q+xrhiypUBjs3Uh4tAxbmcq\\\n",
       "WQaE8/zBznFmmKHQYTicc30+zUk4577ncPUOOec717nu+8yoVCqVAABQjJm1HgAAABeWAAQAKIwA\\\n",
       "BAAojAAEACiMAAQAKIwABAAojAAEACiMAAQAKIwABAAojAAEACiMAAQAKIwABAAojAAEACiMAAQA\\\n",
       "KIwABAAojAAEACiMAAQAKIwABAAojAAEACiMAAQAKIwABAAojAAEACiMAAQAKIwABAAojAAEACiM\\\n",
       "AAQAKIwABAAojAAEACiMAAQAKIwABAAojAAEACiMAAQAKIwABAAojAAEACiMAAQAKIwABAAojAAE\\\n",
       "ACiMAAQAKIwABAAojAAEACiMAAQAKIwABAAojAAEACiMAAQAKIwABAAojAAEACiMAAQAKIwABAAo\\\n",
       "jAAEACiMAAQAKIwABAAojAAEACiMAAQAKIwABAAojAAEACiMAAQAKMwltR5APTt58mQOHTqUK6+8\\\n",
       "MjNmzKj1cACAs1CpVPLSSy9l7ty5mTmzzLkwATgFhw4dyvz582s9DADgFTh48GDmzZtX62HUhACc\\\n",
       "giuvvDLJqX9ALS0tNR4NAHA2hoaGMn/+/Or7eIkE4BSMfOzb0tIiAAGgzpS8fKvMD74BAAomAAEA\\\n",
       "CiMAAQAKIwABAAojACFJT09P+vr6zrhPX19fenp6LsyAAGAaOQuY4vX09GTDhg3V+11dXaft09fX\\\n",
       "lzVr1oz5GQCoV2YAKdr4+FuzZs1pM4Hj42/Dhg0CEIC6JgAp1vj4GzE6AsfH3wgRCEA9m1GpVCq1\\\n",
       "HkS9GhoaSmtrawYHB10Ius5MFn+jLVq0KPv27TvjPt3d3UIQoM54/zYDSKHa2tom3bYkS5KkGn8j\\\n",
       "98/1eQDgYiUAKVJXV1d6e3tPe7wzndmUTVmZlUmSlVmZTdmUznSetm9vb++EJ4wAwMXOR8BTYAq5\\\n",
       "/o1e47ckS7Ipm6rbBjOY1rRW76/N2uzJniTiD6Ceef82A0jhRs8E7smebM7m6rbR8bc5m8UfAA3D\\\n",
       "DOAU+A2icSxevLi65m9bto2Jv8EMZkVWJDl1YsjevXtrMUQAzhPv32YAIX19fdX4W5mVY+IvOTUT\\\n",
       "OLImcN++fS/7jSEAcLETgBRt/BrA1Vld3TaYweqfV2d19WzgiS4WDQD1RABSrPEXed6TPdmSLUlO\\\n",
       "rflbkRXVNYFbsqW6BjARgQDUN2sAp8Aagvo12Td8JKdmAkfH3vj7ozkhBKD+eP82A0ihBgYGJt02\\\n",
       "EnuLFi0ac/9cnwcALlYCkCL19PSku7t70u29vb3Zu3fvhBeLHuFr4ACoVwKQYk0WgaM/1p3sG0PE\\\n",
       "HwD1TABStPERONGavvERKP4AqHeX1HoAUGsjMdfW1jbpCR0jjw8MDIg/oO719PSc8TUvOXWynNe8\\\n",
       "xiUAITmrFzhn+wKNoKenJxs2bKjen+i1bfyVEkRg4xGANJ6eUd/k0TM4+X4AhRkffyORNzoCx8ff\\\n",
       "yP4isLFYAwgABRgffyNGX9h+smukbtiwQQA2GDOAANDgJou/ESMROPK96BMxE9hYzAACQINra2ub\\\n",
       "dNvI95yPxN/I/XN9HuqLAKTx9Az+4QbApNc07UxnNmVTVmZlkmRlVmZTNqUznaft66svG4vvAp4C\\\n",
       "3yUIQD0ZvcZvSZZkUzZVtw1mMK35w0l0a7O2+lWYjRZ/3r/NAAJAMUbPBO7JnmzO5uq20fG3OZsb\\\n",
       "Nv44xQzgFPgNAoB6tHjx4uqav23ZNib+BjOYFVmRJFm0aFH27t1biyFOK+/fDTwD+MADD+RNb3pT\\\n",
       "Wlpa0tLSko6OjnznO9+pbj969Gi6urry2te+NldccUU++MEP5vDhwzUcMQBMv9Fn+67MyjHxl5ya\\\n",
       "CRxZE7hv377qJWJoLA0bgPPmzct9992XXbt25Wc/+1ne85735P3vf3+eeeaZJMmnP/3pfOtb38pj\\\n",
       "jz2WHTt25NChQ/nABz5Q41EDwPQZvwZwdVZXtw3mDyfOrc7q6tnAo68TSOMo6iPg2bNn50tf+lI+\\\n",
       "9KEPpa2tLY888kg+9KEPJUn279+fRYsWZefOnXn7299+Vs9nChmAejHRRZ4705lVWZXN2Zyt2ZqV\\\n",
       "WZnVWZ0t2ZKH8/CYfRtpLaD370IuBH3ixIk89thjOXLkSDo6OrJr164cP348y5Ytq+5zww03ZMGC\\\n",
       "BecUgABQDyb7ho+H83B2ZVf1hI+t2Zo9//ffeBN9bRz1q6ED8Omnn05HR0eOHj2aK664Io8//ngW\\\n",
       "L16c3bt3p6mpKVddddWY/efMmZP+/v5Jn294eDjDw8PV+0NDQ9M1dAA4bwYGBibdNhJ7ixYtyr59\\\n",
       "+yaMv7N5HupLw64BTJLrr78+u3fvzlNPPZU777wznZ2dUzqbaePGjWltba3e5s+ffx5HCwDTo6en\\\n",
       "J93d3ZNu7+3tzd69eye8WPSI7u5uXwPXQBo6AJuamnLddddl6dKl2bhxY2688cZ89atfTXt7e44d\\\n",
       "O5YXX3xxzP6HDx9Oe3v7pM+3fv36DA4OVm8HDx6c5v8DADg/JovA0Wv7JvvGEPHXeBo6AMc7efJk\\\n",
       "hoeHs3Tp0lx66aXZvn17dduzzz6bAwcOpKOjY9Kfb25url5WZuQGAPVifAROdGLH+AgUf42pYdcA\\\n",
       "rl+/PrfddlsWLFiQl156KY888kh++MMf5nvf+15aW1tzxx13ZN26dZk9e3ZaWlqydu3adHR0OAEE\\\n",
       "gLrz+nv+vzH3f3nf7ZPuOxJzbW1tk57QMfL4wMCA+GtQDRuAL7zwQj72sY/l17/+dVpbW/OmN70p\\\n",
       "3/ve9/Knf/qnSZJ/+Id/yMyZM/PBD34ww8PDWb58eb7+9a/XeNQAMP3OJuqc7dvYiroO4PnmOkIA\\\n",
       "XAzOZQYQ799JYWsAAQBo4I+AAaAUZvw4V2YAAQAKIwABAAojAAEACiMAAQAKIwABAAojAAEACiMA\\\n",
       "AQAKIwABAAojAAEACiMAAQAKIwABAAojAAEACiMAAQAKIwABAAojAAEACiMAAQAKIwABAAojAAEA\\\n",
       "CiMAAQAKIwABAAojAAEACiMAAQAKIwABAAojAAEACiMAG0RPT0/6+vrOuE9fX196enouzIAAgIvW\\\n",
       "JbUeAFPX09OTDRs2VO93dXWdtk9fX1/WrFkz5mcAgDKZAaxz4+NvzZo1p80Ejo+/DRs2CEAAKJgA\\\n",
       "rGPj42/E6AgcH38jRCAAlGtGpVKp1HoQ9WpoaCitra0ZHBxMS0vLBf27J4u/0RYtWpR9+/adcZ/u\\\n",
       "7m4hCEBRavn+fbEwA1in2traJt22JEuSpBp/I/fP9XkAgMYkAOtUV1dXent7T3u8M53ZlE1ZmZVJ\\\n",
       "kpVZmU3ZlM50nrZvb2/vhCeMAACNzUfAU3AxTCGPXuO3JEuyKZuq2wYzmNa0Vu+vzdrsyZ4k4g+A\\\n",
       "cl0M79+1Zgawzo2eCdyTPdmczdVto+NvczaLPwAgiRnAKbmYfoNYvHhxdc3ftmwbE3+DGcyKrEhy\\\n",
       "6sSQvXv31mKIAHBRuJjev2vFDGAD6Ovrq8bfyqwcE3/JqZnAkTWB+/bte9lvDAEAGpsArHPj1wCu\\\n",
       "zurqtsEMVv+8OqurZwNPdLFoAKAcArCOjb/I857syZZsSXJqzd+KrKiuCdySLdU1gIkIBICSWQM4\\\n",
       "BbVcQzDZN3wkp2YCR8fe+PujOSEEgNJYA2gGsG4NDAxMum0k9hYtWjTm/rk+DwDQmARgnerp6Ul3\\\n",
       "d/ek23t7e7N3794JLxY9wtfAAUCZBGAdmywCR3+sO9k3hog/ACiXAKxz4yNwojV94yNQ/AFA2S6p\\\n",
       "9QCYupGYa2trm/SEjpHHBwYGxB8AFK5hzwLeuHFj/u3f/i379+/PrFmzcsstt+Tv/u7vcv3111f3\\\n",
       "OXr0aO6+++5s3bo1w8PDWb58eb7+9a9nzpw5Z/V3TOdZRPtuWFT986L9+87rcwNAyZwF3MAfAe/Y\\\n",
       "sSNdXV35yU9+kieeeCLHjx/PrbfemiNHjlT3+fSnP51vfetbeeyxx7Jjx44cOnQoH/jAB2o4agCA\\\n",
       "6dewM4DjDQwM5JprrsmOHTvyzne+M4ODg2lra8sjjzySD33oQ0mS/fv3Z9GiRdm5c2fe/va3v+xz\\\n",
       "mgEEgPpjBrCgNYCDg6e+Fm327NlJkl27duX48eNZtmxZdZ8bbrghCxYsOOsAnE6iDwCYLkUE4MmT\\\n",
       "J3PXXXflHe94R5YsOfV9uP39/WlqaspVV101Zt85c+akv79/wucZHh7O8PBw9f7Q0NC0jRkAYLo0\\\n",
       "7BrA0bq6urJnz55s3bp1Ss+zcePGtLa2Vm/z588/TyMEALhwGj4A16xZk29/+9t58sknM2/evOrj\\\n",
       "7e3tOXbsWF588cUx+x8+fDjt7e0TPtf69eszODhYvR08eHA6hw4AMC0aNgArlUrWrFmTxx9/PD/4\\\n",
       "wQ+ycOHCMduXLl2aSy+9NNu3b68+9uyzz+bAgQPp6OiY8Dmbm5vT0tIy5gYAUG8adg1gV1dXHnnk\\\n",
       "kXzzm9/MlVdeWV3X19ramlmzZqW1tTV33HFH1q1bl9mzZ6elpSVr165NR0dHzU8AAQCYTg17GZgZ\\\n",
       "M2ZM+PhDDz2UVatWJfnDhaC/8Y1vjLkQ9GQfAY/nNHIAqD/evxs4AC8E/4AAoP54/27gNYAAAExM\\\n",
       "AAIAFEYAAgAURgACABRGAAIAFEYAAgAURgACABRGAAIAFEYAAgAURgACABRGAAIAFEYAAgAURgAC\\\n",
       "ABRGAAIAFEYAAgAURgACABRGAAIAFEYAAgAURgACABRGAAIAFEYAAgAURgACABRGAAIAFEYAAgAU\\\n",
       "RgACABRGAAIAFEYAAgAURgACABRGAAIAFEYAAgAURgACABRGAAIAFEYAAgAURgACABRGAAIAFEYA\\\n",
       "AgAURgACABRGAAIAFEYAAgAURgACABRGAAIAFEYAAgAURgACABRGAAIAFEYAAgAUpmED8Ec/+lHe\\\n",
       "9773Ze7cuZkxY0a2bds2ZnulUsm9996b173udZk1a1aWLVuWX/ziF7UZLADABdSwAXjkyJHceOON\\\n",
       "6evrm3D7/fffn6997Wt58MEH89RTT+XVr351li9fnqNHj17gkXKx6unpmfTfz4i+vr709PRcmAEB\\\n",
       "wHlySa0HMF1uu+223HbbbRNuq1Qq+cpXvpLPfe5zef/7358k+dd//dfMmTMn27Zty8qVKy/kULkI\\\n",
       "9fT0ZMOGDdX7XV1dp+3T19eXNWvWjPkZAKgHDTsDeCbPP/98+vv7s2zZsupjra2tufnmm7Nz584a\\\n",
       "joyLwfj4W7NmzWkzgePjb8OGDQIQgLpRZAD29/cnSebMmTPm8Tlz5lS3TWR4eDhDQ0NjbjSW8fE3\\\n",
       "YnQEjo+/ESIQ4NxYalM7DfsR8HTYuHHjhHFAY5gs/kaMROC+ffsm3Wfk571YAZyZpTa1VeQMYHt7\\\n",
       "e5Lk8OHDYx4/fPhwddtE1q9fn8HBwert4MGD0zpOLqy2trZJty3JkiSpxt/I/XN9HgAstbkYFBmA\\\n",
       "CxcuTHt7e7Zv3159bGhoKE899VQ6Ojom/bnm5ua0tLSMudE4urq60tvbe9rjnenMpmzKypw6OWhl\\\n",
       "VmZTNqUznaft29vbO+FvsQCcYqnNxaFhPwL+3e9+l+eee656//nnn8/u3bsze/bsLFiwIHfddVe+\\\n",
       "8IUv5A1veEMWLlyYz3/+85k7d25WrFhRu0FTcyPxNvLCsyRLsiqrkiSrszorszKtaU2SrMqq7Mqu\\\n",
       "7MmeJOIP4OVYanPxaNgZwJ/97Gd5y1vekre85S1JknXr1uUtb3lL7r333iTJX//1X2ft2rX51Kc+\\\n",
       "lbe97W353e9+l+9+97u57LLLajlsLgKjZwL3ZE82Z3N120j8JcnmbBZ/AOfAUpuLx4xKpVKp9SDq\\\n",
       "1dDQUFpbWzM4OOjj4Aa0ePHi6gvRtmwbE3+DGcyKrEiSLFq0KHv37q3FEAHqzkQf73amM6uyKpuz\\\n",
       "OVuzNSuzMquzOluyJQ/n4TH7no9fuL1/N/AMIEzF6I8gRn/sO6I1rdU1gfv27XvZyxgAcMr49dbj\\\n",
       "l9psy7aszuokp5bajJ4J9GnL+SMAYZzRv50uyZLqC1FyauZvxOqsrr4wTXQGGwATs9Sm9gQgjDL+\\\n",
       "o4k92ZMt2ZLk1AvRiqyovlBtyZbqC1MiAgHORVdXVxYtWpQk2ZqtY37BTk79wr01W5OcWmoj/s4v\\\n",
       "AQj/Z7LLDjych7M2a6svRFuzNWuz9rR1KYkIBDhbltrUlgCE/zMwMDDptpGZvpHfVkfP/J3L8wBg\\\n",
       "qc3FQADC/+np6Ul3d/ek23t7e7N3794JLxY9oru727WpAM7AUpuLg8vATIHTyBvTRBcqHb/4eKKP\\\n",
       "i8UfwJlNttQmOTUTODr2xt8fbaonhHj/NgMIpxk/EzjRC834yxiIP4CXZ6nNxaNhvwoOpmIk5tra\\\n",
       "2ib9LXPk8YGBAfEHcBZGXisn+zq4kV+4zzRT6Bfu88NHwFNgChkAzl2tl9p4/zYDSAN748NvHHP/\\\n",
       "6c6nazQSAEYbPxM42VKbJNUINPN3fglAAOCCs9SmtgQgAPCK/L8f+fMx9+9+9Nvn9PNnE3W+AWR6\\\n",
       "CEAalo98AWBiLgMDAFAYM4AAwCtyrh/5cvEwAwgAUBgBCABQGAEIAFAYAQgAUBgBCABQGAEIAFAY\\\n",
       "AQgAUBgBCABQGAEIAFAYAQgAUBgBCABQGAEIAFAYAQgAUBgBCABQGAEIAFAYAQgAUBgBCABQGAEI\\\n",
       "AFAYAQgAUBgBCABQGAEIAFAYAQgAUBgBCABQGAEIAFAYAQgAUBgBCABQGAEIAFAYAQgAUBgBCABQ\\\n",
       "mOIDsK+vL69//etz2WWX5eabb85Pf/rTWg8JAGBaFR2Ajz76aNatW5fu7u78/Oc/z4033pjly5fn\\\n",
       "hRdeqPXQAACmTdEB+Pd///f55Cc/mY9//ONZvHhxHnzwwVx++eX5l3/5l1oPDQBg2hQbgMeOHcuu\\\n",
       "XbuybNmy6mMzZ87MsmXLsnPnzhqODABgel1S6wHUym9+85ucOHEic+bMGfP4nDlzsn///gl/Znh4\\\n",
       "OMPDw9X7Q0ND0zpGAIDpUOwM4CuxcePGtLa2Vm/z58+v9ZAAAM5ZsQF49dVX51WvelUOHz485vHD\\\n",
       "hw+nvb19wp9Zv359BgcHq7eDBw9eiKECAJxXxQZgU1NTli5dmu3bt1cfO3nyZLZv356Ojo4Jf6a5\\\n",
       "uTktLS1jbgAA9abYNYBJsm7dunR2duatb31rbrrppnzlK1/JkSNH8vGPf7zWQwMAmDZFB+BHPvKR\\\n",
       "DAwM5N57701/f3/e/OY357vf/e5pJ4YAADSSGZVKpVLrQdSroaGhtLa2ZnBw0MfBAFAnvH8XvAYQ\\\n",
       "AKBUAhAAoDACEACgMAIQAKAwAhAAoDACEACgMAIQAKAwAhAAoDACEACgMAIQAKAwAhAAoDACEACg\\\n",
       "MAIQAKAwAhAAoDACEACgMAIQAKAwAhAAoDACEACgMAIQAKAwAhAAoDACEACgMAIQAKAwAhAAoDAC\\\n",
       "EACgMAIQAKAwAhAAoDACEACgMAIQAKAwAhAAoDACEACgMAIQAKAwAhAAoDACEACgMAIQAKAwAhAA\\\n",
       "oDACEACgMAIQAKAwAhAAoDACEACgMAIQAKAwAhAAoDACEACgMAIQAKAwAhAAoDACEACgMAIQAKAw\\\n",
       "DRmAX/ziF3PLLbfk8ssvz1VXXTXhPgcOHMjtt9+eyy+/PNdcc00+85nP5Pe///2FHSgAQA1cUusB\\\n",
       "TIdjx47lwx/+cDo6OvLP//zPp20/ceJEbr/99rS3t+fHP/5xfv3rX+djH/tYLr300vzt3/5tDUYM\\\n",
       "AHDhzKhUKpVaD2K6bNmyJXfddVdefPHFMY9/5zvfyZ//+Z/n0KFDmTNnTpLkwQcfzN/8zd9kYGAg\\\n",
       "TU1NZ/X8Q0NDaW1tzeDgYFpaWs738AGAaeD9u0E/An45O3fuzBvf+MZq/CXJ8uXLMzQ0lGeeeWbS\\\n",
       "nxseHs7Q0NCYGwBAvSkyAPv7+8fEX5Lq/f7+/kl/buPGjWltba3e5s+fP63jBACYDnUTgPfcc09m\\\n",
       "zJhxxtv+/fundQzr16/P4OBg9Xbw4MFp/fsAAKZD3ZwEcvfdd2fVqlVn3Ofaa689q+dqb2/PT3/6\\\n",
       "0zGPHT58uLptMs3NzWlubj6rvwMA4GJVNwHY1taWtra28/JcHR0d+eIXv5gXXngh11xzTZLkiSee\\\n",
       "SEtLSxYvXnxe/g4AgItV3QTguThw4EB++9vf5sCBAzlx4kR2796dJLnuuutyxRVX5NZbb83ixYvz\\\n",
       "0Y9+NPfff3/6+/vzuc99Ll1dXWb4AICG15CXgVm1alUefvjh0x5/8skn8653vStJ8t///d+58847\\\n",
       "88Mf/jCvfvWr09nZmfvuuy+XXHL2Tew0cgCoP96/GzQALxT/gACg/nj/rqOzgAEAOD8EIABAYQQg\\\n",
       "AEBhBCAAQGEEIABAYQQgAEBhBCAAQGEEIABAYQQgAEBhBCAAQGEEIABAYQQgAEBhBCAAQGEEIABA\\\n",
       "YQQgAEBhBCAAQGEEIABAYQQgAEBhBCAAQGEEIABAYQQgAEBhBCAAQGEEIABAYQQgAEBhBCAAQGEE\\\n",
       "IABAYQQgAEBhBCAAQGEEIABAYQQgAEBhBCAAQGEEIABAYQQgAEBhBCAAQGEEIABAYQQgAEBhBCAA\\\n",
       "QGEEIABAYQQgAEBhBCAAQGEEIABAYQQgAEBhBCAAQGEEIABAYQQgAEBhGjIAf/nLX+aOO+7IwoUL\\\n",
       "M2vWrPzxH/9xuru7c+zYsTH7/ed//mf+5E/+JJdddlnmz5+f+++/v0YjBgC4cC6p9QCmw/79+3Py\\\n",
       "5Mls3rw51113Xfbs2ZNPfvKTOXLkSL785S8nSYaGhnLrrbdm2bJlefDBB/P000/nE5/4RK666qp8\\\n",
       "6lOfqvH/AQDA9JlRqVQqtR7EhfClL30pDzzwQP7rv/4rSfLAAw/ks5/9bPr7+9PU1JQkueeee7Jt\\\n",
       "27bs37//rJ5zaGgora2tGRwcTEtLy7SNHQA4f7x/N+hHwBMZHBzM7Nmzq/d37tyZd77zndX4S5Ll\\\n",
       "y5fn2Wefzf/8z/9M+BzDw8MZGhoacwMAqDdFBOBzzz2XTZs2ZfXq1dXH+vv7M2fOnDH7jdzv7++f\\\n",
       "8Hk2btyY1tbW6m3+/PnTN2gAgGlSVwF4zz33ZMaMGWe8jf/49le/+lX+7M/+LB/+8IfzyU9+ckp/\\\n",
       "//r16zM4OFi9HTx4cErPBwBQC3V1Esjdd9+dVatWnXGfa6+9tvrnQ4cO5d3vfnduueWW/OM//uOY\\\n",
       "/drb23P48OExj43cb29vn/C5m5ub09zc/ApGDgBw8airAGxra0tbW9tZ7furX/0q7373u7N06dI8\\\n",
       "9NBDmTlz7GRnR0dHPvvZz+b48eO59NJLkyRPPPFErr/++rzmNa8572MHALhY1NVHwGfrV7/6Vd71\\\n",
       "rndlwYIF+fKXv5yBgYH09/ePWdv3l3/5l2lqasodd9yRZ555Jo8++mi++tWvZt26dTUcOQDA9Kur\\\n",
       "GcCz9cQTT+S5557Lc889l3nz5o3ZNnLVm9bW1nz/+99PV1dXli5dmquvvjr33nuvawACAA2vmOsA\\\n",
       "TgfXEQKA+uP9u0E/AgYAYHICEACgMAIQAKAwAhAAoDACEACgMAIQAKi5np6e9PX1nXGfvr6+9PT0\\\n",
       "XJgBNbiGvA4gAFA/enp6smHDhur9rq6u0/bp6+vLmjVrxvwMr5wZQACgZsbH35o1a06bCRwffxs2\\\n",
       "bBCAUyQAAYCaGB9/I0ZH4Pj4GyECp8Y3gUyBK4kDwCszWfyNtmjRouzbt++M+3R3d59zCHr/NgMI\\\n",
       "ANRAW1vbpNuWZEmSVONv5P65Pg+TE4AAwAXX1dWV3t7e0x7vTGc2ZVNWZmWSZGVWZlM2pTOdp+3b\\\n",
       "29s74QkjvDwfAU+BKWQAmJrRa/yWZEk2ZVN122AG05rW6v21WZs92ZNkavHn/dsMIABQQ6NnAvdk\\\n",
       "TzZnc3Xb6PjbnM3nJf44xQzgFPgNAgDOj8WLF1fX/G3LtjHxN5jBrMiKJKdODNm7d++U/i7v32YA\\\n",
       "AYAa6+vrq8bfyqwcE3/JqZnAkTWB+/bte9lvDOHlCUAAoGbGrwFcndXVbYMZrP55dVZXzwae6GLR\\\n",
       "nBsBCADUxPiLPO/JnmzJliSn1vytyIrqmsAt2VJdA5iIwKmyBnAKrCEAgFdmsm/4SE7NBI6OvfH3\\\n",
       "R3slJ4R4/zYDCADUwMDAwKTbRmJv0aJFY+6f6/MwOQEIAFxwPT096e7unnR7b29v9u7dO+HFoke8\\\n",
       "kq+B4xQBCADUxGQROPpj3cm+MUT8TY0ABABqZnwETrSmb3wEir+pu6TWAwAAyjYSc21tbZOe0DHy\\\n",
       "+MDAgPg7D5wFPAXOIgKAP+j7f34w5n7Xg++p0UjOzPu3j4ABAIojAAEACmMNIABwXlysH/lyOjOA\\\n",
       "AACFEYAAAIURgAAAhRGAAACFEYAAAIURgAAAhRGAAACFEYAAAIURgAAAhRGAAACFEYAAAIURgAAA\\\n",
       "hRGAAACFuaTWA6hnlUolSTI0NFTjkQAAZ2vkfXvkfbxEAnAKXnrppSTJ/PnzazwSAOBcvfTSS2lt\\\n",
       "ba31MGpiRqXk/J2ikydP5tChQ7nyyiszY8aMWg+nIQwNDWX+/Pk5ePBgWlpaaj2chuZYXxiO84Xj\\\n",
       "WF849X6sK5VKXnrppcydOzczZ5a5Gs4M4BTMnDkz8+bNq/UwGlJLS0tdvqjUI8f6wnCcLxzH+sKp\\\n",
       "52Nd6szfiDKzFwCgYAIQAKAwApCLSnNzc7q7u9Pc3FzroTQ8x/rCcJwvHMf6wnGs65+TQAAACmMG\\\n",
       "EACgMAIQAKAwAhAAoDACEACgMAKQi8YXv/jF3HLLLbn88stz1VVXTbjPgQMHcvvtt+fyyy/PNddc\\\n",
       "k8985jP5/e9/f2EH2gD6+vry+te/Ppdddlluvvnm/PSnP631kOrej370o7zvfe/L3LlzM2PGjGzb\\\n",
       "tm3M9kqlknvvvTeve93rMmvWrCxbtiy/+MUvajPYOrZx48a87W1vy5VXXplrrrkmK1asyLPPPjtm\\\n",
       "n6NHj6arqyuvfe1rc8UVV+SDH/xgDh8+XKMR168HHnggb3rTm6oXe+7o6Mh3vvOd6nbHub4JQC4a\\\n",
       "x44dy4c//OHceeedE24/ceJEbr/99hw7diw//vGP8/DDD2fLli259957L/BI69ujjz6adevWpbu7\\\n",
       "Oz//+c9z4403Zvny5XnhhRdqPbS6duTIkdx4443p6+ubcPv999+fr33ta3nwwQfz1FNP5dWvfnWW\\\n",
       "L1+eo0ePXuCR1rcdO3akq6srP/nJT/LEE0/k+PHjufXWW3PkyJHqPp/+9KfzrW99K4899lh27NiR\\\n",
       "Q4cO5QMf+EANR12f5s2bl/vuuy+7du3Kz372s7znPe/J+9///jzzzDNJHOe6V4GLzEMPPVRpbW09\\\n",
       "7fF///d/r8ycObPS399ffeyBBx6otLS0VIaHhy/gCOvbTTfdVOnq6qreP3HiRGXu3LmVjRs31nBU\\\n",
       "jSVJ5fHHH6/eP3nyZKW9vb3ypS99qfrYiy++WGlubq584xvfqMEIG8cLL7xQSVLZsWNHpVI5dVwv\\\n",
       "vfTSymOPPVbdZ9++fZUklZ07d9ZqmA3jNa95TeWf/umfHOcGYAaQurFz58688Y1vzJw5c6qPLV++\\\n",
       "PENDQ9XfSDmzY8eOZdeuXVm2bFn1sZkzZ2bZsmXZuXNnDUfW2J5//vn09/ePOe6tra25+eabHfcp\\\n",
       "GhwcTJLMnj07SbJr164cP358zLG+4YYbsmDBAsd6Ck6cOJGtW7fmyJEj6ejocJwbwCW1HgCcrf7+\\\n",
       "/jHxl6R6v7+/vxZDqju/+c1vcuLEiQmP4/79+2s0qsY38u9zouPu3+4rd/Lkydx11115xzvekSVL\\\n",
       "liQ5daybmppOW0fsWL8yTz/9dDo6OnL06NFcccUVefzxx7N48eLs3r3bca5zZgCZVvfcc09mzJhx\\\n",
       "xpvwAF6Jrq6u7NmzJ1u3bq31UBrW9ddfn927d+epp57KnXfemc7Ozuzdu7fWw+I8MAPItLr77ruz\\\n",
       "atWqM+5z7bXXntVztbe3n3a26sgZZ+3t7a9ofKW5+uqr86pXveq0M/UOHz7sGE6jkWN7+PDhvO51\\\n",
       "r6s+fvjw4bz5zW+u0ajq25o1a/Ltb387P/rRjzJv3rzq4+3t7Tl27FhefPHFMbNT/o2/Mk1NTbnu\\\n",
       "uuuSJEuXLs1//Md/5Ktf/Wo+8pGPOM51zgwg06qtrS033HDDGW9NTU1n9VwdHR15+umnx5yt+sQT\\\n",
       "T6SlpSWLFy+erv+FhtLU1JSlS5dm+/bt1cdOnjyZ7du3p6Ojo4Yja2wLFy5Me3v7mOM+NDSUp556\\\n",
       "ynE/R5VKJWvWrMnjjz+eH/zgB1m4cOGY7UuXLs2ll1465lg/++yzOXDggGN9Hpw8eTLDw8OOcwMw\\\n",
       "A8hF48CBA/ntb3+bAwcO5MSJE9m9e3eS5LrrrssVV1yRW2+9NYsXL85HP/rR3H///env78/nPve5\\\n",
       "dHV1pbm5ubaDryPr1q1LZ2dn3vrWt+amm27KV77ylRw5ciQf//jHaz20uva73/0uzz33XPX+888/\\\n",
       "n927d2f27NlZsGBB7rrrrnzhC1/IG97whixcuDCf//znM3fu3KxYsaJ2g65DXV1deeSRR/LNb34z\\\n",
       "V155ZXW9WWtra2bNmpXW1tbccccdWbduXWbPnp2WlpasXbs2HR0defvb317j0deX9evX57bbbsuC\\\n",
       "BQvy0ksv5ZFHHskPf/jDfO9733OcG0GtT0OGEZ2dnZUkp92efPLJ6j6//OUvK7fddltl1qxZlauv\\\n",
       "vrpy9913V44fP167QdepTZs2VRYsWFBpamqq3HTTTZWf/OQntR5S3XvyyScn/Pfb2dlZqVROXQrm\\\n",
       "85//fGXOnDmV5ubmynvf+97Ks88+W9tB16GJjnGSykMPPVTd53//938rf/VXf1V5zWteU7n88ssr\\\n",
       "f/EXf1H59a9/XbtB16lPfOITlT/6oz+qNDU1Vdra2irvfe97K9///ver2x3n+jajUqlULnx2AgBQ\\\n",
       "K9YAAgAURgACABRGAAIAFEYAAgAURgACABRGAAIAFEYAAgAURgACABRGAAIAFEYAAgAURgACABRG\\\n",
       "AAIAFEYAAgAURgACABRGAAIAFEYAAgAURgACABRGAAIAFEYAAgAURgACABRGAAIAFEYAAgAURgAC\\\n",
       "ABRGAAIAFEYAAgAURgACABRGAAIAFEYAAgAURgACABRGAAIAFEYAAgAU5v8HoIL3oZXriZ8AAAAA\\\n",
       "SUVORK5CYII=\\\n",
       "\"\n",
       "  frames[3] = \"data:image/png;base64,iVBORw0KGgoAAAANSUhEUgAAAoAAAAHgCAYAAAA10dzkAAAAOXRFWHRTb2Z0d2FyZQBNYXRwbG90\\\n",
       "bGliIHZlcnNpb24zLjguMiwgaHR0cHM6Ly9tYXRwbG90bGliLm9yZy8g+/7EAAAACXBIWXMAAA9h\\\n",
       "AAAPYQGoP6dpAAAmpUlEQVR4nO3dfWydZ2H38V9CazeltUuoGxMlGemK2kSBggItLhriJWtWdYiM\\\n",
       "FxFNAgcqyNM5kUoqtkZA7UiwdIVnA2LTZtrWdH+UVJXWIHjGSxVK+INQRlC0pkkqqpUlItg1YrVL\\\n",
       "tLyQnOePzGe2Y6dJHefknOvzqY7kc+7bJ1dvWT5fX+e67zOjUqlUAgBAMWbWegAAAFxYAhAAoDAC\\\n",
       "EACgMAIQAKAwAhAAoDACEACgMAIQAKAwAhAAoDACEACgMAIQAKAwAhAAoDACEACgMAIQAKAwAhAA\\\n",
       "oDACEACgMAIQAKAwAhAAoDACEACgMAIQAKAwAhAAoDACEACgMAIQAKAwAhAAoDACEACgMAIQAKAw\\\n",
       "AhAAoDACEACgMAIQAKAwAhAAoDACEACgMAIQAKAwAhAAoDACEACgMAIQAKAwAhAAoDACEACgMAIQ\\\n",
       "AKAwAhAAoDACEACgMAIQAKAwAhAAoDACEACgMAIQAKAwAhAAoDACEACgMAIQAKAwAhAAoDACEACg\\\n",
       "MAIQAKAwAhAAoDACEACgMAIQAKAwAhAAoDACEACgMAIQAKAwAhAAoDCX1HoA9ezkyZM5dOhQrrzy\\\n",
       "ysyYMaPWwwEAzkKlUslLL72UuXPnZubMMufCBOAUHDp0KPPnz6/1MACAV+DgwYOZN29erYdREwJw\\\n",
       "Cq688sokp36AWlpaajwaAOBsDA8PZ/78+dXX8RIJwCkYedu3paVFAAJAnSl5+VaZb3wDABRMAAIA\\\n",
       "FEYAAgAURgACABRGAEKSnp6e9PX1nXGfvr6+9PT0XJgBAcA0chYwxevp6cmGDRuq97u6uk7bp6+v\\\n",
       "L2vWrBnzPQBQr8wAUrTx8bdmzZrTZgLHx9+GDRsEIAB1TQBSrPHxN2J0BI6PvxEiEIB6NqNSqVRq\\\n",
       "PYh6NTw8nNbW1gwNDbkQdJ2ZLP5GW7RoUfbt23fGfbq7u4UgQJ3x+m0GkEK1tbVNum1JliRJNf5G\\\n",
       "7p/r8wDAxUoAUqSurq709vae9nhnOrMpm7IyK5MkK7Mym7Ipnek8bd/e3t4JTxgBgIudt4CnwBRy\\\n",
       "/Ru9xm9JlmRTNlW3DWUorWmt3l+btdmTPUnEH0A98/ptBpDCjZ4J3JM92ZzN1W2j429zNos/ABqG\\\n",
       "GcAp8BdE41i8eHF1zd+2bBsTf0MZyoqsSHLqxJC9e/fWYogAnCdev80AQvr6+qrxtzIrx8Rfcmom\\\n",
       "cGRN4L59+172E0MA4GInACna+DWAq7O6um0oQ9WvV2d19WzgiS4WDQD1RABSrPEXed6TPdmSLUlO\\\n",
       "rflbkRXVNYFbsqW6BjARgQDUN2sAp8Aagvo12Sd8JKdmAkfH3vj7ozkhBKD+eP02A0ihBgcHJ902\\\n",
       "EnuLFi0ac/9cnwcALlYCkCL19PSku7t70u29vb3Zu3fvhBeLHuFj4ACoVwKQYk0WgaPf1p3sE0PE\\\n",
       "HwD1TABStPERONGavvERKP4AqHeX1HoAUGsjMdfW1jbpCR0jjw8ODoo/oO719PSc8XdecupkOb/z\\\n",
       "GpcAhOSsfsE52xdoBD09PdmwYUP1/kS/28ZfKUEENh5vAQNAIcbH30TXNB0ffxs2bBCADcgMII2n\\\n",
       "Z9RHufUMTb4fQEHGx9+Ikdjr6uqa9BqpI98nBBuHAASABjdZ/I0YmQkc+Vz0iYjAxuItYABocG1t\\\n",
       "bZNuG/mc85H4G7l/rs9DfRGANJ6eof+9ATDpNU0705lN2ZSVWZkkWZmV2ZRN6Uznafv66MvG4rOA\\\n",
       "p8BnCQJQT0av8VuSJdmUTdVtQxlKa/53DfXarK1+FGajxZ/XbzOAAFCM0TOBe7Inm7O5um10/G3O\\\n",
       "5oaNP04xAzgF/oIAoB4tXry4uuZvW7aNib+hDGVFViRJFi1alL1799ZiiNPK63cDzwA+8MADedOb\\\n",
       "3pSWlpa0tLSko6Mj3/nOd6rbjxw5kq6urrz2ta/NFVdckQ9+8IMZGBio4YgBYPqNPtt3ZVaOib/k\\\n",
       "1EzgyJrAffv2nXadQBpDwwbgvHnzct9992XXrl352c9+lve85z15//vfn2eeeSZJ8ulPfzrf+ta3\\\n",
       "8thjj2XHjh05dOhQPvCBD9R41AAwfcavAVyd1dVtQ/nfE+dWZ3X1bOCJLhZN/SvqLeDZs2fnS1/6\\\n",
       "Uj70oQ+lra0tjzzySD70oQ8lSfbv359FixZl586defvb335Wz2cKGYB6MdFFnjvTmVVZlc3ZnK3Z\\\n",
       "mpVZmdVZnS3Zkofz8Jh9G2ktoNfvQi4EfeLEiTz22GM5fPhwOjo6smvXrhw/fjzLli2r7nPDDTdk\\\n",
       "wYIF5xSAAFAPJvuEj4fzcHZlV/WEj63Zmj3/8994oz8xhPrX0AH49NNPp6OjI0eOHMkVV1yRxx9/\\\n",
       "PIsXL87u3bvT1NSUq666asz+c+bMSX9//6TPd/To0Rw9erR6f3h4eLqGDgDnzeDg4KTbRmJv0aJF\\\n",
       "2bdv34TxdzbPQ31p2DWASXL99ddn9+7deeqpp3LnnXems7NzSmczbdy4Ma2trdXb/Pnzz+NoAWB6\\\n",
       "9PT0pLu7e9Ltvb292bt374QXix7R3d3tY+AaSEMHYFNTU6677rosXbo0GzduzI033pivfvWraW9v\\\n",
       "z7Fjx/Liiy+O2X9gYCDt7e2TPt/69eszNDRUvR08eHCa/w8A4PyYLAJHr+2b7BNDxF/jaegAHO/k\\\n",
       "yZM5evRoli5dmksvvTTbt2+vbnv22Wdz4MCBdHR0TPr9zc3N1cvKjNwAoF6Mj8CJTuwYH4HirzE1\\\n",
       "7BrA9evX57bbbsuCBQvy0ksv5ZFHHskPf/jDfO9730tra2vuuOOOrFu3LrNnz05LS0vWrl2bjo4O\\\n",
       "J4AA0NBGYq6trW3SEzpGHh8cHBR/DaphA/CFF17Ixz72sfz6179Oa2tr3vSmN+V73/te/viP/zhJ\\\n",
       "8nd/93eZOXNmPvjBD+bo0aNZvnx5vv71r9d41ADwyrz+nv9X/fqX991+xn3PJuqc7dvYiroO4Pnm\\\n",
       "OkIAXCzOJQBL5/W7sDWAAAA08FvAAFASs36cCzOAAACFEYAAAIURgAAAhRGAAACFEYAAAIURgAAA\\\n",
       "hRGAAACFEYAAAIURgAAAhRGAAACFEYAAAIURgAAAhRGAAACFEYAAAIURgAAAhRGAAACFEYAAAIUR\\\n",
       "gAAAhRGAAACFEYAAAIURgAAAhRGAAACFEYAAAIURgAAAhRGADaKnpyd9fX1n3Kevry89PT0XZkAA\\\n",
       "wEXrkloPgKnr6enJhg0bqve7urpO26evry9r1qwZ8z0AQJnMANa58fG3Zs2a02YCx8ffhg0bBCAA\\\n",
       "FEwA1rHx8TdidASOj78RIhAAyjWjUqlUaj2IejU8PJzW1tYMDQ2lpaXlgv7bk8XfaIsWLcq+ffvO\\\n",
       "uE93d7cQBKAotXz9vliYAaxTbW1tk25bkiVJUo2/kfvn+jwAQGMSgHWqq6srvb29pz3emc5syqas\\\n",
       "zMokycqszKZsSmc6T9u3t7d3whNGAIDG5i3gKbgYppBHr/FbkiXZlE3VbUMZSmtaq/fXZm32ZE8S\\\n",
       "8QdAuS6G1+9aMwNY50bPBO7JnmzO5uq20fG3OZvFHwCQxAzglFxMf0EsXry4uuZvW7aNib+hDGVF\\\n",
       "ViQ5dWLI3r17azFEALgoXEyv37ViBrAB9PX1VeNvZVaOib/k1EzgyJrAffv2vewnhgAAjU0A1rnx\\\n",
       "awBXZ3V121CGql+vzurq2cATXSwaACiHAKxj4y/yvCd7siVbkpxa87ciK6prArdkS3UNYCICAaBk\\\n",
       "1gBOQS3XEEz2CR/JqZnA0bE3/v5oTggBoDTWAJoBrFuDg4OTbhuJvUWLFo25f67PAwA0JgFYp3p6\\\n",
       "etLd3T3p9t7e3uzdu3fCi0WP8DFwAFAmAVjHJovA0W/rTvaJIeIPAMolAOvc+AicaE3f+AgUfwBQ\\\n",
       "tktqPQCmbiTm2traJj2hY+TxwcFB8QcAhWvYs4A3btyYf/mXf8n+/fsza9as3HLLLfmbv/mbXH/9\\\n",
       "9dV9jhw5krvvvjtbt27N0aNHs3z58nz961/PnDlzzurfmM6ziPbdsKj69aL9+87rcwNAyZwF3MBv\\\n",
       "Ae/YsSNdXV35yU9+kieeeCLHjx/PrbfemsOHD1f3+fSnP51vfetbeeyxx7Jjx44cOnQoH/jAB2o4\\\n",
       "agCA6dewM4DjDQ4O5pprrsmOHTvyzne+M0NDQ2lra8sjjzySD33oQ0mS/fv3Z9GiRdm5c2fe/va3\\\n",
       "v+xzmgEEgPpjBrCgNYBDQ6c+Fm327NlJkl27duX48eNZtmxZdZ8bbrghCxYsOOsAnE6iDwCYLkUE\\\n",
       "4MmTJ3PXXXflHe94R5YsOfV5uP39/WlqaspVV101Zt85c+akv79/wuc5evRojh49Wr0/PDw8bWMG\\\n",
       "AJguDbsGcLSurq7s2bMnW7dundLzbNy4Ma2trdXb/Pnzz9MIAQAunIYPwDVr1uTb3/52nnzyycyb\\\n",
       "N6/6eHt7e44dO5YXX3xxzP4DAwNpb2+f8LnWr1+foaGh6u3gwYPTOXQAgGnRsAFYqVSyZs2aPP74\\\n",
       "4/nBD36QhQsXjtm+dOnSXHrppdm+fXv1sWeffTYHDhxIR0fHhM/Z3NyclpaWMTcAgHrTsGsAu7q6\\\n",
       "8sgjj+Sb3/xmrrzyyuq6vtbW1syaNSutra254447sm7dusyePTstLS1Zu3ZtOjo6an4CCADAdGrY\\\n",
       "y8DMmDFjwscfeuihrFq1Ksn/Xgj6G9/4xpgLQU/2FvB4TiMHgPrj9buBA/BC8AMEAPXH63cDrwEE\\\n",
       "AGBiAhAAoDACEACgMAIQAKAwAhAAoDACEACgMAIQAKAwAhAAoDACEACgMAIQAKAwAhAAoDACEACg\\\n",
       "MAIQAKAwAhAAoDACEACgMAIQAKAwAhAAoDACEACgMAIQAKAwAhAAoDACEACgMAIQAKAwAhAAoDAC\\\n",
       "EACgMAIQAKAwAhAAoDACEACgMAIQAKAwAhAAoDACEACgMAIQAKAwAhAAoDACEACgMAIQAKAwAhAA\\\n",
       "oDACEACgMAIQAKAwAhAAoDACEACgMAIQAKAwAhAAoDACEACgMAIQAKAwAhAAoDACEACgMA0bgD/6\\\n",
       "0Y/yvve9L3Pnzs2MGTOybdu2MdsrlUruvffevO51r8usWbOybNmy/OIXv6jNYAEALqCGDcDDhw/n\\\n",
       "xhtvTF9f34Tb77///nzta1/Lgw8+mKeeeiqvfvWrs3z58hw5cuQCj5SLVU9Pz6Q/PyP6+vrS09Nz\\\n",
       "YQYEAOfJJbUewHS57bbbctttt024rVKp5Ctf+Uo+97nP5f3vf3+S5J//+Z8zZ86cbNu2LStXrryQ\\\n",
       "Q+Ui1NPTkw0bNlTvd3V1nbZPX19f1qxZM+Z7AKAeNOwM4Jk8//zz6e/vz7Jly6qPtba25uabb87O\\\n",
       "nTtrODIuBuPjb82aNafNBI6Pvw0bNghAAOpGkQHY39+fJJkzZ86Yx+fMmVPdNpGjR49meHh4zI3G\\\n",
       "Mj7+RoyOwPHxN0IEApwbS21qp2HfAp4OGzdunDAOaAyTxd+IkQjct2/fpPuMfL9fVgBnZqlNbRU5\\\n",
       "A9je3p4kGRgYGPP4wMBAddtE1q9fn6Ghoert4MGD0zpOLqy2trZJty3JkiSpxt/I/XN9HgAstbkY\\\n",
       "FBmACxcuTHt7e7Zv3159bHh4OE899VQ6Ojom/b7m5ua0tLSMudE4urq60tvbe9rjnenMpmzKypw6\\\n",
       "OWhlVmZTNqUznaft29vbO+FfsQCcYqnNxaFh3wL+3e9+l+eee656//nnn8/u3bsze/bsLFiwIHfd\\\n",
       "dVe+8IUv5A1veEMWLlyYz3/+85k7d25WrFhRu0FTcyPxNvKLZ0mWZFVWJUlWZ3VWZmVa05okWZVV\\\n",
       "2ZVd2ZM9ScQfwMux1Obi0bAzgD/72c/ylre8JW95y1uSJOvWrctb3vKW3HvvvUmSv/zLv8zatWvz\\\n",
       "qU99Km9729vyu9/9Lt/97ndz2WWX1XLYXARGzwTuyZ5szubqtpH4S5LN2Sz+AM6BpTYXjxmVSqVS\\\n",
       "60HUq+Hh4bS2tmZoaMjbwQ1o8eLF1V9E27JtTPwNZSgrsiJJsmjRouzdu7cWQwSoOxO9vduZzqzK\\\n",
       "qmzO5mzN1qzMyqzO6mzJljych8fsez7+4Pb63cAzgDAVo9+CGP2274jWtFbXBO7bt+9lL2MAwCnj\\\n",
       "11uPX2qzLduyOquTnFpqM3om0Lst548AhHFG/3W6JEuqv4iSUzN/I1ZndfUX00RnsAEwMUttak8A\\\n",
       "wijj35rYkz3Zki1JTv0iWpEV1V9UW7Kl+ospEYEA56KrqyuLFi1KkmzN1jF/YCen/uDemq1JTi21\\\n",
       "EX/nlwCE/zHZZQcezsNZm7XVX0RbszVrs/a0dSmJCAQ4W5ba1JYAhP8xODg46baRmb6Rv1ZHz/yd\\\n",
       "y/MAYKnNxUAAwv/o6elJd3f3pNt7e3uzd+/eCS8WPaK7u9u1qQDOwFKbi4PLwEyB08gb00QXKh2/\\\n",
       "+Hiit4vFH8CZTbbUJjk1Ezg69sbfH22qJ4R4/TYDCKcZPxM40S+a8ZcxEH8AL89Sm4tHw34UHEzF\\\n",
       "SMy1tbVN+lfmyOODg4PiD+AsjPyunOzj4Eb+4D7TTKE/uM8PbwFPgSlkADh3tV5q4/XbDCAN7I0P\\\n",
       "v7H69dOdT9dwJACMNn4mcLKlNkmqEWjm7/wSgADABWepTW0JQADgFfm/H/nT6td3P/rtc/7+s4k6\\\n",
       "nwAyPQQgDcvbvgAwMZeBAQAojBlAAOAVeSVv+3JxMAMIAFAYAQgAUBgBCABQGAEIAFAYAQgAUBgB\\\n",
       "CABQGAEIAFAYAQgAUBgBCABQGAEIAFAYAQgAUBgBCABQGAEIAFAYAQgAUBgBCABQGAEIAFAYAQgA\\\n",
       "UBgBCABQGAEIAFAYAQgAUBgBCABQGAEIAFAYAQgAUBgBCABQGAEIAFAYAQgAUBgBCABQGAEIAFAY\\\n",
       "AQgAUBgBCABQmOIDsK+vL69//etz2WWX5eabb85Pf/rTWg8JAGBaFR2Ajz76aNatW5fu7u78/Oc/\\\n",
       "z4033pjly5fnhRdeqPXQAACmTdEB+Ld/+7f55Cc/mY9//ONZvHhxHnzwwVx++eX5p3/6p1oPDQBg\\\n",
       "2hQbgMeOHcuuXbuybNmy6mMzZ87MsmXLsnPnzgm/5+jRoxkeHh5zAwCoN8UG4G9+85ucOHEic+bM\\\n",
       "GfP4nDlz0t/fP+H3bNy4Ma2trdXb/PnzL8RQAQDOq2ID8JVYv359hoaGqreDBw/WekgAAOfskloP\\\n",
       "oFauvvrqvOpVr8rAwMCYxwcGBtLe3j7h9zQ3N6e5uflCDA8AYNoUOwPY1NSUpUuXZvv27dXHTp48\\\n",
       "me3bt6ejo6OGIwMAmF7FzgAmybp169LZ2Zm3vvWtuemmm/KVr3wlhw8fzsc//vFaDw0AYNoUHYAf\\\n",
       "+chHMjg4mHvvvTf9/f1585vfnO9+97unnRgCANBIZlQqlUqtB1GvhoeH09ramqGhobS0tNR6OADA\\\n",
       "WfD6XfAaQACAUglAAIDCCEAAgMIIQACAwghAAIDCCEAAgMIIQACAwghAAIDCCEAAgMIIQACAwghA\\\n",
       "AIDCCEAAgMIIQACAwghAAIDCCEAAgMIIQACAwghAAIDCCEAAgMIIQACAwghAAIDCCEAAgMIIQACA\\\n",
       "wghAAIDCCEAAgMIIQACAwghAAIDCCEAAgMIIQACAwghAAIDCCEAAgMIIQACAwghAAIDCCEAAgMII\\\n",
       "QACAwghAAIDCCEAAgMIIQACAwghAAIDCCEAAgMIIQACAwghAAIDCCEAAgMIIQACAwghAAIDCCEAA\\\n",
       "gMI0ZAB+8YtfzC233JLLL788V1111YT7HDhwILfffnsuv/zyXHPNNfnMZz6T3//+9xd2oAAANXBJ\\\n",
       "rQcwHY4dO5YPf/jD6ejoyD/+4z+etv3EiRO5/fbb097enh//+Mf59a9/nY997GO59NJL89d//dc1\\\n",
       "GDEAwIUzo1KpVGo9iOmyZcuW3HXXXXnxxRfHPP6d73wnf/qnf5pDhw5lzpw5SZIHH3wwf/VXf5XB\\\n",
       "wcE0NTWd1fMPDw+ntbU1Q0NDaWlpOd/DBwCmgdfvBn0L+OXs3Lkzb3zjG6vxlyTLly/P8PBwnnnm\\\n",
       "mUm/7+jRoxkeHh5zAwCoN0UGYH9//5j4S1K939/fP+n3bdy4Ma2trdXb/Pnzp3WcAADToW4C8J57\\\n",
       "7smMGTPOeNu/f/+0jmH9+vUZGhqq3g4ePDit/x4AwHSom5NA7r777qxateqM+1x77bVn9Vzt7e35\\\n",
       "6U9/OuaxgYGB6rbJNDc3p7m5+az+DQCAi1XdBGBbW1va2trOy3N1dHTki1/8Yl544YVcc801SZIn\\\n",
       "nngiLS0tWbx48Xn5NwAALlZ1E4Dn4sCBA/ntb3+bAwcO5MSJE9m9e3eS5LrrrssVV1yRW2+9NYsX\\\n",
       "L85HP/rR3H///env78/nPve5dHV1meEDABpeQ14GZtWqVXn44YdPe/zJJ5/Mu971riTJf/7nf+bO\\\n",
       "O+/MD3/4w7z61a9OZ2dn7rvvvlxyydk3sdPIAaD+eP1u0AC8UPwAAUD98fpdR2cBAwBwfghAAIDC\\\n",
       "CEAAgMIIQACAwghAAIDCCEAAgMIIQACAwghAAIDCCEAAgMIIQACAwghAAIDCCEAAgMIIQACAwghA\\\n",
       "AIDCCEAAgMIIQACAwghAAIDCCEAAgMIIQACAwghAAIDCCEAAgMIIQACAwghAAIDCCEAAgMIIQACA\\\n",
       "wghAAIDCCEAAgMIIQACAwghAAIDCCEAAgMIIQACAwghAAIDCCEAAgMIIQACAwghAAIDCCEAAgMII\\\n",
       "QACAwghAAIDCCEAAgMIIQACAwghAAIDCCEAAgMIIQACAwghAAIDCCEAAgMI0ZAD+8pe/zB133JGF\\\n",
       "Cxdm1qxZ+cM//MN0d3fn2LFjY/b793//9/zRH/1RLrvsssyfPz/3339/jUYMAHDhXFLrAUyH/fv3\\\n",
       "5+TJk9m8eXOuu+667NmzJ5/85Cdz+PDhfPnLX06SDA8P59Zbb82yZcvy4IMP5umnn84nPvGJXHXV\\\n",
       "VfnUpz5V4/8DAIDpM6NSqVRqPYgL4Utf+lIeeOCB/Md//EeS5IEHHshnP/vZ9Pf3p6mpKUlyzz33\\\n",
       "ZNu2bdm/f/9ZPefw8HBaW1szNDSUlpaWaRs7AHD+eP1u0LeAJzI0NJTZs2dX7+/cuTPvfOc7q/GX\\\n",
       "JMuXL8+zzz6b//qv/5rwOY4ePZrh4eExNwCAelNEAD733HPZtGlTVq9eXX2sv78/c+bMGbPfyP3+\\\n",
       "/v4Jn2fjxo1pbW2t3ubPnz99gwYAmCZ1FYD33HNPZsyYccbb+Ldvf/WrX+VP/uRP8uEPfzif/OQn\\\n",
       "p/Tvr1+/PkNDQ9XbwYMHp/R8AAC1UFcngdx9991ZtWrVGfe59tprq18fOnQo7373u3PLLbfk7//+\\\n",
       "78fs197enoGBgTGPjdxvb2+f8Lmbm5vT3Nz8CkYOAHDxqKsAbGtrS1tb21nt+6tf/Srvfve7s3Tp\\\n",
       "0jz00EOZOXPsZGdHR0c++9nP5vjx47n00kuTJE888USuv/76vOY1rznvYwcAuFjU1VvAZ+tXv/pV\\\n",
       "3vWud2XBggX58pe/nMHBwfT3949Z2/fnf/7naWpqyh133JFnnnkmjz76aL761a9m3bp1NRw5AMD0\\\n",
       "q6sZwLP1xBNP5Lnnnstzzz2XefPmjdk2ctWb1tbWfP/7309XV1eWLl2aq6++Ovfee69rAAIADa+Y\\\n",
       "6wBOB9cRAoD64/W7Qd8CBgBgcgIQAKAwAhAAoDACEACgMAIQAKAwAhAAqLmenp709fWdcZ++vr70\\\n",
       "9PRcmAE1uIa8DiAAUD96enqyYcOG6v2urq7T9unr68uaNWvGfA+vnBlAAKBmxsffmjVrTpsJHB9/\\\n",
       "GzZsEIBTJAABgJoYH38jRkfg+PgbIQKnxieBTIEriQPAKzNZ/I22aNGi7Nu374z7dHd3n3MIev02\\\n",
       "AwgA1EBbW9uk25ZkSZJU42/k/rk+D5MTgADABdfV1ZXe3t7THu9MZzZlU1ZmZZJkZVZmUzalM52n\\\n",
       "7dvb2zvhCSO8PG8BT4EpZACYmtFr/JZkSTZlU3XbUIbSmtbq/bVZmz3Zk2Rq8ef12wwgAFBDo2cC\\\n",
       "92RPNmdzddvo+Nuczecl/jjFDOAU+AsCAM6PxYsXV9f8bcu2MfE3lKGsyIokp04M2bt375T+La/f\\\n",
       "ZgABgBrr6+urxt/KrBwTf8mpmcCRNYH79u172U8M4eUJQACgZsavAVyd1dVtQxmqfr06q6tnA090\\\n",
       "sWjOjQAEAGpi/EWe92RPtmRLklNr/lZkRXVN4JZsqa4BTETgVFkDOAXWEADAKzPZJ3wkp2YCR8fe\\\n",
       "+PujvZITQrx+mwEEAGpgcHBw0m0jsbdo0aIx98/1eZicAAQALrienp50d3dPur23tzd79+6d8GLR\\\n",
       "I17Jx8BxigAEAGpisggc/bbuZJ8YIv6mRgACADUzPgInWtM3PgLF39RdUusBAABlG4m5tra2SU/o\\\n",
       "GHl8cHBQ/J0HzgKeAmcRAcBYff/nB9Wvux58Tw1HMjmv394CBgAojgAEACiMNYAAwHlzsb7ty1hm\\\n",
       "AAEACiMAAQAKIwABAAojAAEACiMAAQAKIwABAAojAAEACiMAAQAKIwABAAojAAEACiMAAQAKIwAB\\\n",
       "AAojAAEACnNJrQdQzyqVSpJkeHi4xiMBAM7WyOv2yOt4iQTgFLz00ktJkvnz59d4JADAuXrppZfS\\\n",
       "2tpa62HUxIxKyfk7RSdPnsyhQ4dy5ZVXZsaMGbUeTkMYHh7O/Pnzc/DgwbS0tNR6OA3Lcb5wHOsL\\\n",
       "x7G+cOr9WFcqlbz00kuZO3duZs4sczWcGcApmDlzZubNm1frYTSklpaWuvylUm8c5wvHsb5wHOsL\\\n",
       "p56PdakzfyPKzF4AgIIJQACAwghALirNzc3p7u5Oc3NzrYfS0BznC8exvnAc6wvHsa5/TgIBACiM\\\n",
       "GUAAgMIIQACAwghAAIDCCEAAgMIIQC4aX/ziF3PLLbfk8ssvz1VXXTXhPgcOHMjtt9+eyy+/PNdc\\\n",
       "c00+85nP5Pe///2FHWgD6Ovry+tf//pcdtllufnmm/PTn/601kOqez/60Y/yvve9L3Pnzs2MGTOy\\\n",
       "bdu2MdsrlUruvffevO51r8usWbOybNmy/OIXv6jNYOvYxo0b87a3vS1XXnllrrnmmqxYsSLPPvvs\\\n",
       "mH2OHDmSrq6uvPa1r80VV1yRD37wgxkYGKjRiOvXAw88kDe96U3Viz13dHTkO9/5TnW741zfBCAX\\\n",
       "jWPHjuXDH/5w7rzzzgm3nzhxIrfffnuOHTuWH//4x3n44YezZcuW3HvvvRd4pPXt0Ucfzbp169Ld\\\n",
       "3Z2f//znufHGG7N8+fK88MILtR5aXTt8+HBuvPHG9PX1Tbj9/vvvz9e+9rU8+OCDeeqpp/LqV786\\\n",
       "y5cvz5EjRy7wSOvbjh070tXVlZ/85Cd54okncvz48dx66605fPhwdZ9Pf/rT+da3vpXHHnssO3bs\\\n",
       "yKFDh/KBD3yghqOuT/Pmzct9992XXbt25Wc/+1ne85735P3vf3+eeeaZJI5z3avAReahhx6qtLa2\\\n",
       "nvb4v/7rv1ZmzpxZ6e/vrz72wAMPVFpaWipHjx69gCOsbzfddFOlq6urev/EiROVuXPnVjZu3FjD\\\n",
       "UTWWJJXHH3+8ev/kyZOV9vb2ype+9KXqYy+++GKlubm58o1vfKMGI2wcL7zwQiVJZceOHZVK5dRx\\\n",
       "vfTSSyuPPfZYdZ99+/ZVklR27txZq2E2jNe85jWVf/iHf3CcG4AZQOrGzp0788Y3vjFz5sypPrZ8\\\n",
       "+fIMDw9X/yLlzI4dO5Zdu3Zl2bJl1cdmzpyZZcuWZefOnTUcWWN7/vnn09/fP+a4t7a25uabb3bc\\\n",
       "p2hoaChJMnv27CTJrl27cvz48THH+oYbbsiCBQsc6yk4ceJEtm7dmsOHD6ejo8NxbgCX1HoAcLb6\\\n",
       "+/vHxF+S6v3+/v5aDKnu/OY3v8mJEycmPI779++v0aga38jP50TH3c/uK3fy5Mncddddecc73pEl\\\n",
       "S5YkOXWsm5qaTltH7Fi/Mk8//XQ6Ojpy5MiRXHHFFXn88cezePHi7N6923Guc2YAmVb33HNPZsyY\\\n",
       "ccab8ABeia6uruzZsydbt26t9VAa1vXXX5/du3fnqaeeyp133pnOzs7s3bu31sPiPDADyLS6++67\\\n",
       "s2rVqjPuc+21157Vc7W3t592turIGWft7e2vaHylufrqq/OqV73qtDP1BgYGHMNpNHJsBwYG8rrX\\\n",
       "va76+MDAQN785jfXaFT1bc2aNfn2t7+dH/3oR5k3b1718fb29hw7diwvvvjimNkpP+OvTFNTU667\\\n",
       "7rokydKlS/Nv//Zv+epXv5qPfOQjjnOdMwPItGpra8sNN9xwxltTU9NZPVdHR0eefvrpMWerPvHE\\\n",
       "E2lpacnixYun63+hoTQ1NWXp0qXZvn179bGTJ09m+/bt6ejoqOHIGtvChQvT3t4+5rgPDw/nqaee\\\n",
       "ctzPUaVSyZo1a/L444/nBz/4QRYuXDhm+9KlS3PppZeOOdbPPvtsDhw44FifBydPnszRo0cd5wZg\\\n",
       "BpCLxoEDB/Lb3/42Bw4cyIkTJ7J79+4kyXXXXZcrrrgit956axYvXpyPfvSjuf/++9Pf35/Pfe5z\\\n",
       "6erqSnNzc20HX0fWrVuXzs7OvPWtb81NN92Ur3zlKzl8+HA+/vGP13pode13v/tdnnvuuer9559/\\\n",
       "Prt3787s2bOzYMGC3HXXXfnCF76QN7zhDVm4cGE+//nPZ+7cuVmxYkXtBl2Hurq68sgjj+Sb3/xm\\\n",
       "rrzyyup6s9bW1syaNSutra254447sm7dusyePTstLS1Zu3ZtOjo68va3v73Go68v69evz2233ZYF\\\n",
       "CxbkpZdeyiOPPJIf/vCH+d73vuc4N4Jan4YMIzo7OytJTrs9+eST1X1++ctfVm677bbKrFmzKldf\\\n",
       "fXXl7rvvrhw/frx2g65TmzZtqixYsKDS1NRUuemmmyo/+clPaj2kuvfkk09O+PPb2dlZqVROXQrm\\\n",
       "85//fGXOnDmV5ubmynvf+97Ks88+W9tB16GJjnGSykMPPVTd57//+78rf/EXf1F5zWteU7n88ssr\\\n",
       "f/Znf1b59a9/XbtB16lPfOITlT/4gz+oNDU1Vdra2irvfe97K9///ver2x3n+jajUqlULnx2AgBQ\\\n",
       "K9YAAgAURgACABRGAAIAFEYAAgAURgACABRGAAIAFEYAAgAURgACABRGAAIAFEYAAgAURgACABRG\\\n",
       "AAIAFEYAAgAURgACABRGAAIAFEYAAgAURgACABRGAAIAFEYAAgAURgACABRGAAIAFEYAAgAURgAC\\\n",
       "ABRGAAIAFEYAAgAURgACABRGAAIAFEYAAgAURgACABRGAAIAFEYAAgAU5v8Dq9/81WWD2pwAAAAA\\\n",
       "SUVORK5CYII=\\\n",
       "\"\n",
       "  frames[4] = \"data:image/png;base64,iVBORw0KGgoAAAANSUhEUgAAAoAAAAHgCAYAAAA10dzkAAAAOXRFWHRTb2Z0d2FyZQBNYXRwbG90\\\n",
       "bGliIHZlcnNpb24zLjguMiwgaHR0cHM6Ly9tYXRwbG90bGliLm9yZy8g+/7EAAAACXBIWXMAAA9h\\\n",
       "AAAPYQGoP6dpAAAmpUlEQVR4nO3dfWydZ2H38V9CazeltUuoGxMlGemK2kSBggItLhriJWtWdYiM\\\n",
       "FxFNAgcqyNM5kUoqtkZA7UiwdIVnA2LTZtrWdH+UVJXWIHjGSxVK+INQRlC0pkkqqpUlItg1YrVL\\\n",
       "tLyQnOePzGe2Y6dJHefknOvzqY7kc+7bJ1dvWT5fX+e67zOjUqlUAgBAMWbWegAAAFxYAhAAoDAC\\\n",
       "EACgMAIQAKAwAhAAoDACEACgMAIQAKAwAhAAoDACEACgMAIQAKAwAhAAoDACEACgMAIQAKAwAhAA\\\n",
       "oDACEACgMAIQAKAwAhAAoDACEACgMAIQAKAwAhAAoDACEACgMAIQAKAwAhAAoDACEACgMAIQAKAw\\\n",
       "AhAAoDACEACgMAIQAKAwAhAAoDACEACgMAIQAKAwAhAAoDACEACgMAIQAKAwAhAAoDACEACgMAIQ\\\n",
       "AKAwAhAAoDACEACgMAIQAKAwAhAAoDACEACgMAIQAKAwAhAAoDACEACgMAIQAKAwAhAAoDACEACg\\\n",
       "MAIQAKAwAhAAoDACEACgMAIQAKAwAhAAoDACEACgMAIQAKAwAhAAoDCX1HoA9ezkyZM5dOhQrrzy\\\n",
       "ysyYMaPWwwEAzkKlUslLL72UuXPnZubMMufCBOAUHDp0KPPnz6/1MACAV+DgwYOZN29erYdREwJw\\\n",
       "Cq688sokp36AWlpaajwaAOBsDA8PZ/78+dXX8RIJwCkYedu3paVFAAJAnSl5+VaZb3wDABRMAAIA\\\n",
       "FEYAAgAURgACABRGAEKSnp6e9PX1nXGfvr6+9PT0XJgBAcA0chYwxevp6cmGDRuq97u6uk7bp6+v\\\n",
       "L2vWrBnzPQBQr8wAUrTx8bdmzZrTZgLHx9+GDRsEIAB1TQBSrPHxN2J0BI6PvxEiEIB6NqNSqVRq\\\n",
       "PYh6NTw8nNbW1gwNDbkQdJ2ZLP5GW7RoUfbt23fGfbq7u4UgQJ3x+m0GkEK1tbVNum1JliRJNf5G\\\n",
       "7p/r8wDAxUoAUqSurq709vae9nhnOrMpm7IyK5MkK7Mym7Ipnek8bd/e3t4JTxgBgIudt4CnwBRy\\\n",
       "/Ru9xm9JlmRTNlW3DWUorWmt3l+btdmTPUnEH0A98/ptBpDCjZ4J3JM92ZzN1W2j429zNos/ABqG\\\n",
       "GcAp8BdE41i8eHF1zd+2bBsTf0MZyoqsSHLqxJC9e/fWYogAnCdev80AQvr6+qrxtzIrx8Rfcmom\\\n",
       "cGRN4L59+172E0MA4GInACna+DWAq7O6um0oQ9WvV2d19WzgiS4WDQD1RABSrPEXed6TPdmSLUlO\\\n",
       "rflbkRXVNYFbsqW6BjARgQDUN2sAp8Aagvo12Sd8JKdmAkfH3vj7ozkhBKD+eP02A0ihBgcHJ902\\\n",
       "EnuLFi0ac/9cnwcALlYCkCL19PSku7t70u29vb3Zu3fvhBeLHuFj4ACoVwKQYk0WgaPf1p3sE0PE\\\n",
       "HwD1TABStPERONGavvERKP4AqHeX1HoAUGsjMdfW1jbpCR0jjw8ODoo/oO719PSc8XdecupkOb/z\\\n",
       "GpcAhOSsfsE52xdoBD09PdmwYUP1/kS/28ZfKUEENh5vAQNAIcbH30TXNB0ffxs2bBCADcgMII2n\\\n",
       "Z9RHufUMTb4fQEHGx9+Ikdjr6uqa9BqpI98nBBuHAASABjdZ/I0YmQkc+Vz0iYjAxuItYABocG1t\\\n",
       "bZNuG/mc85H4G7l/rs9DfRGANJ6eof+9ATDpNU0705lN2ZSVWZkkWZmV2ZRN6Uznafv66MvG4rOA\\\n",
       "p8BnCQJQT0av8VuSJdmUTdVtQxlKa/53DfXarK1+FGajxZ/XbzOAAFCM0TOBe7Inm7O5um10/G3O\\\n",
       "5oaNP04xAzgF/oIAoB4tXry4uuZvW7aNib+hDGVFViRJFi1alL1799ZiiNPK63cDzwA+8MADedOb\\\n",
       "3pSWlpa0tLSko6Mj3/nOd6rbjxw5kq6urrz2ta/NFVdckQ9+8IMZGBio4YgBYPqNPtt3ZVaOib/k\\\n",
       "1EzgyJrAffv2nXadQBpDwwbgvHnzct9992XXrl352c9+lve85z15//vfn2eeeSZJ8ulPfzrf+ta3\\\n",
       "8thjj2XHjh05dOhQPvCBD9R41AAwfcavAVyd1dVtQ/nfE+dWZ3X1bOCJLhZN/SvqLeDZs2fnS1/6\\\n",
       "Uj70oQ+lra0tjzzySD70oQ8lSfbv359FixZl586defvb335Wz2cKGYB6MdFFnjvTmVVZlc3ZnK3Z\\\n",
       "mpVZmdVZnS3Zkofz8Jh9G2ktoNfvQi4EfeLEiTz22GM5fPhwOjo6smvXrhw/fjzLli2r7nPDDTdk\\\n",
       "wYIF5xSAAFAPJvuEj4fzcHZlV/WEj63Zmj3/8994oz8xhPrX0AH49NNPp6OjI0eOHMkVV1yRxx9/\\\n",
       "PIsXL87u3bvT1NSUq666asz+c+bMSX9//6TPd/To0Rw9erR6f3h4eLqGDgDnzeDg4KTbRmJv0aJF\\\n",
       "2bdv34TxdzbPQ31p2DWASXL99ddn9+7deeqpp3LnnXems7NzSmczbdy4Ma2trdXb/Pnzz+NoAWB6\\\n",
       "9PT0pLu7e9Ltvb292bt374QXix7R3d3tY+AaSEMHYFNTU6677rosXbo0GzduzI033pivfvWraW9v\\\n",
       "z7Fjx/Liiy+O2X9gYCDt7e2TPt/69eszNDRUvR08eHCa/w8A4PyYLAJHr+2b7BNDxF/jaegAHO/k\\\n",
       "yZM5evRoli5dmksvvTTbt2+vbnv22Wdz4MCBdHR0TPr9zc3N1cvKjNwAoF6Mj8CJTuwYH4HirzE1\\\n",
       "7BrA9evX57bbbsuCBQvy0ksv5ZFHHskPf/jDfO9730tra2vuuOOOrFu3LrNnz05LS0vWrl2bjo4O\\\n",
       "J4AA0NBGYq6trW3SEzpGHh8cHBR/DaphA/CFF17Ixz72sfz6179Oa2tr3vSmN+V73/te/viP/zhJ\\\n",
       "8nd/93eZOXNmPvjBD+bo0aNZvnx5vv71r9d41ADwyrz+nv9X/fqX991+xn3PJuqc7dvYiroO4Pnm\\\n",
       "OkIAXCzOJQBL5/W7sDWAAAA08FvAAFASs36cCzOAAACFEYAAAIURgAAAhRGAAACFEYAAAIURgAAA\\\n",
       "hRGAAACFEYAAAIURgAAAhRGAAACFEYAAAIURgAAAhRGAAACFEYAAAIURgAAAhRGAAACFEYAAAIUR\\\n",
       "gAAAhRGAAACFEYAAAIURgAAAhRGAAACFEYAAAIURgAAAhRGADaKnpyd9fX1n3Kevry89PT0XZkAA\\\n",
       "wEXrkloPgKnr6enJhg0bqve7urpO26evry9r1qwZ8z0AQJnMANa58fG3Zs2a02YCx8ffhg0bBCAA\\\n",
       "FEwA1rHx8TdidASOj78RIhAAyjWjUqlUaj2IejU8PJzW1tYMDQ2lpaXlgv7bk8XfaIsWLcq+ffvO\\\n",
       "uE93d7cQBKAotXz9vliYAaxTbW1tk25bkiVJUo2/kfvn+jwAQGMSgHWqq6srvb29pz3emc5syqas\\\n",
       "zMokycqszKZsSmc6T9u3t7d3whNGAIDG5i3gKbgYppBHr/FbkiXZlE3VbUMZSmtaq/fXZm32ZE8S\\\n",
       "8QdAuS6G1+9aMwNY50bPBO7JnmzO5uq20fG3OZvFHwCQxAzglFxMf0EsXry4uuZvW7aNib+hDGVF\\\n",
       "ViQ5dWLI3r17azFEALgoXEyv37ViBrAB9PX1VeNvZVaOib/k1EzgyJrAffv2vewnhgAAjU0A1rnx\\\n",
       "awBXZ3V121CGql+vzurq2cATXSwaACiHAKxj4y/yvCd7siVbkpxa87ciK6prArdkS3UNYCICAaBk\\\n",
       "1gBOQS3XEEz2CR/JqZnA0bE3/v5oTggBoDTWAJoBrFuDg4OTbhuJvUWLFo25f67PAwA0JgFYp3p6\\\n",
       "etLd3T3p9t7e3uzdu3fCi0WP8DFwAFAmAVjHJovA0W/rTvaJIeIPAMolAOvc+AicaE3f+AgUfwBQ\\\n",
       "tktqPQCmbiTm2traJj2hY+TxwcFB8QcAhWvYs4A3btyYf/mXf8n+/fsza9as3HLLLfmbv/mbXH/9\\\n",
       "9dV9jhw5krvvvjtbt27N0aNHs3z58nz961/PnDlzzurfmM6ziPbdsKj69aL9+87rcwNAyZwF3MBv\\\n",
       "Ae/YsSNdXV35yU9+kieeeCLHjx/PrbfemsOHD1f3+fSnP51vfetbeeyxx7Jjx44cOnQoH/jAB2o4\\\n",
       "agCA6dewM4DjDQ4O5pprrsmOHTvyzne+M0NDQ2lra8sjjzySD33oQ0mS/fv3Z9GiRdm5c2fe/va3\\\n",
       "v+xzmgEEgPpjBrCgNYBDQ6c+Fm327NlJkl27duX48eNZtmxZdZ8bbrghCxYsOOsAnE6iDwCYLkUE\\\n",
       "4MmTJ3PXXXflHe94R5YsOfV5uP39/WlqaspVV101Zt85c+akv79/wuc5evRojh49Wr0/PDw8bWMG\\\n",
       "AJguDbsGcLSurq7s2bMnW7dundLzbNy4Ma2trdXb/Pnzz9MIAQAunIYPwDVr1uTb3/52nnzyycyb\\\n",
       "N6/6eHt7e44dO5YXX3xxzP4DAwNpb2+f8LnWr1+foaGh6u3gwYPTOXQAgGnRsAFYqVSyZs2aPP74\\\n",
       "4/nBD36QhQsXjtm+dOnSXHrppdm+fXv1sWeffTYHDhxIR0fHhM/Z3NyclpaWMTcAgHrTsGsAu7q6\\\n",
       "8sgjj+Sb3/xmrrzyyuq6vtbW1syaNSutra254447sm7dusyePTstLS1Zu3ZtOjo6an4CCADAdGrY\\\n",
       "y8DMmDFjwscfeuihrFq1Ksn/Xgj6G9/4xpgLQU/2FvB4TiMHgPrj9buBA/BC8AMEAPXH63cDrwEE\\\n",
       "AGBiAhAAoDACEACgMAIQAKAwAhAAoDACEACgMAIQAKAwAhAAoDACEACgMAIQAKAwAhAAoDACEACg\\\n",
       "MAIQAKAwAhAAoDACEACgMAIQAKAwAhAAoDACEACgMAIQAKAwAhAAoDACEACgMAIQAKAwAhAAoDAC\\\n",
       "EACgMAIQAKAwAhAAoDACEACgMAIQAKAwAhAAoDACEACgMAIQAKAwAhAAoDACEACgMAIQAKAwAhAA\\\n",
       "oDACEACgMAIQAKAwAhAAoDACEACgMAIQAKAwAhAAoDACEACgMAIQAKAwAhAAoDACEACgMA0bgD/6\\\n",
       "0Y/yvve9L3Pnzs2MGTOybdu2MdsrlUruvffevO51r8usWbOybNmy/OIXv6jNYAEALqCGDcDDhw/n\\\n",
       "xhtvTF9f34Tb77///nzta1/Lgw8+mKeeeiqvfvWrs3z58hw5cuQCj5SLVU9Pz6Q/PyP6+vrS09Nz\\\n",
       "YQYEAOfJJbUewHS57bbbctttt024rVKp5Ctf+Uo+97nP5f3vf3+S5J//+Z8zZ86cbNu2LStXrryQ\\\n",
       "Q+Ui1NPTkw0bNlTvd3V1nbZPX19f1qxZM+Z7AKAeNOwM4Jk8//zz6e/vz7Jly6qPtba25uabb87O\\\n",
       "nTtrODIuBuPjb82aNafNBI6Pvw0bNghAAOpGkQHY39+fJJkzZ86Yx+fMmVPdNpGjR49meHh4zI3G\\\n",
       "Mj7+RoyOwPHxN0IEApwbS21qp2HfAp4OGzdunDAOaAyTxd+IkQjct2/fpPuMfL9fVgBnZqlNbRU5\\\n",
       "A9je3p4kGRgYGPP4wMBAddtE1q9fn6Ghoert4MGD0zpOLqy2trZJty3JkiSpxt/I/XN9HgAstbkY\\\n",
       "FBmACxcuTHt7e7Zv3159bHh4OE899VQ6Ojom/b7m5ua0tLSMudE4urq60tvbe9rjnenMpmzKypw6\\\n",
       "OWhlVmZTNqUznaft29vbO+FfsQCcYqnNxaFh3wL+3e9+l+eee656//nnn8/u3bsze/bsLFiwIHfd\\\n",
       "dVe+8IUv5A1veEMWLlyYz3/+85k7d25WrFhRu0FTcyPxNvKLZ0mWZFVWJUlWZ3VWZmVa05okWZVV\\\n",
       "2ZVd2ZM9ScQfwMux1Obi0bAzgD/72c/ylre8JW95y1uSJOvWrctb3vKW3HvvvUmSv/zLv8zatWvz\\\n",
       "qU99Km9729vyu9/9Lt/97ndz2WWX1XLYXARGzwTuyZ5szubqtpH4S5LN2Sz+AM6BpTYXjxmVSqVS\\\n",
       "60HUq+Hh4bS2tmZoaMjbwQ1o8eLF1V9E27JtTPwNZSgrsiJJsmjRouzdu7cWQwSoOxO9vduZzqzK\\\n",
       "qmzO5mzN1qzMyqzO6mzJljych8fsez7+4Pb63cAzgDAVo9+CGP2274jWtFbXBO7bt+9lL2MAwCnj\\\n",
       "11uPX2qzLduyOquTnFpqM3om0Lst548AhHFG/3W6JEuqv4iSUzN/I1ZndfUX00RnsAEwMUttak8A\\\n",
       "wijj35rYkz3Zki1JTv0iWpEV1V9UW7Kl+ospEYEA56KrqyuLFi1KkmzN1jF/YCen/uDemq1JTi21\\\n",
       "EX/nlwCE/zHZZQcezsNZm7XVX0RbszVrs/a0dSmJCAQ4W5ba1JYAhP8xODg46baRmb6Rv1ZHz/yd\\\n",
       "y/MAYKnNxUAAwv/o6elJd3f3pNt7e3uzd+/eCS8WPaK7u9u1qQDOwFKbi4PLwEyB08gb00QXKh2/\\\n",
       "+Hiit4vFH8CZTbbUJjk1Ezg69sbfH22qJ4R4/TYDCKcZPxM40S+a8ZcxEH8AL89Sm4tHw34UHEzF\\\n",
       "SMy1tbVN+lfmyOODg4PiD+AsjPyunOzj4Eb+4D7TTKE/uM8PbwFPgSlkADh3tV5q4/XbDCAN7I0P\\\n",
       "v7H69dOdT9dwJACMNn4mcLKlNkmqEWjm7/wSgADABWepTW0JQADgFfm/H/nT6td3P/rtc/7+s4k6\\\n",
       "nwAyPQQgDcvbvgAwMZeBAQAojBlAAOAVeSVv+3JxMAMIAFAYAQgAUBgBCABQGAEIAFAYAQgAUBgB\\\n",
       "CABQGAEIAFAYAQgAUBgBCABQGAEIAFAYAQgAUBgBCABQGAEIAFAYAQgAUBgBCABQGAEIAFAYAQgA\\\n",
       "UBgBCABQGAEIAFAYAQgAUBgBCABQGAEIAFAYAQgAUBgBCABQGAEIAFAYAQgAUBgBCABQGAEIAFAY\\\n",
       "AQgAUBgBCABQmOIDsK+vL69//etz2WWX5eabb85Pf/rTWg8JAGBaFR2Ajz76aNatW5fu7u78/Oc/\\\n",
       "z4033pjly5fnhRdeqPXQAACmTdEB+Ld/+7f55Cc/mY9//ONZvHhxHnzwwVx++eX5p3/6p1oPDQBg\\\n",
       "2hQbgMeOHcuuXbuybNmy6mMzZ87MsmXLsnPnzgm/5+jRoxkeHh5zAwCoN8UG4G9+85ucOHEic+bM\\\n",
       "GfP4nDlz0t/fP+H3bNy4Ma2trdXb/PnzL8RQAQDOq2ID8JVYv359hoaGqreDBw/WekgAAOfskloP\\\n",
       "oFauvvrqvOpVr8rAwMCYxwcGBtLe3j7h9zQ3N6e5uflCDA8AYNoUOwPY1NSUpUuXZvv27dXHTp48\\\n",
       "me3bt6ejo6OGIwMAmF7FzgAmybp169LZ2Zm3vvWtuemmm/KVr3wlhw8fzsc//vFaDw0AYNoUHYAf\\\n",
       "+chHMjg4mHvvvTf9/f1585vfnO9+97unnRgCANBIZlQqlUqtB1GvhoeH09ramqGhobS0tNR6OADA\\\n",
       "WfD6XfAaQACAUglAAIDCCEAAgMIIQACAwghAAIDCCEAAgMIIQACAwghAAIDCCEAAgMIIQACAwghA\\\n",
       "AIDCCEAAgMIIQACAwghAAIDCCEAAgMIIQACAwghAAIDCCEAAgMIIQACAwghAAIDCCEAAgMIIQACA\\\n",
       "wghAAIDCCEAAgMIIQACAwghAAIDCCEAAgMIIQACAwghAAIDCCEAAgMIIQACAwghAAIDCCEAAgMII\\\n",
       "QACAwghAAIDCCEAAgMIIQACAwghAAIDCCEAAgMIIQACAwghAAIDCCEAAgMIIQACAwghAAIDCCEAA\\\n",
       "gMI0ZAB+8YtfzC233JLLL788V1111YT7HDhwILfffnsuv/zyXHPNNfnMZz6T3//+9xd2oAAANXBJ\\\n",
       "rQcwHY4dO5YPf/jD6ejoyD/+4z+etv3EiRO5/fbb097enh//+Mf59a9/nY997GO59NJL89d//dc1\\\n",
       "GDEAwIUzo1KpVGo9iOmyZcuW3HXXXXnxxRfHPP6d73wnf/qnf5pDhw5lzpw5SZIHH3wwf/VXf5XB\\\n",
       "wcE0NTWd1fMPDw+ntbU1Q0NDaWlpOd/DBwCmgdfvBn0L+OXs3Lkzb3zjG6vxlyTLly/P8PBwnnnm\\\n",
       "mUm/7+jRoxkeHh5zAwCoN0UGYH9//5j4S1K939/fP+n3bdy4Ma2trdXb/Pnzp3WcAADToW4C8J57\\\n",
       "7smMGTPOeNu/f/+0jmH9+vUZGhqq3g4ePDit/x4AwHSom5NA7r777qxateqM+1x77bVn9Vzt7e35\\\n",
       "6U9/OuaxgYGB6rbJNDc3p7m5+az+DQCAi1XdBGBbW1va2trOy3N1dHTki1/8Yl544YVcc801SZIn\\\n",
       "nngiLS0tWbx48Xn5NwAALlZ1E4Dn4sCBA/ntb3+bAwcO5MSJE9m9e3eS5LrrrssVV1yRW2+9NYsX\\\n",
       "L85HP/rR3H///env78/nPve5dHV1meEDABpeQ14GZtWqVXn44YdPe/zJJ5/Mu971riTJf/7nf+bO\\\n",
       "O+/MD3/4w7z61a9OZ2dn7rvvvlxyydk3sdPIAaD+eP1u0AC8UPwAAUD98fpdR2cBAwBwfghAAIDC\\\n",
       "CEAAgMIIQACAwghAAIDCCEAAgMIIQACAwghAAIDCCEAAgMIIQACAwghAAIDCCEAAgMIIQACAwghA\\\n",
       "AIDCCEAAgMIIQACAwghAAIDCCEAAgMIIQACAwghAAIDCCEAAgMIIQACAwghAAIDCCEAAgMIIQACA\\\n",
       "wghAAIDCCEAAgMIIQACAwghAAIDCCEAAgMIIQACAwghAAIDCCEAAgMIIQACAwghAAIDCCEAAgMII\\\n",
       "QACAwghAAIDCCEAAgMIIQACAwghAAIDCCEAAgMIIQACAwghAAIDCCEAAgMI0ZAD+8pe/zB133JGF\\\n",
       "Cxdm1qxZ+cM//MN0d3fn2LFjY/b793//9/zRH/1RLrvsssyfPz/3339/jUYMAHDhXFLrAUyH/fv3\\\n",
       "5+TJk9m8eXOuu+667NmzJ5/85Cdz+PDhfPnLX06SDA8P59Zbb82yZcvy4IMP5umnn84nPvGJXHXV\\\n",
       "VfnUpz5V4/8DAIDpM6NSqVRqPYgL4Utf+lIeeOCB/Md//EeS5IEHHshnP/vZ9Pf3p6mpKUlyzz33\\\n",
       "ZNu2bdm/f/9ZPefw8HBaW1szNDSUlpaWaRs7AHD+eP1u0LeAJzI0NJTZs2dX7+/cuTPvfOc7q/GX\\\n",
       "JMuXL8+zzz6b//qv/5rwOY4ePZrh4eExNwCAelNEAD733HPZtGlTVq9eXX2sv78/c+bMGbPfyP3+\\\n",
       "/v4Jn2fjxo1pbW2t3ubPnz99gwYAmCZ1FYD33HNPZsyYccbb+Ldvf/WrX+VP/uRP8uEPfzif/OQn\\\n",
       "p/Tvr1+/PkNDQ9XbwYMHp/R8AAC1UFcngdx9991ZtWrVGfe59tprq18fOnQo7373u3PLLbfk7//+\\\n",
       "78fs197enoGBgTGPjdxvb2+f8Lmbm5vT3Nz8CkYOAHDxqKsAbGtrS1tb21nt+6tf/Srvfve7s3Tp\\\n",
       "0jz00EOZOXPsZGdHR0c++9nP5vjx47n00kuTJE888USuv/76vOY1rznvYwcAuFjU1VvAZ+tXv/pV\\\n",
       "3vWud2XBggX58pe/nMHBwfT3949Z2/fnf/7naWpqyh133JFnnnkmjz76aL761a9m3bp1NRw5AMD0\\\n",
       "q6sZwLP1xBNP5Lnnnstzzz2XefPmjdk2ctWb1tbWfP/7309XV1eWLl2aq6++Ovfee69rAAIADa+Y\\\n",
       "6wBOB9cRAoD64/W7Qd8CBgBgcgIQAKAwAhAAoDACEACgMAIQAKAwAhAAqLmenp709fWdcZ++vr70\\\n",
       "9PRcmAE1uIa8DiAAUD96enqyYcOG6v2urq7T9unr68uaNWvGfA+vnBlAAKBmxsffmjVrTpsJHB9/\\\n",
       "GzZsEIBTJAABgJoYH38jRkfg+PgbIQKnxieBTIEriQPAKzNZ/I22aNGi7Nu374z7dHd3n3MIev02\\\n",
       "AwgA1EBbW9uk25ZkSZJU42/k/rk+D5MTgADABdfV1ZXe3t7THu9MZzZlU1ZmZZJkZVZmUzalM52n\\\n",
       "7dvb2zvhCSO8PG8BT4EpZACYmtFr/JZkSTZlU3XbUIbSmtbq/bVZmz3Zk2Rq8ef12wwgAFBDo2cC\\\n",
       "92RPNmdzddvo+Nuczecl/jjFDOAU+AsCAM6PxYsXV9f8bcu2MfE3lKGsyIokp04M2bt375T+La/f\\\n",
       "ZgABgBrr6+urxt/KrBwTf8mpmcCRNYH79u172U8M4eUJQACgZsavAVyd1dVtQxmqfr06q6tnA090\\\n",
       "sWjOjQAEAGpi/EWe92RPtmRLklNr/lZkRXVN4JZsqa4BTETgVFkDOAXWEADAKzPZJ3wkp2YCR8fe\\\n",
       "+PujvZITQrx+mwEEAGpgcHBw0m0jsbdo0aIx98/1eZicAAQALrienp50d3dPur23tzd79+6d8GLR\\\n",
       "I17Jx8BxigAEAGpisggc/bbuZJ8YIv6mRgACADUzPgInWtM3PgLF39RdUusBAABlG4m5tra2SU/o\\\n",
       "GHl8cHBQ/J0HzgKeAmcRAcBYff/nB9Wvux58Tw1HMjmv394CBgAojgAEACiMNYAAwHlzsb7ty1hm\\\n",
       "AAEACiMAAQAKIwABAAojAAEACiMAAQAKIwABAAojAAEACiMAAQAKIwABAAojAAEACiMAAQAKIwAB\\\n",
       "AAojAAEACnNJrQdQzyqVSpJkeHi4xiMBAM7WyOv2yOt4iQTgFLz00ktJkvnz59d4JADAuXrppZfS\\\n",
       "2tpa62HUxIxKyfk7RSdPnsyhQ4dy5ZVXZsaMGbUeTkMYHh7O/Pnzc/DgwbS0tNR6OA3Lcb5wHOsL\\\n",
       "x7G+cOr9WFcqlbz00kuZO3duZs4sczWcGcApmDlzZubNm1frYTSklpaWuvylUm8c5wvHsb5wHOsL\\\n",
       "p56PdakzfyPKzF4AgIIJQACAwghALirNzc3p7u5Oc3NzrYfS0BznC8exvnAc6wvHsa5/TgIBACiM\\\n",
       "GUAAgMIIQACAwghAAIDCCEAAgMIIQC4aX/ziF3PLLbfk8ssvz1VXXTXhPgcOHMjtt9+eyy+/PNdc\\\n",
       "c00+85nP5Pe///2FHWgD6Ovry+tf//pcdtllufnmm/PTn/601kOqez/60Y/yvve9L3Pnzs2MGTOy\\\n",
       "bdu2MdsrlUruvffevO51r8usWbOybNmy/OIXv6jNYOvYxo0b87a3vS1XXnllrrnmmqxYsSLPPvvs\\\n",
       "mH2OHDmSrq6uvPa1r80VV1yRD37wgxkYGKjRiOvXAw88kDe96U3Viz13dHTkO9/5TnW741zfBCAX\\\n",
       "jWPHjuXDH/5w7rzzzgm3nzhxIrfffnuOHTuWH//4x3n44YezZcuW3HvvvRd4pPXt0Ucfzbp169Ld\\\n",
       "3Z2f//znufHGG7N8+fK88MILtR5aXTt8+HBuvPHG9PX1Tbj9/vvvz9e+9rU8+OCDeeqpp/LqV786\\\n",
       "y5cvz5EjRy7wSOvbjh070tXVlZ/85Cd54okncvz48dx66605fPhwdZ9Pf/rT+da3vpXHHnssO3bs\\\n",
       "yKFDh/KBD3yghqOuT/Pmzct9992XXbt25Wc/+1ne85735P3vf3+eeeaZJI5z3avAReahhx6qtLa2\\\n",
       "nvb4v/7rv1ZmzpxZ6e/vrz72wAMPVFpaWipHjx69gCOsbzfddFOlq6urev/EiROVuXPnVjZu3FjD\\\n",
       "UTWWJJXHH3+8ev/kyZOV9vb2ype+9KXqYy+++GKlubm58o1vfKMGI2wcL7zwQiVJZceOHZVK5dRx\\\n",
       "vfTSSyuPPfZYdZ99+/ZVklR27txZq2E2jNe85jWVf/iHf3CcG4AZQOrGzp0788Y3vjFz5sypPrZ8\\\n",
       "+fIMDw9X/yLlzI4dO5Zdu3Zl2bJl1cdmzpyZZcuWZefOnTUcWWN7/vnn09/fP+a4t7a25uabb3bc\\\n",
       "p2hoaChJMnv27CTJrl27cvz48THH+oYbbsiCBQsc6yk4ceJEtm7dmsOHD6ejo8NxbgCX1HoAcLb6\\\n",
       "+/vHxF+S6v3+/v5aDKnu/OY3v8mJEycmPI779++v0aga38jP50TH3c/uK3fy5Mncddddecc73pEl\\\n",
       "S5YkOXWsm5qaTltH7Fi/Mk8//XQ6Ojpy5MiRXHHFFXn88cezePHi7N6923Guc2YAmVb33HNPZsyY\\\n",
       "ccab8ABeia6uruzZsydbt26t9VAa1vXXX5/du3fnqaeeyp133pnOzs7s3bu31sPiPDADyLS6++67\\\n",
       "s2rVqjPuc+21157Vc7W3t592turIGWft7e2vaHylufrqq/OqV73qtDP1BgYGHMNpNHJsBwYG8rrX\\\n",
       "va76+MDAQN785jfXaFT1bc2aNfn2t7+dH/3oR5k3b1718fb29hw7diwvvvjimNkpP+OvTFNTU667\\\n",
       "7rokydKlS/Nv//Zv+epXv5qPfOQjjnOdMwPItGpra8sNN9xwxltTU9NZPVdHR0eefvrpMWerPvHE\\\n",
       "E2lpacnixYun63+hoTQ1NWXp0qXZvn179bGTJ09m+/bt6ejoqOHIGtvChQvT3t4+5rgPDw/nqaee\\\n",
       "ctzPUaVSyZo1a/L444/nBz/4QRYuXDhm+9KlS3PppZeOOdbPPvtsDhw44FifBydPnszRo0cd5wZg\\\n",
       "BpCLxoEDB/Lb3/42Bw4cyIkTJ7J79+4kyXXXXZcrrrgit956axYvXpyPfvSjuf/++9Pf35/Pfe5z\\\n",
       "6erqSnNzc20HX0fWrVuXzs7OvPWtb81NN92Ur3zlKzl8+HA+/vGP13pode13v/tdnnvuuer9559/\\\n",
       "Prt3787s2bOzYMGC3HXXXfnCF76QN7zhDVm4cGE+//nPZ+7cuVmxYkXtBl2Hurq68sgjj+Sb3/xm\\\n",
       "rrzyyup6s9bW1syaNSutra254447sm7dusyePTstLS1Zu3ZtOjo68va3v73Go68v69evz2233ZYF\\\n",
       "CxbkpZdeyiOPPJIf/vCH+d73vuc4N4Jan4YMIzo7OytJTrs9+eST1X1++ctfVm677bbKrFmzKldf\\\n",
       "fXXl7rvvrhw/frx2g65TmzZtqixYsKDS1NRUuemmmyo/+clPaj2kuvfkk09O+PPb2dlZqVROXQrm\\\n",
       "85//fGXOnDmV5ubmynvf+97Ks88+W9tB16GJjnGSykMPPVTd57//+78rf/EXf1F5zWteU7n88ssr\\\n",
       "f/Znf1b59a9/XbtB16lPfOITlT/4gz+oNDU1Vdra2irvfe97K9///ver2x3n+jajUqlULnx2AgBQ\\\n",
       "K9YAAgAURgACABRGAAIAFEYAAgAURgACABRGAAIAFEYAAgAURgACABRGAAIAFEYAAgAURgACABRG\\\n",
       "AAIAFEYAAgAURgACABRGAAIAFEYAAgAURgACABRGAAIAFEYAAgAURgACABRGAAIAFEYAAgAURgAC\\\n",
       "ABRGAAIAFEYAAgAURgACABRGAAIAFEYAAgAURgACABRGAAIAFEYAAgAU5v8Dq9/81WWD2pwAAAAA\\\n",
       "SUVORK5CYII=\\\n",
       "\"\n",
       "\n",
       "\n",
       "    /* set a timeout to make sure all the above elements are created before\n",
       "       the object is initialized. */\n",
       "    setTimeout(function() {\n",
       "        animb2109b6c88144f46a52c526498577c05 = new Animation(frames, img_id, slider_id, 500.0,\n",
       "                                 loop_select_id);\n",
       "    }, 0);\n",
       "  })()\n",
       "</script>\n"
      ],
      "text/plain": [
       "<IPython.core.display.HTML object>"
      ]
     },
     "execution_count": 43,
     "metadata": {},
     "output_type": "execute_result"
    }
   ],
   "source": [
    "# create your own animation\n",
    "X = data.clone()\n",
    "fig,ax = plt.subplots()\n",
    "ani = FuncAnimation(fig, do_one, frames=5, interval=500, repeat=False)\n",
    "plt.close()\n",
    "HTML(ani.to_jshtml())"
   ]
  },
  {
   "cell_type": "markdown",
   "metadata": {},
   "source": [
    "## GPU batched algorithm"
   ]
  },
  {
   "cell_type": "markdown",
   "metadata": {},
   "source": [
    "To truly accelerate the algorithm, we need to be performing updates on a batch of points per iteration, instead of just one as we were doing."
   ]
  },
  {
   "cell_type": "code",
   "execution_count": 66,
   "metadata": {},
   "outputs": [
    {
     "data": {
      "text/plain": [
       "(torch.Size([5, 2]), torch.Size([1500, 2]))"
      ]
     },
     "execution_count": 66,
     "metadata": {},
     "output_type": "execute_result"
    }
   ],
   "source": [
    "bs=5\n",
    "X = data.clone()\n",
    "x = X[:bs]\n",
    "x.shape,X.shape"
   ]
  },
  {
   "cell_type": "code",
   "execution_count": 45,
   "metadata": {},
   "outputs": [],
   "source": [
    "def dist_b(a,b): return (((a[None]-b[:,None])**2).sum(2)).sqrt()"
   ]
  },
  {
   "cell_type": "code",
   "execution_count": 46,
   "metadata": {},
   "outputs": [
    {
     "data": {
      "text/plain": [
       "tensor([[ 0.000,  2.813,  3.713,  ..., 17.468, 21.972, 19.654],\n",
       "        [ 2.813,  0.000,  1.421,  ..., 20.034, 24.335, 22.111],\n",
       "        [ 3.713,  1.421,  0.000,  ..., 20.239, 24.322, 22.194],\n",
       "        [ 6.068,  4.204,  2.783,  ..., 20.885, 24.503, 22.583],\n",
       "        [ 1.624,  1.483,  2.097,  ..., 18.554, 22.858, 20.629]])"
      ]
     },
     "execution_count": 46,
     "metadata": {},
     "output_type": "execute_result"
    }
   ],
   "source": [
    "dist_b(X, x)"
   ]
  },
  {
   "cell_type": "code",
   "execution_count": 47,
   "metadata": {},
   "outputs": [
    {
     "data": {
      "text/plain": [
       "torch.Size([5, 1500])"
      ]
     },
     "execution_count": 47,
     "metadata": {},
     "output_type": "execute_result"
    }
   ],
   "source": [
    "dist_b(X, x).shape"
   ]
  },
  {
   "cell_type": "code",
   "execution_count": 48,
   "metadata": {},
   "outputs": [
    {
     "data": {
      "text/plain": [
       "(torch.Size([1, 1500, 2]), torch.Size([5, 1, 2]), torch.Size([5, 1500, 2]))"
      ]
     },
     "execution_count": 48,
     "metadata": {},
     "output_type": "execute_result"
    }
   ],
   "source": [
    "X[None,:].shape, x[:,None].shape, (X[None,:]-x[:,None]).shape"
   ]
  },
  {
   "cell_type": "code",
   "execution_count": 49,
   "metadata": {},
   "outputs": [
    {
     "data": {
      "text/plain": [
       "tensor([[    0.199,     0.074,     0.036,  ...,     0.000,     0.000,     0.000],\n",
       "        [    0.074,     0.199,     0.155,  ...,     0.000,     0.000,     0.000],\n",
       "        [    0.036,     0.155,     0.199,  ...,     0.000,     0.000,     0.000],\n",
       "        [    0.002,     0.022,     0.076,  ...,     0.000,     0.000,     0.000],\n",
       "        [    0.143,     0.152,     0.115,  ...,     0.000,     0.000,     0.000]])"
      ]
     },
     "execution_count": 49,
     "metadata": {},
     "output_type": "execute_result"
    }
   ],
   "source": [
    "weight = gaussian(dist_b(X, x), 2)\n",
    "weight"
   ]
  },
  {
   "cell_type": "code",
   "execution_count": 50,
   "metadata": {},
   "outputs": [
    {
     "data": {
      "text/plain": [
       "(torch.Size([5, 1500]), torch.Size([1500, 2]))"
      ]
     },
     "execution_count": 50,
     "metadata": {},
     "output_type": "execute_result"
    }
   ],
   "source": [
    "weight.shape,X.shape"
   ]
  },
  {
   "cell_type": "code",
   "execution_count": 51,
   "metadata": {},
   "outputs": [
    {
     "data": {
      "text/plain": [
       "(torch.Size([5, 1500, 1]), torch.Size([1, 1500, 2]))"
      ]
     },
     "execution_count": 51,
     "metadata": {},
     "output_type": "execute_result"
    }
   ],
   "source": [
    "weight[...,None].shape, X[None].shape"
   ]
  },
  {
   "cell_type": "code",
   "execution_count": 52,
   "metadata": {},
   "outputs": [
    {
     "data": {
      "text/plain": [
       "torch.Size([5, 2])"
      ]
     },
     "execution_count": 52,
     "metadata": {},
     "output_type": "execute_result"
    }
   ],
   "source": [
    "num = (weight[...,None]*X[None]).sum(1)\n",
    "num.shape"
   ]
  },
  {
   "cell_type": "code",
   "execution_count": 53,
   "metadata": {},
   "outputs": [
    {
     "data": {
      "text/plain": [
       "tensor([[548.960, 569.866],\n",
       "        [555.972, 620.585],\n",
       "        [405.019, 464.326],\n",
       "        [117.351, 141.431],\n",
       "        [569.842, 616.567]])"
      ]
     },
     "execution_count": 53,
     "metadata": {},
     "output_type": "execute_result"
    }
   ],
   "source": [
    "num"
   ]
  },
  {
   "cell_type": "code",
   "execution_count": 54,
   "metadata": {},
   "outputs": [
    {
     "data": {
      "text/plain": [
       "tensor([[548.960, 569.866],\n",
       "        [555.972, 620.585],\n",
       "        [405.019, 464.326],\n",
       "        [117.351, 141.431],\n",
       "        [569.842, 616.567]])"
      ]
     },
     "execution_count": 54,
     "metadata": {},
     "output_type": "execute_result"
    }
   ],
   "source": [
    "torch.einsum('ij,jk->ik', weight, X)"
   ]
  },
  {
   "cell_type": "code",
   "execution_count": 55,
   "metadata": {},
   "outputs": [
    {
     "data": {
      "text/plain": [
       "tensor([[548.960, 569.866],\n",
       "        [555.972, 620.585],\n",
       "        [405.019, 464.326],\n",
       "        [117.351, 141.431],\n",
       "        [569.842, 616.567]])"
      ]
     },
     "execution_count": 55,
     "metadata": {},
     "output_type": "execute_result"
    }
   ],
   "source": [
    "weight@X"
   ]
  },
  {
   "cell_type": "code",
   "execution_count": 56,
   "metadata": {},
   "outputs": [
    {
     "data": {
      "text/plain": [
       "(torch.Size([5, 1]),\n",
       " tensor([[20.071],\n",
       "         [21.179],\n",
       "         [15.927],\n",
       "         [ 4.914],\n",
       "         [21.511]]))"
      ]
     },
     "execution_count": 56,
     "metadata": {},
     "output_type": "execute_result"
    }
   ],
   "source": [
    "div = weight.sum(1, keepdim=True)\n",
    "div.shape,div"
   ]
  },
  {
   "cell_type": "code",
   "execution_count": 57,
   "metadata": {},
   "outputs": [
    {
     "data": {
      "text/plain": [
       "tensor([[27.350, 28.392],\n",
       "        [26.251, 29.302],\n",
       "        [25.429, 29.153],\n",
       "        [23.879, 28.779],\n",
       "        [26.490, 28.662]])"
      ]
     },
     "execution_count": 57,
     "metadata": {},
     "output_type": "execute_result"
    }
   ],
   "source": [
    "num/div"
   ]
  },
  {
   "cell_type": "code",
   "execution_count": 64,
   "metadata": {},
   "outputs": [],
   "source": [
    "def meanshift(data, bs=500):\n",
    "    n = len(data)\n",
    "    X = data.clone()\n",
    "    for it in range(5):\n",
    "        for i in range(0, n, bs):\n",
    "            s = slice(i, min(i+bs,n))\n",
    "            weight = gaussian(dist_b(X, X[s]), 2.5)\n",
    "#             weight = tri(dist_b(X, X[s]), 8)\n",
    "            div = weight.sum(1, keepdim=True)\n",
    "            X[s] = weight@X/div\n",
    "    return X"
   ]
  },
  {
   "cell_type": "markdown",
   "metadata": {},
   "source": [
    "Although each iteration still has to launch a new cuda kernel, there are now fewer iterations, and the acceleration from updating a batch of points more than makes up for it."
   ]
  },
  {
   "cell_type": "code",
   "execution_count": 59,
   "metadata": {},
   "outputs": [],
   "source": [
    "data = data.cuda()"
   ]
  },
  {
   "cell_type": "code",
   "execution_count": 60,
   "metadata": {},
   "outputs": [],
   "source": [
    "bs = 100"
   ]
  },
  {
   "cell_type": "code",
   "execution_count": 61,
   "metadata": {},
   "outputs": [],
   "source": [
    "X = meanshift(data).cpu()"
   ]
  },
  {
   "cell_type": "code",
   "execution_count": null,
   "metadata": {},
   "outputs": [],
   "source": []
  },
  {
   "cell_type": "code",
   "execution_count": 62,
   "metadata": {},
   "outputs": [
    {
     "name": "stdout",
     "output_type": "stream",
     "text": [
      "1.98 ms ± 59.9 µs per loop (mean ± std. dev. of 7 runs, 5 loops each)\n"
     ]
    }
   ],
   "source": [
    "%timeit -n 5 _=meanshift(data, 1250).cpu()"
   ]
  },
  {
   "cell_type": "code",
   "execution_count": 65,
   "metadata": {},
   "outputs": [
    {
     "data": {
      "image/png": "[encoded data removed]",
      "text/plain": [
       "<Figure size 640x480 with 1 Axes>"
      ]
     },
     "metadata": {},
     "output_type": "display_data"
    }
   ],
   "source": [
    "plot_data(centroids+2, X, n_samples)"
   ]
  },
  {
   "cell_type": "markdown",
   "metadata": {},
   "source": [
    "**Homework:** implement k-means clustering, dbscan, locality sensitive hashing, or some other clustering, fast nearest neighbors, or similar algorithm of your choice, on the GPU. Check if your version is faster than a pure python or CPU version.\n",
    "\n",
    "Bonus: Implement it in APL too!\n",
    "\n",
    "Super bonus: Invent a new meanshift algorithm which picks only the closest points, to avoid quadratic time.\n",
    "\n",
    "Super super bonus: Publish a paper that describes it :D"
   ]
  },
  {
   "cell_type": "markdown",
   "metadata": {},
   "source": [
    "# my meanshift"
   ]
  },
  {
   "cell_type": "markdown",
   "metadata": {},
   "source": [
    "## organise data into nearest points.\n",
    "\n",
    "a matrix, where each col is the ordered indexes of points along a particular dimension\n",
    "\n",
    "maybe add a dimension for the average loaction of a point. FILTERED POINT MORE than a std away in any dim"
   ]
  },
  {
   "cell_type": "code",
   "execution_count": 242,
   "metadata": {},
   "outputs": [
    {
     "data": {
      "text/plain": [
       "(torch.Size([1500, 2]), device(type='cpu'))"
      ]
     },
     "execution_count": 242,
     "metadata": {},
     "output_type": "execute_result"
    }
   ],
   "source": [
    "# extract a dimension\n",
    "order_data = X.clone().cpu()\n",
    "order_data.shape,order_data.device\n"
   ]
  },
  {
   "cell_type": "code",
   "execution_count": 102,
   "metadata": {},
   "outputs": [
    {
     "data": {
      "text/plain": [
       "(torch.Size([1500, 1]), tensor([27.555]), tensor([27.555, 27.515]))"
      ]
     },
     "execution_count": 102,
     "metadata": {},
     "output_type": "execute_result"
    }
   ],
   "source": [
    "dim = order_data[:,0].clone()[:,None]\n",
    "dim.shape, dim[0], order_data[0]"
   ]
  },
  {
   "cell_type": "code",
   "execution_count": null,
   "metadata": {},
   "outputs": [],
   "source": [
    "sub_dim = dim[:10] ; sub_dim"
   ]
  },
  {
   "cell_type": "code",
   "execution_count": null,
   "metadata": {},
   "outputs": [],
   "source": [
    "sorted,_ = torch.sort(sub_dim,0) ; sorted"
   ]
  },
  {
   "cell_type": "code",
   "execution_count": null,
   "metadata": {},
   "outputs": [],
   "source": [
    "dim,_ = torch.sort(dim,0) ; dim[:10]"
   ]
  },
  {
   "cell_type": "code",
   "execution_count": null,
   "metadata": {},
   "outputs": [],
   "source": [
    "torch.sort(order_data[:10],0), order_data[:10]"
   ]
  },
  {
   "cell_type": "code",
   "execution_count": null,
   "metadata": {},
   "outputs": [],
   "source": [
    "_,ranks = torch.sort(order_data[:10],0) ; ranks,_,order_data[:10]"
   ]
  },
  {
   "cell_type": "markdown",
   "metadata": {},
   "source": [
    "for each point select only the points 50 points closest: in each dim, extract the 25 points above and below.\n",
    "need to know the rank of current index.\n",
    "the indices of rank gives me that info.\n",
    "\n",
    "remove all points who are more than 1 std distant in any dim\n"
   ]
  },
  {
   "cell_type": "code",
   "execution_count": null,
   "metadata": {},
   "outputs": [],
   "source": [
    "torch.sort(ranks, 0)"
   ]
  },
  {
   "cell_type": "code",
   "execution_count": 151,
   "metadata": {},
   "outputs": [
    {
     "data": {
      "text/plain": [
       "tensor([ 946, 1056])"
      ]
     },
     "execution_count": 151,
     "metadata": {},
     "output_type": "execute_result"
    }
   ],
   "source": [
    "_,ranks = torch.sort(order_data,0)\n",
    "_,orig_idx_ranks = torch.sort(ranks,0) ; orig_idx_ranks[0]"
   ]
  },
  {
   "cell_type": "code",
   "execution_count": null,
   "metadata": {},
   "outputs": [],
   "source": [
    "order_data[0], ranks[940:948], ranks[1054:1058]"
   ]
  },
  {
   "cell_type": "code",
   "execution_count": 255,
   "metadata": {},
   "outputs": [
    {
     "data": {
      "text/plain": [
       "(torch.Size([]), tensor(946))"
      ]
     },
     "execution_count": 255,
     "metadata": {},
     "output_type": "execute_result"
    }
   ],
   "source": [
    "dim_1, dim_2 = orig_idx_ranks[0] ; dim_1.shape, dim_1"
   ]
  },
  {
   "cell_type": "code",
   "execution_count": 216,
   "metadata": {},
   "outputs": [],
   "source": [
    "#select how many indexes to take\n",
    "window = 25"
   ]
  },
  {
   "cell_type": "code",
   "execution_count": null,
   "metadata": {},
   "outputs": [],
   "source": [
    "dim_1_neigh = ranks[dim_1 - window: dim_1 + window , 0] \n",
    "dim_2_neigh = ranks[dim_2 - window: dim_2 + window , 1] ; dim_2_neigh, dim_1_neigh"
   ]
  },
  {
   "cell_type": "code",
   "execution_count": null,
   "metadata": {},
   "outputs": [],
   "source": [
    "closest_idx = torch.concat((dim_1_neigh, dim_2_neigh)).unique() ; closest_idx"
   ]
  },
  {
   "cell_type": "code",
   "execution_count": null,
   "metadata": {},
   "outputs": [],
   "source": [
    " closest = order_data[closest_idx]; closest, order_data.min(), order_data.max(), order_data.std()"
   ]
  },
  {
   "cell_type": "code",
   "execution_count": null,
   "metadata": {},
   "outputs": [],
   "source": [
    "# check avg distance\n",
    "\n",
    "base = closest[0] ; base.shape, closest.shape, base.expand_as(closest)\n"
   ]
  },
  {
   "cell_type": "code",
   "execution_count": 221,
   "metadata": {},
   "outputs": [
    {
     "data": {
      "text/plain": [
       "tensor(12.568)"
      ]
     },
     "execution_count": 221,
     "metadata": {},
     "output_type": "execute_result"
    }
   ],
   "source": [
    "\n",
    "((base - closest)**2).sum(1).sqrt().mean()"
   ]
  },
  {
   "cell_type": "code",
   "execution_count": 222,
   "metadata": {},
   "outputs": [],
   "source": [
    "def point_dist(point, tens):\n",
    "    return ((point - tens)**2).sum(1).sqrt().mean()"
   ]
  },
  {
   "cell_type": "code",
   "execution_count": 254,
   "metadata": {},
   "outputs": [],
   "source": [
    "#get random indexes for comp\n",
    "rand_idx = torch.zeros([window * 2,1],dtype = torch.int).random_(0,1500)\n"
   ]
  },
  {
   "cell_type": "code",
   "execution_count": 248,
   "metadata": {},
   "outputs": [
    {
     "data": {
      "text/plain": [
       "(tensor(12.568), tensor(16.077))"
      ]
     },
     "execution_count": 248,
     "metadata": {},
     "output_type": "execute_result"
    }
   ],
   "source": [
    "point_dist(base, closest), point_dist(base,order_data[rand_idx])"
   ]
  },
  {
   "cell_type": "code",
   "execution_count": null,
   "metadata": {},
   "outputs": [],
   "source": [
    "#tnesor of closest indexes where one dim is more than a std away. can use n_DIMS. \n",
    "bool = (((base - closest) <= order_data.std()).sum(1)) > 1\n",
    "bool"
   ]
  },
  {
   "cell_type": "code",
   "execution_count": null,
   "metadata": {},
   "outputs": [],
   "source": [
    "filtered_closest = closest[bool]; filtered_closest"
   ]
  },
  {
   "cell_type": "code",
   "execution_count": 253,
   "metadata": {},
   "outputs": [
    {
     "data": {
      "text/plain": [
       "(tensor(12.568), tensor(3.934), tensor(19.740))"
      ]
     },
     "execution_count": 253,
     "metadata": {},
     "output_type": "execute_result"
    }
   ],
   "source": [
    "point_dist(base, closest), point_dist(base, filtered_closest), point_dist(base,order_data[rand_idx])"
   ]
  },
  {
   "cell_type": "code",
   "execution_count": 278,
   "metadata": {},
   "outputs": [],
   "source": [
    "#change window to account for a rank at the end or begginig\n",
    "# note that each sub tensor is of  a different size\n",
    "def get_closest(point, data, window):\n",
    "    _,ranks = torch.sort(data,0)\n",
    "    _,orig_idx_ranks = torch.sort(ranks,0) ; orig_idx_ranks[0]\n",
    "    dim_1, dim_2 = orig_idx_ranks[0]\n",
    "    dim_1_neigh = ranks[dim_1 - window: dim_1 + window , 0] \n",
    "    dim_2_neigh = ranks[dim_2 - window: dim_2 + window , 1] \n",
    "    closest_idx = torch.concat((dim_1_neigh, dim_2_neigh)).unique()\n",
    "    closest = (order_data[closest_idx])[(((point - order_data[closest_idx]) <= order_data.std()).sum(1)) > 1]\n",
    "    #add points equal to point to fill to window * 4 \n",
    "    \n",
    "    #bool = (((point - closest) <= order_data.std()).sum(1)) > 1\n",
    "    #filtered_closest = closest[bool]\n",
    "    return closest\n",
    "    "
   ]
  },
  {
   "cell_type": "code",
   "execution_count": 277,
   "metadata": {},
   "outputs": [
    {
     "data": {
      "text/plain": [
       "torch.Size([66, 2])"
      ]
     },
     "execution_count": 277,
     "metadata": {},
     "output_type": "execute_result"
    }
   ],
   "source": [
    "closest_x = get_closest(order_data[20],order_data,25)\n",
    "closest_x.shape"
   ]
  },
  {
   "cell_type": "code",
   "execution_count": 271,
   "metadata": {},
   "outputs": [],
   "source": [
    "from fastcore.test import * \n",
    "test_close(closest,filtered_closest)\n"
   ]
  },
  {
   "cell_type": "code",
   "execution_count": null,
   "metadata": {},
   "outputs": [],
   "source": [
    "#return a tensor where each row is all the distances between a point and all other points. \n",
    "def dist_b(a,b): return (((a[None]-b[:,None])**2).sum(2)).sqrt()"
   ]
  },
  {
   "cell_type": "code",
   "execution_count": null,
   "metadata": {},
   "outputs": [],
   "source": []
  },
  {
   "cell_type": "code",
   "execution_count": null,
   "metadata": {},
   "outputs": [],
   "source": [
    "def meanshift_fast(data, bs=500):\n",
    "    n = len(data)\n",
    "    X = data.clone()\n",
    "    _,ranks = torch.sort(X,0)\n",
    "    _,orig_idx_ranks = torch.sort(ranks,0) ; orig_idx_ranks[0]\n",
    "    for it in range(5):\n",
    "        for i in range(0, n, bs):\n",
    "            s = slice(i, min(i+bs,n))\n",
    "            #get distances             \n",
    "            weight = gaussian(dist_b(X, X[s]), 2.5)\n",
    "#             weight = tri(dist_b(X, X[s]), 8)\n",
    "            div = weight.sum(1, keepdim=True)\n",
    "            X[s] = weight@X/div\n",
    "    return X"
   ]
  },
  {
   "cell_type": "code",
   "execution_count": null,
   "metadata": {},
   "outputs": [],
   "source": []
  },
  {
   "attachments": {
    "../images/17_meanshift_clustering/thumbnail.png": {
     "image/png": "[encoded data removed]"
    }
   },
   "cell_type": "markdown",
   "metadata": {},
   "source": [
    "# Implementing and Optimizing Meanshift Clustering\n",
    "\n",
    "This post includes a cool animation.\n",
    "\n",
    "Salman Naqvi  \n",
    "Wednesday, 21 June 2023\n",
    "\n",
    "> This notebook follows the [fastai style\n",
    "> guide](https://docs.fast.ai/dev/style.html).\n",
    "\n",
    "![](attachment:../images/17_meanshift_clustering/thumbnail.png)\n",
    "\n",
    "Meanshift clustering is a technique for unsupervised learning. Give this\n",
    "algorithm a bunch of data and it will figure out what groups the data\n",
    "can be sorted into. It does this by iteratively moving all data points\n",
    "until they converge to a single point.\n",
    "\n",
    "The steps of the algorithm can be summarized as follows:\n",
    "\n",
    "1.  For each data point $x$ in the dataset, calculate the distance\n",
    "    between $x$ and every other data point in the dataset.\n",
    "2.  Calculate weights for each point in the dataset by passing the\n",
    "    calculated distances through the normal distribution.\n",
    "3.  Calculate the weighted average for all points in the dataset. This\n",
    "    weighted average is the new location for $x$\n",
    "\n",
    "This is the data we will work with to illustrate meanshift clustering.\n",
    "The data points are put into clearly seperate clusters for the sake of\n",
    "clarity."
   ]
  },
  {
   "cell_type": "code",
   "execution_count": null,
   "metadata": {
    "outputId": "ff4ca06c-2714-4f03-a5b3-b7bd80bd9208"
   },
   "outputs": [],
   "source": []
  },
  {
   "cell_type": "markdown",
   "metadata": {},
   "source": [
    "In the end, all clusters will converge at their respective center\n",
    "(marked by X).\n",
    "\n",
    "## Implementation\n",
    "\n",
    "Let’s start off simple and apply the algorithm to a single point.\n",
    "\n",
    "### Calculate Distances\n",
    "\n",
    "> For each data point $x$ in the dataset, calculate the distance between\n",
    "> $x$ and every other data point in the dataset."
   ]
  },
  {
   "cell_type": "code",
   "execution_count": 28,
   "metadata": {
    "outputId": "a3b871c2-964c-40f7-a47b-726134f9e714"
   },
   "outputs": [
    {
     "data": {
      "text/plain": [
       "tensor([[27.555, 27.515],\n",
       "        [25.656, 29.590],\n",
       "        [24.275, 29.255],\n",
       "        ...,\n",
       "        [32.493, 10.760],\n",
       "        [30.484,  5.739],\n",
       "        [31.439,  8.249]])"
      ]
     },
     "execution_count": 28,
     "metadata": {},
     "output_type": "execute_result"
    }
   ],
   "source": [
    "data"
   ]
  },
  {
   "cell_type": "code",
   "execution_count": 35,
   "metadata": {
    "outputId": "68a21d4b-fcdf-493c-fc05-be43b2880013"
   },
   "outputs": [
    {
     "data": {
      "text/plain": [
       "torch.Size([1500, 2])"
      ]
     },
     "execution_count": 35,
     "metadata": {},
     "output_type": "execute_result"
    }
   ],
   "source": [
    "X = data.clone(); X.shape"
   ]
  },
  {
   "cell_type": "code",
   "execution_count": 37,
   "metadata": {},
   "outputs": [
    {
     "data": {
      "text/plain": [
       "(tensor([27.555, 27.515]),\n",
       " torch.Size([2]),\n",
       " tensor([27.555, 27.515]),\n",
       " torch.Size([2]),\n",
       " torch.Size([1500]))"
      ]
     },
     "execution_count": 37,
     "metadata": {},
     "output_type": "execute_result"
    }
   ],
   "source": [
    "X[0],X[0].shape,X[0, :],X[0, :].shape,X[:,0].shape"
   ]
  },
  {
   "cell_type": "markdown",
   "metadata": {},
   "source": [
    "Each point has an $x$ coordinate and a $y$ coordinate."
   ]
  },
  {
   "cell_type": "code",
   "execution_count": 34,
   "metadata": {
    "outputId": "cc0339f1-274e-4850-ccde-6f0acefa9bab"
   },
   "outputs": [
    {
     "data": {
      "text/plain": [
       "(tensor([[ 0.000,  0.000],\n",
       "         [ 1.899, -2.075],\n",
       "         [ 3.280, -1.740],\n",
       "         ...,\n",
       "         [-4.939, 16.755],\n",
       "         [-2.930, 21.776],\n",
       "         [-3.885, 19.266]]),\n",
       " tensor([27.555, 27.515]),\n",
       " torch.Size([2]),\n",
       " tensor([27.555, 27.515]),\n",
       " torch.Size([2]))"
      ]
     },
     "execution_count": 34,
     "metadata": {},
     "output_type": "execute_result"
    }
   ],
   "source": [
    "x = X[0, :]; x - X"
   ]
  },
  {
   "cell_type": "markdown",
   "metadata": {},
   "source": [
    "The distance metric we’ll use is [Euclidean\n",
    "distance](https://www.mathsisfun.com/algebra/distance-2-points.html)\n",
    "— also better known as Pythagoras’ theorem.\n",
    "\n",
    "$$\n",
    "\\sqrt{(x_2 - x_1)^2 + (y_2 - y_1)^2}\n",
    "$$"
   ]
  },
  {
   "cell_type": "code",
   "execution_count": 38,
   "metadata": {
    "outputId": "0f770796-68cb-4645-bb63-7782bc656651"
   },
   "outputs": [
    {
     "data": {
      "text/plain": [
       "tensor([ 0.000,  2.813,  3.713,  ..., 17.468, 21.972, 19.654])"
      ]
     },
     "execution_count": 38,
     "metadata": {},
     "output_type": "execute_result"
    }
   ],
   "source": [
    "dists = (x - X).square().sum(dim=1).sqrt(); dists"
   ]
  },
  {
   "cell_type": "markdown",
   "metadata": {},
   "source": [
    "### Calculate Weights\n",
    "\n",
    "> Calculate weights for each point in the dataset by passing the\n",
    "> calculated distances through the normal distribution.\n",
    "\n",
    "The [normal\n",
    "distribution](https://www.mathsisfun.com/data/standard-normal-distribution.html)\n",
    "is also known as the Gaussian distribution. A distribution is simply a\n",
    "way to describe how data is spread out — this isn’t applicable in our\n",
    "case. What is applicable is the shape of this distribution which we will\n",
    "use to calculate the weights.\n",
    "\n",
    "$$\n",
    "f(x) = \\frac{1}{\\sigma \\sqrt{2\\pi} } e^{-\\frac{1}{2}\\left(\\frac{x-\\mu}{\\sigma}\\right)^2}\n",
    "$$"
   ]
  },
  {
   "cell_type": "code",
   "execution_count": 46,
   "metadata": {},
   "outputs": [],
   "source": [
    "def gauss_kernel(x, mean, std):\n",
    "  return torch.exp(-(x - mean) ** 2 / (2 * std ** 2)) / (std * torch.sqrt(2 * tensor(torch.pi)))"
   ]
  },
  {
   "cell_type": "markdown",
   "metadata": {},
   "source": [
    "This is how it looks like."
   ]
  },
  {
   "cell_type": "code",
   "execution_count": null,
   "metadata": {
    "notebookRunGroups": {
     "groupValue": ""
    },
    "outputId": "c85d94ec-815f-42a1-8e0a-bb2c383712be"
   },
   "outputs": [],
   "source": []
  },
  {
   "cell_type": "markdown",
   "metadata": {},
   "source": [
    "From the shape of this graph, we can see that larger values of $x$ give\n",
    "smaller values of $y$, which is what we want — longer distances should\n",
    "have smaller weights meaning they have a smaller effect on the new\n",
    "position of the point.\n",
    "\n",
    "We can control the rate at which the weights go to zero by varying\n",
    "what’s known as the bandwidth, or the standard deviation. The graph\n",
    "above is generated with a bandwith of 2.5.\n",
    "\n",
    "The graph below is generated with a bandwidth of 1."
   ]
  },
  {
   "cell_type": "code",
   "execution_count": null,
   "metadata": {
    "outputId": "7ee80be2-bf9a-49a9-fd4b-b979988978e2"
   },
   "outputs": [],
   "source": []
  },
  {
   "cell_type": "markdown",
   "metadata": {},
   "source": [
    "Let’s get our weights now."
   ]
  },
  {
   "cell_type": "code",
   "execution_count": 41,
   "metadata": {
    "outputId": "8cedd779-4f66-495f-8fab-feeb63e8602c"
   },
   "outputs": [
    {
     "data": {
      "text/plain": [
       "tensor([    0.160,     0.085,     0.053,  ...,     0.000,     0.000,     0.000])"
      ]
     },
     "execution_count": 41,
     "metadata": {},
     "output_type": "execute_result"
    }
   ],
   "source": [
    "gauss_kernel(dists, mean=0, std=2.5)"
   ]
  },
  {
   "cell_type": "code",
   "execution_count": 42,
   "metadata": {},
   "outputs": [],
   "source": [
    "bw = 2.5\n",
    "ws = gauss_kernel(x=dists, mean=0, std=bw)"
   ]
  },
  {
   "cell_type": "markdown",
   "metadata": {},
   "source": [
    "### Move the Point\n",
    "\n",
    "> Calculate the weighted average for all points in the dataset. This\n",
    "> weighted average is the new location for $x$"
   ]
  },
  {
   "cell_type": "code",
   "execution_count": 45,
   "metadata": {
    "outputId": "3651ed08-8ba8-4250-eddd-cf5ad73529dd"
   },
   "outputs": [
    {
     "data": {
      "text/plain": [
       "(torch.Size([1500]),\n",
       " torch.Size([1500, 2]),\n",
       " tensor([0.160, 0.085, 0.053, 0.008, 0.129]),\n",
       " tensor([0.000, 2.813, 3.713, 6.068, 1.624]))"
      ]
     },
     "execution_count": 45,
     "metadata": {},
     "output_type": "execute_result"
    }
   ],
   "source": [
    "ws.shape, X.shape, ws[:5], dists[:5]"
   ]
  },
  {
   "cell_type": "code",
   "execution_count": 47,
   "metadata": {
    "outputId": "dcd8b8b2-b961-4de3-8176-3af1c7e84043"
   },
   "outputs": [
    {
     "data": {
      "text/plain": [
       "(torch.Size([1500, 1]), torch.Size([1500, 2]))"
      ]
     },
     "execution_count": 47,
     "metadata": {},
     "output_type": "execute_result"
    }
   ],
   "source": [
    "ws[:, None].shape, X.shape"
   ]
  },
  {
   "cell_type": "markdown",
   "metadata": {},
   "source": [
    "Below is the formula for [weighted\n",
    "average](https://www.mathsisfun.com/data/weighted-mean.html).\n",
    "\n",
    "$$\n",
    "\\frac{\\sum wx}{\\sum w}\n",
    "$$\n",
    "\n",
    "In words, multiply each data point in the set with its corresponding\n",
    "weight and sum all products. Divide that with the sum of all weights."
   ]
  },
  {
   "cell_type": "code",
   "execution_count": 50,
   "metadata": {
    "outputId": "5f27e8da-abbf-4391-a160-5283ca81a17e"
   },
   "outputs": [
    {
     "data": {
      "text/plain": [
       "(tensor([[    4.397,     4.391],\n",
       "         [    2.174,     2.507],\n",
       "         [    1.286,     1.550],\n",
       "         ...,\n",
       "         [    0.000,     0.000],\n",
       "         [    0.000,     0.000],\n",
       "         [    0.000,     0.000]]),\n",
       " tensor([4.397, 4.391]))"
      ]
     },
     "execution_count": 50,
     "metadata": {},
     "output_type": "execute_result"
    }
   ],
   "source": [
    "ws[:, None] * X, ws[0] * X[0, :]"
   ]
  },
  {
   "cell_type": "markdown",
   "metadata": {},
   "source": [
    "Let’s calculate the weighted average and assign it as the new location\n",
    "for our point $x$."
   ]
  },
  {
   "cell_type": "code",
   "execution_count": 51,
   "metadata": {
    "outputId": "b9348add-618b-4e14-b5b6-7668053cb252"
   },
   "outputs": [
    {
     "data": {
      "text/plain": [
       "tensor([27.264, 28.557])"
      ]
     },
     "execution_count": 51,
     "metadata": {},
     "output_type": "execute_result"
    }
   ],
   "source": [
    "x = (ws[:, None] * X).sum(dim=0) / ws.sum(); x"
   ]
  },
  {
   "cell_type": "markdown",
   "metadata": {},
   "source": [
    "And there you have it! We just moved a single data point.\n",
    "\n",
    "Let’s do this for all data points and for a single iteration."
   ]
  },
  {
   "cell_type": "code",
   "execution_count": 52,
   "metadata": {},
   "outputs": [],
   "source": [
    "for i, x in enumerate(X):\n",
    "    dist = (x - X).square().sum(dim=1).sqrt()\n",
    "    ws = gauss_kernel(x=dist, mean=0, std=bw)\n",
    "    X[i] = (ws[:, None] * X).sum(dim=0) / ws.sum()"
   ]
  },
  {
   "cell_type": "code",
   "execution_count": 53,
   "metadata": {
    "outputId": "9b6919c9-fbcb-4e37-85b5-faa240d0540a"
   },
   "outputs": [
    {
     "data": {
      "image/png": "[encoded data removed]",
      "text/plain": [
       "<Figure size 640x480 with 1 Axes>"
      ]
     },
     "metadata": {},
     "output_type": "display_data"
    }
   ],
   "source": [
    "plot_data(centroids+2, X, n_samples)"
   ]
  },
  {
   "cell_type": "markdown",
   "metadata": {},
   "source": [
    "Let’s encapsulate the algorithm so we can run it for multiple\n",
    "iterations."
   ]
  },
  {
   "cell_type": "code",
   "execution_count": 54,
   "metadata": {},
   "outputs": [],
   "source": [
    "def update(X):\n",
    "    for i, x in enumerate(X):\n",
    "      dist = (x - X).square().sum(dim=1).sqrt()\n",
    "      ws = gauss_kernel(x=dist, mean=0, std=bw)\n",
    "      X[i] = (ws[:, None] * X).sum(dim=0) / ws.sum()\n",
    "\n",
    "def meanshift(data):\n",
    "   X = data.clone()\n",
    "   for _ in range(5): update(X)\n",
    "   return X"
   ]
  },
  {
   "cell_type": "code",
   "execution_count": 55,
   "metadata": {
    "outputId": "9d35007f-6afe-46f1-e82c-66df8c6badae"
   },
   "outputs": [
    {
     "data": {
      "image/png": "[encoded data removed]",
      "text/plain": [
       "<Figure size 640x480 with 1 Axes>"
      ]
     },
     "metadata": {},
     "output_type": "display_data"
    }
   ],
   "source": [
    "plot_data(centroids+2, meanshift(data), n_samples)"
   ]
  },
  {
   "cell_type": "markdown",
   "metadata": {},
   "source": [
    "All points have converged."
   ]
  },
  {
   "cell_type": "code",
   "execution_count": 56,
   "metadata": {
    "outputId": "f0e252c9-092e-4377-aa6e-3b3e565a32d3"
   },
   "outputs": [
    {
     "name": "stdout",
     "output_type": "stream",
     "text": [
      "596 ms ± 2.28 ms per loop (mean ± std. dev. of 7 runs, 10 loops each)\n"
     ]
    }
   ],
   "source": [
    "%timeit -n 10 meanshift(data)"
   ]
  },
  {
   "cell_type": "markdown",
   "metadata": {},
   "source": [
    "The algorithm took roughly 1.5 seconds to run 5 iterations. We’ll\n",
    "optimize the algorithm further in [Optimized\n",
    "Implementation](#optimized-implementation).\n",
    "\n",
    "As we can see below, simply moving the algorithm to the GPU won’t help\n",
    "— in fact, it becamse a bit slower."
   ]
  },
  {
   "cell_type": "code",
   "execution_count": 57,
   "metadata": {
    "outputId": "b9f47aa2-df78-4cd4-f185-bd3157328a20"
   },
   "outputs": [
    {
     "name": "stdout",
     "output_type": "stream",
     "text": [
      "738 ms ± 22 ms per loop (mean ± std. dev. of 7 runs, 10 loops each)\n"
     ]
    }
   ],
   "source": [
    "def update(X):\n",
    "    for i, x in enumerate(X):\n",
    "      dist = (x - X).square().sum(dim=1).sqrt()\n",
    "      ws = gauss_kernel(x=dist, mean=0, std=bw)\n",
    "      X[i] = (ws[:, None] * X).sum(dim=0) / ws.sum()\n",
    "\n",
    "def meanshift(data):\n",
    "   X = data.clone().to('cuda')\n",
    "   for _ in range(5): update(X)\n",
    "   return X.detach().cpu()\n",
    "\n",
    "%timeit -n 10 meanshift(data)"
   ]
  },
  {
   "cell_type": "markdown",
   "metadata": {},
   "source": [
    "### Animation\n",
    "\n",
    "Let’s see meanshift clustering happen in real time."
   ]
  },
  {
   "cell_type": "code",
   "execution_count": null,
   "metadata": {
    "outputId": "0530c616-3ae4-4d93-e771-bc0c0db2ce4e"
   },
   "outputs": [],
   "source": [
    "X = data.clone()\n",
    "fig = plot_data(centroids+2, X, n_samples, display=False)\n",
    "fig.update_layout(xaxis_range=[-40, 40], yaxis_range=[-40, 40],  updatemenus=[dict(type='buttons', buttons=[\n",
    "    dict(label='Play', method='animate', args=[None]),\n",
    "    dict(label='Pause', method='animate', args=[[None], dict(frame_duration=0, frame_redraw='False', mode='immediate', transition_duration=0)])\n",
    "])])\n",
    "\n",
    "frames = [go.Frame(data=fig.data)]\n",
    "for _ in range(5):\n",
    "    update(X)\n",
    "    frames.append(go.Frame(data=plot_data(centroids+2, X, n_samples, display=False).data))\n",
    "fig.frames = frames\n",
    "fig.show()"
   ]
  },
  {
   "cell_type": "markdown",
   "metadata": {},
   "source": [
    "## Optimized Implementation\n",
    "\n",
    "The implementation above is roughly 1.5s which is slow. Let’s perform\n",
    "the algorithm on multiple data points simulataneously. We’ll then move\n",
    "the operations onto the GPU.\n",
    "\n",
    "### Calculate Distances\n",
    "\n",
    "> For each data point $x$ in the dataset, calculate the distance between\n",
    "> $x$ and every other data point in the dataset."
   ]
  },
  {
   "cell_type": "code",
   "execution_count": 58,
   "metadata": {
    "outputId": "7bcf7f29-a92a-4bae-c542-0a5433eaff4f"
   },
   "outputs": [
    {
     "data": {
      "text/plain": [
       "torch.Size([1500, 2])"
      ]
     },
     "execution_count": 58,
     "metadata": {},
     "output_type": "execute_result"
    }
   ],
   "source": [
    "X = data.clone(); X.shape"
   ]
  },
  {
   "cell_type": "markdown",
   "metadata": {},
   "source": [
    "We’ll begin with a batch size of 8."
   ]
  },
  {
   "cell_type": "code",
   "execution_count": 59,
   "metadata": {
    "outputId": "7b207186-df58-4e0b-c13f-3f8e50ac6416"
   },
   "outputs": [
    {
     "data": {
      "text/plain": [
       "tensor([[27.555, 27.515],\n",
       "        [25.656, 29.590],\n",
       "        [24.275, 29.255],\n",
       "        [21.578, 28.565],\n",
       "        [26.066, 28.165],\n",
       "        [28.555, 27.660],\n",
       "        [25.435, 28.909],\n",
       "        [24.906, 29.790]])"
      ]
     },
     "execution_count": 59,
     "metadata": {},
     "output_type": "execute_result"
    }
   ],
   "source": [
    "bs = 8\n",
    "x = X[:bs, :]; x"
   ]
  },
  {
   "cell_type": "code",
   "execution_count": 60,
   "metadata": {
    "outputId": "7d787509-016f-4829-ab13-68634342baf2"
   },
   "outputs": [
    {
     "data": {
      "text/plain": [
       "(torch.Size([8, 2]), torch.Size([1500, 2]))"
      ]
     },
     "execution_count": 60,
     "metadata": {},
     "output_type": "execute_result"
    }
   ],
   "source": [
    "x.shape, X.shape"
   ]
  },
  {
   "cell_type": "code",
   "execution_count": 61,
   "metadata": {
    "outputId": "9fa0b076-1ba5-4dc2-de48-0818f20ee333"
   },
   "outputs": [
    {
     "data": {
      "text/plain": [
       "(torch.Size([8, 1, 2]), torch.Size([1, 1500, 2]))"
      ]
     },
     "execution_count": 61,
     "metadata": {},
     "output_type": "execute_result"
    }
   ],
   "source": [
    "x[:, None, :].shape, X[None, ...].shape"
   ]
  },
  {
   "cell_type": "code",
   "execution_count": 62,
   "metadata": {
    "outputId": "fd78dead-094c-4580-cefc-682fd8545ebf"
   },
   "outputs": [
    {
     "data": {
      "text/plain": [
       "tensor([[[ 0.000,  0.000],\n",
       "         [ 1.899, -2.075],\n",
       "         [ 3.280, -1.740],\n",
       "         ...,\n",
       "         [-4.939, 16.755],\n",
       "         [-2.930, 21.776],\n",
       "         [-3.885, 19.266]],\n",
       "\n",
       "        [[-1.899,  2.075],\n",
       "         [ 0.000,  0.000],\n",
       "         [ 1.381,  0.335],\n",
       "         ...,\n",
       "         [-6.838, 18.831],\n",
       "         [-4.829, 23.851],\n",
       "         [-5.784, 21.341]],\n",
       "\n",
       "        [[-3.280,  1.740],\n",
       "         [-1.381, -0.335],\n",
       "         [ 0.000,  0.000],\n",
       "         ...,\n",
       "         [-8.218, 18.495],\n",
       "         [-6.210, 23.516],\n",
       "         [-7.165, 21.006]],\n",
       "\n",
       "        ...,\n",
       "\n",
       "        [[ 1.001,  0.145],\n",
       "         [ 2.900, -1.930],\n",
       "         [ 4.281, -1.595],\n",
       "         ...,\n",
       "         [-3.938, 16.901],\n",
       "         [-1.929, 21.921],\n",
       "         [-2.884, 19.411]],\n",
       "\n",
       "        [[-2.119,  1.394],\n",
       "         [-0.221, -0.681],\n",
       "         [ 1.160, -0.346],\n",
       "         ...,\n",
       "         [-7.058, 18.150],\n",
       "         [-5.049, 23.170],\n",
       "         [-6.004, 20.660]],\n",
       "\n",
       "        [[-2.648,  2.275],\n",
       "         [-0.750,  0.200],\n",
       "         [ 0.631,  0.535],\n",
       "         ...,\n",
       "         [-7.587, 19.031],\n",
       "         [-5.578, 24.051],\n",
       "         [-6.533, 21.541]]])"
      ]
     },
     "execution_count": 62,
     "metadata": {},
     "output_type": "execute_result"
    }
   ],
   "source": [
    "x[:, None, :] - X[None, ...]"
   ]
  },
  {
   "cell_type": "code",
   "execution_count": 63,
   "metadata": {
    "outputId": "d101b5ca-fc9b-4b99-80ee-9b20d589ccf4"
   },
   "outputs": [
    {
     "data": {
      "text/plain": [
       "torch.Size([8, 1500, 2])"
      ]
     },
     "execution_count": 63,
     "metadata": {},
     "output_type": "execute_result"
    }
   ],
   "source": [
    "(x[:, None, :] - X[None, ...]).shape"
   ]
  },
  {
   "cell_type": "code",
   "execution_count": 64,
   "metadata": {
    "outputId": "e2154f66-4444-4953-9c24-ec648e8d78fb"
   },
   "outputs": [
    {
     "data": {
      "text/plain": [
       "(tensor([[ 0.000,  2.813,  3.713,  ..., 17.468, 21.972, 19.654],\n",
       "         [ 2.813,  0.000,  1.421,  ..., 20.034, 24.335, 22.111],\n",
       "         [ 3.713,  1.421,  0.000,  ..., 20.239, 24.322, 22.194],\n",
       "         ...,\n",
       "         [ 1.011,  3.483,  4.568,  ..., 17.353, 22.006, 19.625],\n",
       "         [ 2.537,  0.716,  1.211,  ..., 19.474, 23.714, 21.515],\n",
       "         [ 3.492,  0.776,  0.828,  ..., 20.487, 24.690, 22.510]]),\n",
       " torch.Size([8, 1500]))"
      ]
     },
     "execution_count": 64,
     "metadata": {},
     "output_type": "execute_result"
    }
   ],
   "source": [
    "dists = (x[:, None, :] - X[None, ...]).square().sum(dim=-1).sqrt(); dists, dists.shape"
   ]
  },
  {
   "cell_type": "markdown",
   "metadata": {},
   "source": [
    "### Calculate Weights\n",
    "\n",
    "> Calculate weights for each point in the dataset by passing the\n",
    "> calculated distances through the normal distribution.\n",
    "\n",
    "We can simplify the guassian kernel to a triangular kernel and still\n",
    "achieve the same results, with less computation."
   ]
  },
  {
   "cell_type": "code",
   "execution_count": 65,
   "metadata": {
    "outputId": "caca92bc-a9e3-4c64-f965-3b9491d99eff"
   },
   "outputs": [
    {
     "data": {
      "image/png": "[encoded data removed]",
      "text/plain": [
       "<Figure size 640x480 with 1 Axes>"
      ]
     },
     "metadata": {},
     "output_type": "display_data"
    }
   ],
   "source": [
    "plot_func(partial(gauss_kernel, mean=0, std=2.5))"
   ]
  },
  {
   "cell_type": "code",
   "execution_count": 66,
   "metadata": {
    "outputId": "2636bbf2-25d0-478b-9641-3efda6386641"
   },
   "outputs": [
    {
     "data": {
      "image/png": "[encoded data removed]",
      "text/plain": [
       "<Figure size 640x480 with 1 Axes>"
      ]
     },
     "metadata": {},
     "output_type": "display_data"
    }
   ],
   "source": [
    "def tri_kernel(x, bw): return (-x+bw).clamp_min(0)/bw\n",
    "plot_func(partial(tri_kernel, bw=8))"
   ]
  },
  {
   "cell_type": "code",
   "execution_count": 67,
   "metadata": {
    "outputId": "127c9591-382c-432a-cc37-02360e528b2a"
   },
   "outputs": [
    {
     "name": "stdout",
     "output_type": "stream",
     "text": [
      "65.7 µs ± 565 ns per loop (mean ± std. dev. of 7 runs, 10,000 loops each)\n"
     ]
    }
   ],
   "source": [
    "%timeit gauss_kernel(dists, mean=0, std=2.5)"
   ]
  },
  {
   "cell_type": "code",
   "execution_count": 68,
   "metadata": {
    "outputId": "0df5d8d2-cc0c-45d5-f995-c8eb2f410dc2"
   },
   "outputs": [
    {
     "name": "stdout",
     "output_type": "stream",
     "text": [
      "12.4 µs ± 19.7 ns per loop (mean ± std. dev. of 7 runs, 100,000 loops each)\n"
     ]
    }
   ],
   "source": [
    "%timeit tri_kernel(dists, bw=8)"
   ]
  },
  {
   "cell_type": "code",
   "execution_count": 69,
   "metadata": {
    "outputId": "4ef3f96d-4360-4da7-e320-2bda8aace711"
   },
   "outputs": [
    {
     "data": {
      "text/plain": [
       "(tensor([[    0.160,     0.085,     0.053,  ...,     0.000,     0.000,     0.000],\n",
       "         [    0.085,     0.160,     0.136,  ...,     0.000,     0.000,     0.000],\n",
       "         [    0.053,     0.136,     0.160,  ...,     0.000,     0.000,     0.000],\n",
       "         ...,\n",
       "         [    0.147,     0.060,     0.030,  ...,     0.000,     0.000,     0.000],\n",
       "         [    0.095,     0.153,     0.142,  ...,     0.000,     0.000,     0.000],\n",
       "         [    0.060,     0.152,     0.151,  ...,     0.000,     0.000,     0.000]]),\n",
       " tensor([[1.000, 0.648, 0.536,  ..., 0.000, 0.000, 0.000],\n",
       "         [0.648, 1.000, 0.822,  ..., 0.000, 0.000, 0.000],\n",
       "         [0.536, 0.822, 1.000,  ..., 0.000, 0.000, 0.000],\n",
       "         ...,\n",
       "         [0.874, 0.565, 0.429,  ..., 0.000, 0.000, 0.000],\n",
       "         [0.683, 0.911, 0.849,  ..., 0.000, 0.000, 0.000],\n",
       "         [0.564, 0.903, 0.897,  ..., 0.000, 0.000, 0.000]]))"
      ]
     },
     "execution_count": 69,
     "metadata": {},
     "output_type": "execute_result"
    }
   ],
   "source": [
    "gauss_kernel(dists, mean=0, std=2.5), tri_kernel(dists, bw=8)"
   ]
  },
  {
   "cell_type": "code",
   "execution_count": 70,
   "metadata": {
    "outputId": "187c47ff-5490-447b-cb04-74cea23ed7d7"
   },
   "outputs": [
    {
     "data": {
      "text/plain": [
       "torch.Size([8, 1500])"
      ]
     },
     "execution_count": 70,
     "metadata": {},
     "output_type": "execute_result"
    }
   ],
   "source": [
    "ws = tri_kernel(dists, bw=8); ws.shape"
   ]
  },
  {
   "cell_type": "markdown",
   "metadata": {},
   "source": [
    "### Move the Points\n",
    "\n",
    "> Calculate the weighted average for all points in the dataset. This\n",
    "> weighted average is the new location for $x$"
   ]
  },
  {
   "cell_type": "code",
   "execution_count": 71,
   "metadata": {
    "outputId": "465577e9-8149-429a-f8d7-b99cdb9a6b75"
   },
   "outputs": [
    {
     "data": {
      "text/plain": [
       "(torch.Size([8, 1500]), torch.Size([1500, 2]))"
      ]
     },
     "execution_count": 71,
     "metadata": {},
     "output_type": "execute_result"
    }
   ],
   "source": [
    "ws.shape, X.shape"
   ]
  },
  {
   "cell_type": "code",
   "execution_count": 72,
   "metadata": {
    "outputId": "e88ca215-ce5c-4ca6-ab23-ec75488e3e05"
   },
   "outputs": [
    {
     "data": {
      "text/plain": [
       "(torch.Size([8, 1500, 1]), torch.Size([1, 1500, 2]))"
      ]
     },
     "execution_count": 72,
     "metadata": {},
     "output_type": "execute_result"
    }
   ],
   "source": [
    "ws[..., None].shape, X[None, ...].shape"
   ]
  },
  {
   "cell_type": "code",
   "execution_count": 73,
   "metadata": {
    "outputId": "1c7bcca1-2451-4cac-ab35-759bfb5d6e4b"
   },
   "outputs": [
    {
     "data": {
      "text/plain": [
       "torch.Size([8, 1500, 2])"
      ]
     },
     "execution_count": 73,
     "metadata": {},
     "output_type": "execute_result"
    }
   ],
   "source": [
    "(ws[..., None] * X[None, ...]).shape"
   ]
  },
  {
   "cell_type": "code",
   "execution_count": 74,
   "metadata": {
    "outputId": "47b18d2e-ac4c-4493-e11b-56a4adc2c2db"
   },
   "outputs": [
    {
     "data": {
      "text/plain": [
       "torch.Size([8, 2])"
      ]
     },
     "execution_count": 74,
     "metadata": {},
     "output_type": "execute_result"
    }
   ],
   "source": [
    "(ws[..., None] * X[None, ...]).sum(1).shape"
   ]
  },
  {
   "cell_type": "code",
   "execution_count": 75,
   "metadata": {
    "outputId": "56e57ce7-db81-45b2-c726-71bbd732223e"
   },
   "outputs": [
    {
     "name": "stdout",
     "output_type": "stream",
     "text": [
      "50.6 µs ± 95.5 ns per loop (mean ± std. dev. of 7 runs, 10,000 loops each)\n"
     ]
    }
   ],
   "source": [
    "%timeit (ws[..., None] * X[None, ...]).sum(1)"
   ]
  },
  {
   "cell_type": "markdown",
   "metadata": {},
   "source": [
    "Let’s have another look at formula for weighted average.\n",
    "\n",
    "$$\n",
    "\\frac{\\sum wx}{\\sum w}\n",
    "$$\n",
    "\n",
    "The numerator is actually the\n",
    "[definition](https://en.wikipedia.org/wiki/Matrix_multiplication#Definition)\n",
    "for matrix multiplication! Therefore we can speed up the operation above\n",
    "by using the `@` operator!"
   ]
  },
  {
   "cell_type": "code",
   "execution_count": 76,
   "metadata": {
    "outputId": "d5446510-a34e-4306-b8f1-c288239cdee4"
   },
   "outputs": [
    {
     "name": "stdout",
     "output_type": "stream",
     "text": [
      "3.98 µs ± 8.81 ns per loop (mean ± std. dev. of 7 runs, 100,000 loops each)\n"
     ]
    }
   ],
   "source": [
    "%timeit ws @ X"
   ]
  },
  {
   "cell_type": "markdown",
   "metadata": {},
   "source": [
    "A roughly 40% speed up!"
   ]
  },
  {
   "cell_type": "code",
   "execution_count": 77,
   "metadata": {
    "outputId": "3e424842-2d6f-46bd-940b-f8354c2ee50f"
   },
   "outputs": [
    {
     "data": {
      "text/plain": [
       "tensor([[27.116, 28.799],\n",
       "        [26.593, 29.235],\n",
       "        [26.214, 29.162],\n",
       "        [25.275, 28.947],\n",
       "        [26.708, 28.933],\n",
       "        [27.393, 28.825],\n",
       "        [26.534, 29.090],\n",
       "        [26.388, 29.278]])"
      ]
     },
     "execution_count": 77,
     "metadata": {},
     "output_type": "execute_result"
    }
   ],
   "source": [
    "x = (ws @ X) / ws.sum(dim=1, keepdim=True); x"
   ]
  },
  {
   "cell_type": "markdown",
   "metadata": {},
   "source": [
    "And there you have it! We performed this algorithm on 8 data points\n",
    "simultaneously!\n",
    "\n",
    "Let’s encapsulate the code so we can perform it over all data points and\n",
    "time it."
   ]
  },
  {
   "cell_type": "code",
   "execution_count": 78,
   "metadata": {},
   "outputs": [
    {
     "data": {
      "text/plain": [
       "\u001b[0;31mInit signature:\u001b[0m \u001b[0mslice\u001b[0m\u001b[0;34m(\u001b[0m\u001b[0mself\u001b[0m\u001b[0;34m,\u001b[0m \u001b[0;34m/\u001b[0m\u001b[0;34m,\u001b[0m \u001b[0;34m*\u001b[0m\u001b[0margs\u001b[0m\u001b[0;34m,\u001b[0m \u001b[0;34m**\u001b[0m\u001b[0mkwargs\u001b[0m\u001b[0;34m)\u001b[0m\u001b[0;34m\u001b[0m\u001b[0;34m\u001b[0m\u001b[0m\n",
       "\u001b[0;31mDocstring:\u001b[0m     \n",
       "slice(stop)\n",
       "slice(start, stop[, step])\n",
       "\n",
       "Create a slice object.  This is used for extended slicing (e.g. a[0:10:2]).\n",
       "\u001b[0;31mType:\u001b[0m           type\n",
       "\u001b[0;31mSubclasses:\u001b[0m     "
      ]
     },
     "metadata": {},
     "output_type": "display_data"
    }
   ],
   "source": [
    "?slice"
   ]
  },
  {
   "cell_type": "code",
   "execution_count": 79,
   "metadata": {
    "outputId": "4ed306fe-7dcf-4b87-ebe6-d85aa60cacee"
   },
   "outputs": [
    {
     "data": {
      "text/plain": [
       "8"
      ]
     },
     "execution_count": 79,
     "metadata": {},
     "output_type": "execute_result"
    }
   ],
   "source": [
    "bs"
   ]
  },
  {
   "cell_type": "code",
   "execution_count": 80,
   "metadata": {
    "outputId": "ad379ea0-6e44-4399-9116-183252f8bc62"
   },
   "outputs": [
    {
     "data": {
      "text/plain": [
       "1500"
      ]
     },
     "execution_count": 80,
     "metadata": {},
     "output_type": "execute_result"
    }
   ],
   "source": [
    "min(1508, 1500)"
   ]
  },
  {
   "cell_type": "code",
   "execution_count": 82,
   "metadata": {},
   "outputs": [],
   "source": [
    "X = data.clone()\n",
    "n = len(data)\n",
    "bs = 8\n",
    "for i in range(0, n, bs):\n",
    "    s = slice(i, min(i+bs, n))\n",
    "    dists = (X[s][:, None, :] - X[None, ...]).square().sum(dim=-1).sqrt()\n",
    "    ws = gauss_kernel(dists, mean=0, std=2.5)\n",
    "    X[s] = (ws @ X) / ws.sum(dim=1, keepdim=True)"
   ]
  },
  {
   "cell_type": "code",
   "execution_count": null,
   "metadata": {
    "outputId": "e2ca03ad-7beb-41ba-e4ca-f34895e08867"
   },
   "outputs": [],
   "source": [
    "plot_data(centroids+2, X, n_samples)"
   ]
  },
  {
   "cell_type": "code",
   "execution_count": null,
   "metadata": {},
   "outputs": [],
   "source": [
    "def update(X):\n",
    "  for i in range(0, n, bs):\n",
    "    s = slice(i, min(i+bs, n))\n",
    "    dists = (X[s][:, None, :] - X[None, ...]).square().sum(dim=-1).sqrt()\n",
    "    ws = egauss_kernel(dists, mean=0, std=2.5)\n",
    "    X[s] = (ws @ X) / ws.sum(dim=1, keepdim=True)\n",
    "\n",
    "def meanshift(data):\n",
    "   X = data.clone()\n",
    "   for _ in range(5): update(X)\n",
    "   return X"
   ]
  },
  {
   "cell_type": "code",
   "execution_count": 83,
   "metadata": {
    "outputId": "cb1266d6-5ea6-4d1d-f58f-7b9172438523"
   },
   "outputs": [
    {
     "data": {
      "image/png": "[encoded data removed]",
      "text/plain": [
       "<Figure size 640x480 with 1 Axes>"
      ]
     },
     "metadata": {},
     "output_type": "display_data"
    }
   ],
   "source": [
    "plot_data(centroids+2, meanshift(data), n_samples)"
   ]
  },
  {
   "cell_type": "code",
   "execution_count": 85,
   "metadata": {
    "outputId": "b07eb10b-8214-49ac-f806-48335d94b6fc"
   },
   "outputs": [
    {
     "name": "stdout",
     "output_type": "stream",
     "text": [
      "791 ms ± 17.2 ms per loop (mean ± std. dev. of 7 runs, 10 loops each)\n"
     ]
    }
   ],
   "source": [
    "%timeit -n 10 meanshift(data)"
   ]
  },
  {
   "cell_type": "markdown",
   "metadata": {},
   "source": [
    "From 1.5 seconds to 0.5 seconds! A 3x speed increase — very nice!\n",
    "\n",
    "Let’s move onto the GPU and now see what improvements we get."
   ]
  },
  {
   "cell_type": "code",
   "execution_count": 86,
   "metadata": {
    "outputId": "47d6d46b-663c-4a21-8ba2-59bca0438603"
   },
   "outputs": [
    {
     "name": "stdout",
     "output_type": "stream",
     "text": [
      "822 ms ± 10.8 ms per loop (mean ± std. dev. of 7 runs, 10 loops each)\n"
     ]
    }
   ],
   "source": [
    "def meanshift(data):\n",
    "   X = data.clone().to('cuda')\n",
    "   for _ in range(5): update(X)\n",
    "   return X.detach().cpu()\n",
    "\n",
    "%timeit -n 10 meanshift(data)"
   ]
  },
  {
   "cell_type": "markdown",
   "metadata": {},
   "source": [
    "0.5s to 0.25s — a 2x speed increase!\n",
    "\n",
    "## Conclusion\n",
    "\n",
    "Meanshift clustering simply involves moving points, by taking into\n",
    "account surrounding points, iteratively until they converge.\n",
    "\n",
    "If you have any comments, questions, suggestions, feedback, criticisms,\n",
    "or corrections, please do post them down in the comment section below!"
   ]
  }
 ],
 "metadata": {
  "kernelspec": {
   "display_name": "Python 3 (ipykernel)",
   "language": "python",
   "name": "python3"
  },
  "language_info": {
   "codemirror_mode": {
    "name": "ipython",
    "version": 3
   },
   "file_extension": ".py",
   "mimetype": "text/x-python",
   "name": "python",
   "nbconvert_exporter": "python",
   "pygments_lexer": "ipython3",
   "version": "3.10.12"
  }
 },
 "nbformat": 4,
 "nbformat_minor": 4
}
